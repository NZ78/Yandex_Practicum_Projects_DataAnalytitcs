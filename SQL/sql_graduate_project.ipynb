{
 "cells": [
  {
   "cell_type": "markdown",
   "metadata": {},
   "source": [
    "<font size=12> Описание данных и задание SQL</font>"
   ]
  },
  {
   "cell_type": "markdown",
   "metadata": {},
   "source": [
    "### Задания"
   ]
  },
  {
   "cell_type": "markdown",
   "metadata": {},
   "source": [
    "* Посчитайте, сколько книг вышло после 1 января 2000 года;\n",
    "* Для каждой книги посчитайте количество обзоров и среднюю оценку;\n",
    "* Определите издательство, которое выпустило наибольшее число книг толще 50 страниц — так вы исключите из анализа брошюры;\n",
    "* Определите автора с самой высокой средней оценкой книг — учитывайте только книги с 50 и более оценками;\n",
    "* Посчитайте среднее количество обзоров от пользователей, которые поставили больше 48 оценок."
   ]
  },
  {
   "cell_type": "markdown",
   "metadata": {},
   "source": [
    "### Базы данных. Описание"
   ]
  },
  {
   "cell_type": "markdown",
   "metadata": {},
   "source": [
    "<b>Таблица </b>books <br>\n",
    " Содержит данные о книгах:<br>\n",
    " book_id — идентификатор книги;<br>\n",
    " author_id — идентификатор автора;<br>\n",
    " title — название книги;<br>\n",
    " num_pages — количество страниц;<br>\n",
    " publication_date — дата публикации книги;<br>\n",
    " publisher_id — идентификатор издателя.<p></p>\n",
    "<b>Таблица</b> authors <br> \n",
    " Содержит данные об авторах:<br>\n",
    " author_id — идентификатор автора;<br>\n",
    " author — имя автора. <p></p>\n",
    "<b>Таблица </b> publishers <br>\n",
    " Содержит данные об издательствах:<br>\n",
    " publisher_id — идентификатор издательства;<br>\n",
    " publisher — название издательства; <p></p>\n",
    "<b>Таблица </b>ratings <br>\n",
    " Содержит данные о пользовательских оценках книг:<br>\n",
    " rating_id — идентификатор оценки;<br>\n",
    " book_id — идентификатор книги;<br>\n",
    " username — имя пользователя, оставившего оценку;<br>\n",
    " rating — оценка книги.<p></p>\n",
    "<b>Таблица</b> reviews <br>\n",
    " Содержит данные о пользовательских обзорах на книги:<br>\n",
    " review_id — идентификатор обзора;<br>\n",
    " book_id — идентификатор книги;<br>\n",
    " username — имя пользователя, написавшего обзор;<br>\n",
    " text — текст обзора."
   ]
  },
  {
   "cell_type": "code",
   "execution_count": 1,
   "metadata": {},
   "outputs": [],
   "source": [
    "# импортируем библиотеки\n",
    "import pandas as pd\n",
    "from sqlalchemy import text, create_engine\n",
    "import sqlalchemy as sa\n",
    "import sqlite3"
   ]
  },
  {
   "cell_type": "code",
   "execution_count": 2,
   "metadata": {},
   "outputs": [],
   "source": [
    "# устанавливаем параметры\n",
    "db_config = {'user': 'praktikum_student', # имя пользователя\n",
    "'pwd': 'Sdf4$2;d-d30pp', # пароль\n",
    "'host': 'rc1b-wcoijxj3yxfsf3fs.mdb.yandexcloud.net',\n",
    "'port': 6432, # порт подключения\n",
    "'db': 'data-analyst-final-project-db'} # название базы данных\n",
    "connection_string = 'postgresql://{user}:{pwd}@{host}:{port}/{db}'.format(**db_config)\n",
    "# сохраняем коннектор\n",
    "engine = create_engine(connection_string, connect_args={'sslmode':'require'})\n",
    "\n",
    "# чтобы выполнить SQL-запрос, пишем функцию с использованием Pandas \n",
    "def get_sql_data(query:str, engine:sa.engine.base.Engine=engine) -> pd.DataFrame: \n",
    "    '''Открываем соединение, получаем данные из sql, закрываем соединение''' \n",
    "    with engine.connect() as con: \n",
    "        return pd.read_sql(sql=sa.text(query), con = con) \n",
    "    # формируем запрос и выводим данные \n",
    "    query = '''SELECT * FROM books LIMIT 5''' \n",
    "    get_sql_data(query)"
   ]
  },
  {
   "cell_type": "code",
   "execution_count": 3,
   "metadata": {},
   "outputs": [],
   "source": [
    "# функция для выполнения запроса к таблице\n",
    "def query_table(table_name: str) -> pd.DataFrame:\n",
    "    query = f'''SELECT * FROM {table_name} LIMIT 5'''\n",
    "    return get_sql_data(query)"
   ]
  },
  {
   "cell_type": "code",
   "execution_count": 4,
   "metadata": {},
   "outputs": [
    {
     "data": {
      "text/html": [
       "<div>\n",
       "<style scoped>\n",
       "    .dataframe tbody tr th:only-of-type {\n",
       "        vertical-align: middle;\n",
       "    }\n",
       "\n",
       "    .dataframe tbody tr th {\n",
       "        vertical-align: top;\n",
       "    }\n",
       "\n",
       "    .dataframe thead th {\n",
       "        text-align: right;\n",
       "    }\n",
       "</style>\n",
       "<table border=\"1\" class=\"dataframe\">\n",
       "  <thead>\n",
       "    <tr style=\"text-align: right;\">\n",
       "      <th></th>\n",
       "      <th>book_id</th>\n",
       "      <th>author_id</th>\n",
       "      <th>title</th>\n",
       "      <th>num_pages</th>\n",
       "      <th>publication_date</th>\n",
       "      <th>publisher_id</th>\n",
       "    </tr>\n",
       "  </thead>\n",
       "  <tbody>\n",
       "    <tr>\n",
       "      <th>0</th>\n",
       "      <td>1</td>\n",
       "      <td>546</td>\n",
       "      <td>'Salem's Lot</td>\n",
       "      <td>594</td>\n",
       "      <td>2005-11-01</td>\n",
       "      <td>93</td>\n",
       "    </tr>\n",
       "    <tr>\n",
       "      <th>1</th>\n",
       "      <td>2</td>\n",
       "      <td>465</td>\n",
       "      <td>1 000 Places to See Before You Die</td>\n",
       "      <td>992</td>\n",
       "      <td>2003-05-22</td>\n",
       "      <td>336</td>\n",
       "    </tr>\n",
       "    <tr>\n",
       "      <th>2</th>\n",
       "      <td>3</td>\n",
       "      <td>407</td>\n",
       "      <td>13 Little Blue Envelopes (Little Blue Envelope...</td>\n",
       "      <td>322</td>\n",
       "      <td>2010-12-21</td>\n",
       "      <td>135</td>\n",
       "    </tr>\n",
       "    <tr>\n",
       "      <th>3</th>\n",
       "      <td>4</td>\n",
       "      <td>82</td>\n",
       "      <td>1491: New Revelations of the Americas Before C...</td>\n",
       "      <td>541</td>\n",
       "      <td>2006-10-10</td>\n",
       "      <td>309</td>\n",
       "    </tr>\n",
       "    <tr>\n",
       "      <th>4</th>\n",
       "      <td>5</td>\n",
       "      <td>125</td>\n",
       "      <td>1776</td>\n",
       "      <td>386</td>\n",
       "      <td>2006-07-04</td>\n",
       "      <td>268</td>\n",
       "    </tr>\n",
       "  </tbody>\n",
       "</table>\n",
       "</div>"
      ],
      "text/plain": [
       "   book_id  author_id                                              title  \\\n",
       "0        1        546                                       'Salem's Lot   \n",
       "1        2        465                 1 000 Places to See Before You Die   \n",
       "2        3        407  13 Little Blue Envelopes (Little Blue Envelope...   \n",
       "3        4         82  1491: New Revelations of the Americas Before C...   \n",
       "4        5        125                                               1776   \n",
       "\n",
       "   num_pages publication_date  publisher_id  \n",
       "0        594       2005-11-01            93  \n",
       "1        992       2003-05-22           336  \n",
       "2        322       2010-12-21           135  \n",
       "3        541       2006-10-10           309  \n",
       "4        386       2006-07-04           268  "
      ]
     },
     "execution_count": 4,
     "metadata": {},
     "output_type": "execute_result"
    }
   ],
   "source": [
    "query_table('books')"
   ]
  },
  {
   "cell_type": "code",
   "execution_count": 5,
   "metadata": {},
   "outputs": [
    {
     "name": "stdout",
     "output_type": "stream",
     "text": [
      "Количество строк в таблице books:\n"
     ]
    },
    {
     "data": {
      "text/html": [
       "<div>\n",
       "<style scoped>\n",
       "    .dataframe tbody tr th:only-of-type {\n",
       "        vertical-align: middle;\n",
       "    }\n",
       "\n",
       "    .dataframe tbody tr th {\n",
       "        vertical-align: top;\n",
       "    }\n",
       "\n",
       "    .dataframe thead th {\n",
       "        text-align: right;\n",
       "    }\n",
       "</style>\n",
       "<table border=\"1\" class=\"dataframe\">\n",
       "  <thead>\n",
       "    <tr style=\"text-align: right;\">\n",
       "      <th></th>\n",
       "      <th>count</th>\n",
       "    </tr>\n",
       "  </thead>\n",
       "  <tbody>\n",
       "    <tr>\n",
       "      <th>0</th>\n",
       "      <td>1000</td>\n",
       "    </tr>\n",
       "  </tbody>\n",
       "</table>\n",
       "</div>"
      ],
      "text/plain": [
       "   count\n",
       "0   1000"
      ]
     },
     "execution_count": 5,
     "metadata": {},
     "output_type": "execute_result"
    }
   ],
   "source": [
    "query = '''SELECT COUNT(*) FROM books LIMIT 5'''\n",
    "print('Количество строк в таблице books:')\n",
    "get_sql_data(query)"
   ]
  },
  {
   "cell_type": "code",
   "execution_count": 6,
   "metadata": {},
   "outputs": [
    {
     "data": {
      "text/html": [
       "<div>\n",
       "<style scoped>\n",
       "    .dataframe tbody tr th:only-of-type {\n",
       "        vertical-align: middle;\n",
       "    }\n",
       "\n",
       "    .dataframe tbody tr th {\n",
       "        vertical-align: top;\n",
       "    }\n",
       "\n",
       "    .dataframe thead th {\n",
       "        text-align: right;\n",
       "    }\n",
       "</style>\n",
       "<table border=\"1\" class=\"dataframe\">\n",
       "  <thead>\n",
       "    <tr style=\"text-align: right;\">\n",
       "      <th></th>\n",
       "      <th>author_id</th>\n",
       "      <th>author</th>\n",
       "    </tr>\n",
       "  </thead>\n",
       "  <tbody>\n",
       "    <tr>\n",
       "      <th>0</th>\n",
       "      <td>1</td>\n",
       "      <td>A.S. Byatt</td>\n",
       "    </tr>\n",
       "    <tr>\n",
       "      <th>1</th>\n",
       "      <td>2</td>\n",
       "      <td>Aesop/Laura Harris/Laura Gibbs</td>\n",
       "    </tr>\n",
       "    <tr>\n",
       "      <th>2</th>\n",
       "      <td>3</td>\n",
       "      <td>Agatha Christie</td>\n",
       "    </tr>\n",
       "    <tr>\n",
       "      <th>3</th>\n",
       "      <td>4</td>\n",
       "      <td>Alan Brennert</td>\n",
       "    </tr>\n",
       "    <tr>\n",
       "      <th>4</th>\n",
       "      <td>5</td>\n",
       "      <td>Alan Moore/David   Lloyd</td>\n",
       "    </tr>\n",
       "  </tbody>\n",
       "</table>\n",
       "</div>"
      ],
      "text/plain": [
       "   author_id                          author\n",
       "0          1                      A.S. Byatt\n",
       "1          2  Aesop/Laura Harris/Laura Gibbs\n",
       "2          3                 Agatha Christie\n",
       "3          4                   Alan Brennert\n",
       "4          5        Alan Moore/David   Lloyd"
      ]
     },
     "execution_count": 6,
     "metadata": {},
     "output_type": "execute_result"
    }
   ],
   "source": [
    "query_table('authors')"
   ]
  },
  {
   "cell_type": "code",
   "execution_count": 7,
   "metadata": {},
   "outputs": [
    {
     "name": "stdout",
     "output_type": "stream",
     "text": [
      "Количество строк в таблице authors:\n"
     ]
    },
    {
     "data": {
      "text/html": [
       "<div>\n",
       "<style scoped>\n",
       "    .dataframe tbody tr th:only-of-type {\n",
       "        vertical-align: middle;\n",
       "    }\n",
       "\n",
       "    .dataframe tbody tr th {\n",
       "        vertical-align: top;\n",
       "    }\n",
       "\n",
       "    .dataframe thead th {\n",
       "        text-align: right;\n",
       "    }\n",
       "</style>\n",
       "<table border=\"1\" class=\"dataframe\">\n",
       "  <thead>\n",
       "    <tr style=\"text-align: right;\">\n",
       "      <th></th>\n",
       "      <th>count</th>\n",
       "    </tr>\n",
       "  </thead>\n",
       "  <tbody>\n",
       "    <tr>\n",
       "      <th>0</th>\n",
       "      <td>636</td>\n",
       "    </tr>\n",
       "  </tbody>\n",
       "</table>\n",
       "</div>"
      ],
      "text/plain": [
       "   count\n",
       "0    636"
      ]
     },
     "execution_count": 7,
     "metadata": {},
     "output_type": "execute_result"
    }
   ],
   "source": [
    "query = '''SELECT COUNT(*) FROM authors LIMIT 5'''\n",
    "print('Количество строк в таблице authors:')\n",
    "get_sql_data(query)"
   ]
  },
  {
   "cell_type": "code",
   "execution_count": 8,
   "metadata": {},
   "outputs": [
    {
     "data": {
      "text/html": [
       "<div>\n",
       "<style scoped>\n",
       "    .dataframe tbody tr th:only-of-type {\n",
       "        vertical-align: middle;\n",
       "    }\n",
       "\n",
       "    .dataframe tbody tr th {\n",
       "        vertical-align: top;\n",
       "    }\n",
       "\n",
       "    .dataframe thead th {\n",
       "        text-align: right;\n",
       "    }\n",
       "</style>\n",
       "<table border=\"1\" class=\"dataframe\">\n",
       "  <thead>\n",
       "    <tr style=\"text-align: right;\">\n",
       "      <th></th>\n",
       "      <th>publisher_id</th>\n",
       "      <th>publisher</th>\n",
       "    </tr>\n",
       "  </thead>\n",
       "  <tbody>\n",
       "    <tr>\n",
       "      <th>0</th>\n",
       "      <td>1</td>\n",
       "      <td>Ace</td>\n",
       "    </tr>\n",
       "    <tr>\n",
       "      <th>1</th>\n",
       "      <td>2</td>\n",
       "      <td>Ace Book</td>\n",
       "    </tr>\n",
       "    <tr>\n",
       "      <th>2</th>\n",
       "      <td>3</td>\n",
       "      <td>Ace Books</td>\n",
       "    </tr>\n",
       "    <tr>\n",
       "      <th>3</th>\n",
       "      <td>4</td>\n",
       "      <td>Ace Hardcover</td>\n",
       "    </tr>\n",
       "    <tr>\n",
       "      <th>4</th>\n",
       "      <td>5</td>\n",
       "      <td>Addison Wesley Publishing Company</td>\n",
       "    </tr>\n",
       "  </tbody>\n",
       "</table>\n",
       "</div>"
      ],
      "text/plain": [
       "   publisher_id                          publisher\n",
       "0             1                                Ace\n",
       "1             2                           Ace Book\n",
       "2             3                          Ace Books\n",
       "3             4                      Ace Hardcover\n",
       "4             5  Addison Wesley Publishing Company"
      ]
     },
     "execution_count": 8,
     "metadata": {},
     "output_type": "execute_result"
    }
   ],
   "source": [
    "query_table('publishers')"
   ]
  },
  {
   "cell_type": "code",
   "execution_count": 9,
   "metadata": {},
   "outputs": [
    {
     "name": "stdout",
     "output_type": "stream",
     "text": [
      "Количество строк в таблице publishers:\n"
     ]
    },
    {
     "data": {
      "text/html": [
       "<div>\n",
       "<style scoped>\n",
       "    .dataframe tbody tr th:only-of-type {\n",
       "        vertical-align: middle;\n",
       "    }\n",
       "\n",
       "    .dataframe tbody tr th {\n",
       "        vertical-align: top;\n",
       "    }\n",
       "\n",
       "    .dataframe thead th {\n",
       "        text-align: right;\n",
       "    }\n",
       "</style>\n",
       "<table border=\"1\" class=\"dataframe\">\n",
       "  <thead>\n",
       "    <tr style=\"text-align: right;\">\n",
       "      <th></th>\n",
       "      <th>count</th>\n",
       "    </tr>\n",
       "  </thead>\n",
       "  <tbody>\n",
       "    <tr>\n",
       "      <th>0</th>\n",
       "      <td>340</td>\n",
       "    </tr>\n",
       "  </tbody>\n",
       "</table>\n",
       "</div>"
      ],
      "text/plain": [
       "   count\n",
       "0    340"
      ]
     },
     "execution_count": 9,
     "metadata": {},
     "output_type": "execute_result"
    }
   ],
   "source": [
    "query = '''SELECT COUNT(*) FROM publishers LIMIT 5'''\n",
    "print('Количество строк в таблице publishers:')\n",
    "get_sql_data(query)"
   ]
  },
  {
   "cell_type": "code",
   "execution_count": 10,
   "metadata": {},
   "outputs": [
    {
     "data": {
      "text/html": [
       "<div>\n",
       "<style scoped>\n",
       "    .dataframe tbody tr th:only-of-type {\n",
       "        vertical-align: middle;\n",
       "    }\n",
       "\n",
       "    .dataframe tbody tr th {\n",
       "        vertical-align: top;\n",
       "    }\n",
       "\n",
       "    .dataframe thead th {\n",
       "        text-align: right;\n",
       "    }\n",
       "</style>\n",
       "<table border=\"1\" class=\"dataframe\">\n",
       "  <thead>\n",
       "    <tr style=\"text-align: right;\">\n",
       "      <th></th>\n",
       "      <th>rating_id</th>\n",
       "      <th>book_id</th>\n",
       "      <th>username</th>\n",
       "      <th>rating</th>\n",
       "    </tr>\n",
       "  </thead>\n",
       "  <tbody>\n",
       "    <tr>\n",
       "      <th>0</th>\n",
       "      <td>1</td>\n",
       "      <td>1</td>\n",
       "      <td>ryanfranco</td>\n",
       "      <td>4</td>\n",
       "    </tr>\n",
       "    <tr>\n",
       "      <th>1</th>\n",
       "      <td>2</td>\n",
       "      <td>1</td>\n",
       "      <td>grantpatricia</td>\n",
       "      <td>2</td>\n",
       "    </tr>\n",
       "    <tr>\n",
       "      <th>2</th>\n",
       "      <td>3</td>\n",
       "      <td>1</td>\n",
       "      <td>brandtandrea</td>\n",
       "      <td>5</td>\n",
       "    </tr>\n",
       "    <tr>\n",
       "      <th>3</th>\n",
       "      <td>4</td>\n",
       "      <td>2</td>\n",
       "      <td>lorichen</td>\n",
       "      <td>3</td>\n",
       "    </tr>\n",
       "    <tr>\n",
       "      <th>4</th>\n",
       "      <td>5</td>\n",
       "      <td>2</td>\n",
       "      <td>mariokeller</td>\n",
       "      <td>2</td>\n",
       "    </tr>\n",
       "  </tbody>\n",
       "</table>\n",
       "</div>"
      ],
      "text/plain": [
       "   rating_id  book_id       username  rating\n",
       "0          1        1     ryanfranco       4\n",
       "1          2        1  grantpatricia       2\n",
       "2          3        1   brandtandrea       5\n",
       "3          4        2       lorichen       3\n",
       "4          5        2    mariokeller       2"
      ]
     },
     "execution_count": 10,
     "metadata": {},
     "output_type": "execute_result"
    }
   ],
   "source": [
    "query_table('ratings')"
   ]
  },
  {
   "cell_type": "code",
   "execution_count": 11,
   "metadata": {},
   "outputs": [
    {
     "name": "stdout",
     "output_type": "stream",
     "text": [
      "Количество строк в таблице ratings:\n"
     ]
    },
    {
     "data": {
      "text/html": [
       "<div>\n",
       "<style scoped>\n",
       "    .dataframe tbody tr th:only-of-type {\n",
       "        vertical-align: middle;\n",
       "    }\n",
       "\n",
       "    .dataframe tbody tr th {\n",
       "        vertical-align: top;\n",
       "    }\n",
       "\n",
       "    .dataframe thead th {\n",
       "        text-align: right;\n",
       "    }\n",
       "</style>\n",
       "<table border=\"1\" class=\"dataframe\">\n",
       "  <thead>\n",
       "    <tr style=\"text-align: right;\">\n",
       "      <th></th>\n",
       "      <th>count</th>\n",
       "    </tr>\n",
       "  </thead>\n",
       "  <tbody>\n",
       "    <tr>\n",
       "      <th>0</th>\n",
       "      <td>6456</td>\n",
       "    </tr>\n",
       "  </tbody>\n",
       "</table>\n",
       "</div>"
      ],
      "text/plain": [
       "   count\n",
       "0   6456"
      ]
     },
     "execution_count": 11,
     "metadata": {},
     "output_type": "execute_result"
    }
   ],
   "source": [
    "query = '''SELECT COUNT(*) FROM ratings LIMIT 5'''\n",
    "print('Количество строк в таблице ratings:')\n",
    "get_sql_data(query)"
   ]
  },
  {
   "cell_type": "code",
   "execution_count": 12,
   "metadata": {},
   "outputs": [
    {
     "data": {
      "text/html": [
       "<div>\n",
       "<style scoped>\n",
       "    .dataframe tbody tr th:only-of-type {\n",
       "        vertical-align: middle;\n",
       "    }\n",
       "\n",
       "    .dataframe tbody tr th {\n",
       "        vertical-align: top;\n",
       "    }\n",
       "\n",
       "    .dataframe thead th {\n",
       "        text-align: right;\n",
       "    }\n",
       "</style>\n",
       "<table border=\"1\" class=\"dataframe\">\n",
       "  <thead>\n",
       "    <tr style=\"text-align: right;\">\n",
       "      <th></th>\n",
       "      <th>review_id</th>\n",
       "      <th>book_id</th>\n",
       "      <th>username</th>\n",
       "      <th>text</th>\n",
       "    </tr>\n",
       "  </thead>\n",
       "  <tbody>\n",
       "    <tr>\n",
       "      <th>0</th>\n",
       "      <td>1</td>\n",
       "      <td>1</td>\n",
       "      <td>brandtandrea</td>\n",
       "      <td>Mention society tell send professor analysis. ...</td>\n",
       "    </tr>\n",
       "    <tr>\n",
       "      <th>1</th>\n",
       "      <td>2</td>\n",
       "      <td>1</td>\n",
       "      <td>ryanfranco</td>\n",
       "      <td>Foot glass pretty audience hit themselves. Amo...</td>\n",
       "    </tr>\n",
       "    <tr>\n",
       "      <th>2</th>\n",
       "      <td>3</td>\n",
       "      <td>2</td>\n",
       "      <td>lorichen</td>\n",
       "      <td>Listen treat keep worry. Miss husband tax but ...</td>\n",
       "    </tr>\n",
       "    <tr>\n",
       "      <th>3</th>\n",
       "      <td>4</td>\n",
       "      <td>3</td>\n",
       "      <td>johnsonamanda</td>\n",
       "      <td>Finally month interesting blue could nature cu...</td>\n",
       "    </tr>\n",
       "    <tr>\n",
       "      <th>4</th>\n",
       "      <td>5</td>\n",
       "      <td>3</td>\n",
       "      <td>scotttamara</td>\n",
       "      <td>Nation purpose heavy give wait song will. List...</td>\n",
       "    </tr>\n",
       "  </tbody>\n",
       "</table>\n",
       "</div>"
      ],
      "text/plain": [
       "   review_id  book_id       username  \\\n",
       "0          1        1   brandtandrea   \n",
       "1          2        1     ryanfranco   \n",
       "2          3        2       lorichen   \n",
       "3          4        3  johnsonamanda   \n",
       "4          5        3    scotttamara   \n",
       "\n",
       "                                                text  \n",
       "0  Mention society tell send professor analysis. ...  \n",
       "1  Foot glass pretty audience hit themselves. Amo...  \n",
       "2  Listen treat keep worry. Miss husband tax but ...  \n",
       "3  Finally month interesting blue could nature cu...  \n",
       "4  Nation purpose heavy give wait song will. List...  "
      ]
     },
     "execution_count": 12,
     "metadata": {},
     "output_type": "execute_result"
    }
   ],
   "source": [
    "query_table('reviews')"
   ]
  },
  {
   "cell_type": "code",
   "execution_count": 13,
   "metadata": {},
   "outputs": [
    {
     "name": "stdout",
     "output_type": "stream",
     "text": [
      "Количество строк в таблице reviews:\n"
     ]
    },
    {
     "data": {
      "text/html": [
       "<div>\n",
       "<style scoped>\n",
       "    .dataframe tbody tr th:only-of-type {\n",
       "        vertical-align: middle;\n",
       "    }\n",
       "\n",
       "    .dataframe tbody tr th {\n",
       "        vertical-align: top;\n",
       "    }\n",
       "\n",
       "    .dataframe thead th {\n",
       "        text-align: right;\n",
       "    }\n",
       "</style>\n",
       "<table border=\"1\" class=\"dataframe\">\n",
       "  <thead>\n",
       "    <tr style=\"text-align: right;\">\n",
       "      <th></th>\n",
       "      <th>count</th>\n",
       "    </tr>\n",
       "  </thead>\n",
       "  <tbody>\n",
       "    <tr>\n",
       "      <th>0</th>\n",
       "      <td>2793</td>\n",
       "    </tr>\n",
       "  </tbody>\n",
       "</table>\n",
       "</div>"
      ],
      "text/plain": [
       "   count\n",
       "0   2793"
      ]
     },
     "execution_count": 13,
     "metadata": {},
     "output_type": "execute_result"
    }
   ],
   "source": [
    "query = '''SELECT COUNT(*) FROM reviews LIMIT 5'''\n",
    "print('Количество строк в таблице reviews:')\n",
    "get_sql_data(query)"
   ]
  },
  {
   "cell_type": "markdown",
   "metadata": {},
   "source": [
    "### Сколько книг вышло с 01.01.2000 г"
   ]
  },
  {
   "cell_type": "code",
   "execution_count": 14,
   "metadata": {},
   "outputs": [
    {
     "name": "stdout",
     "output_type": "stream",
     "text": [
      "   num_books\n",
      "0        819\n"
     ]
    }
   ],
   "source": [
    "query = '''\n",
    "SELECT COUNT(*) as num_books\n",
    "FROM books\n",
    "WHERE publication_date > '2000-01-01';\n",
    "'''\n",
    "\n",
    "result = get_sql_data(query)\n",
    "\n",
    "num_books = pd.DataFrame(result)\n",
    "print(num_books)"
   ]
  },
  {
   "cell_type": "markdown",
   "metadata": {},
   "source": [
    "<font color=blue> С 01 января 2000 года вышло 819 книг. </font>"
   ]
  },
  {
   "cell_type": "markdown",
   "metadata": {},
   "source": [
    "### Количество обзоров и средняя оценка"
   ]
  },
  {
   "cell_type": "markdown",
   "metadata": {},
   "source": [
    "Для каждой книги посчитайте количество обзоров и среднюю оценку."
   ]
  },
  {
   "cell_type": "code",
   "execution_count": 15,
   "metadata": {},
   "outputs": [
    {
     "data": {
      "text/html": [
       "<div>\n",
       "<style scoped>\n",
       "    .dataframe tbody tr th:only-of-type {\n",
       "        vertical-align: middle;\n",
       "    }\n",
       "\n",
       "    .dataframe tbody tr th {\n",
       "        vertical-align: top;\n",
       "    }\n",
       "\n",
       "    .dataframe thead th {\n",
       "        text-align: right;\n",
       "    }\n",
       "</style>\n",
       "<table border=\"1\" class=\"dataframe\">\n",
       "  <thead>\n",
       "    <tr style=\"text-align: right;\">\n",
       "      <th></th>\n",
       "      <th>index</th>\n",
       "      <th>book_id</th>\n",
       "      <th>title</th>\n",
       "      <th>num_reviews</th>\n",
       "      <th>avg_rating</th>\n",
       "    </tr>\n",
       "  </thead>\n",
       "  <tbody>\n",
       "    <tr>\n",
       "      <th>0</th>\n",
       "      <td>947</td>\n",
       "      <td>948</td>\n",
       "      <td>Twilight (Twilight  #1)</td>\n",
       "      <td>7</td>\n",
       "      <td>3.66</td>\n",
       "    </tr>\n",
       "    <tr>\n",
       "      <th>1</th>\n",
       "      <td>962</td>\n",
       "      <td>963</td>\n",
       "      <td>Water for Elephants</td>\n",
       "      <td>6</td>\n",
       "      <td>3.98</td>\n",
       "    </tr>\n",
       "    <tr>\n",
       "      <th>2</th>\n",
       "      <td>732</td>\n",
       "      <td>733</td>\n",
       "      <td>The Giver (The Giver  #1)</td>\n",
       "      <td>6</td>\n",
       "      <td>3.75</td>\n",
       "    </tr>\n",
       "    <tr>\n",
       "      <th>3</th>\n",
       "      <td>749</td>\n",
       "      <td>750</td>\n",
       "      <td>The Hobbit  or There and Back Again</td>\n",
       "      <td>6</td>\n",
       "      <td>4.13</td>\n",
       "    </tr>\n",
       "    <tr>\n",
       "      <th>4</th>\n",
       "      <td>626</td>\n",
       "      <td>627</td>\n",
       "      <td>The Alchemist</td>\n",
       "      <td>6</td>\n",
       "      <td>3.79</td>\n",
       "    </tr>\n",
       "    <tr>\n",
       "      <th>...</th>\n",
       "      <td>...</td>\n",
       "      <td>...</td>\n",
       "      <td>...</td>\n",
       "      <td>...</td>\n",
       "      <td>...</td>\n",
       "    </tr>\n",
       "    <tr>\n",
       "      <th>995</th>\n",
       "      <td>807</td>\n",
       "      <td>808</td>\n",
       "      <td>The Natural Way to Draw</td>\n",
       "      <td>0</td>\n",
       "      <td>3.00</td>\n",
       "    </tr>\n",
       "    <tr>\n",
       "      <th>996</th>\n",
       "      <td>190</td>\n",
       "      <td>191</td>\n",
       "      <td>Disney's Beauty and the Beast (A Little Golden...</td>\n",
       "      <td>0</td>\n",
       "      <td>4.00</td>\n",
       "    </tr>\n",
       "    <tr>\n",
       "      <th>997</th>\n",
       "      <td>220</td>\n",
       "      <td>221</td>\n",
       "      <td>Essential Tales and Poems</td>\n",
       "      <td>0</td>\n",
       "      <td>4.00</td>\n",
       "    </tr>\n",
       "    <tr>\n",
       "      <th>998</th>\n",
       "      <td>386</td>\n",
       "      <td>387</td>\n",
       "      <td>Leonardo's Notebooks</td>\n",
       "      <td>0</td>\n",
       "      <td>4.00</td>\n",
       "    </tr>\n",
       "    <tr>\n",
       "      <th>999</th>\n",
       "      <td>82</td>\n",
       "      <td>83</td>\n",
       "      <td>Anne Rice's The Vampire Lestat: A Graphic Novel</td>\n",
       "      <td>0</td>\n",
       "      <td>3.67</td>\n",
       "    </tr>\n",
       "  </tbody>\n",
       "</table>\n",
       "<p>1000 rows × 5 columns</p>\n",
       "</div>"
      ],
      "text/plain": [
       "     index  book_id                                              title  \\\n",
       "0      947      948                            Twilight (Twilight  #1)   \n",
       "1      962      963                                Water for Elephants   \n",
       "2      732      733                          The Giver (The Giver  #1)   \n",
       "3      749      750                The Hobbit  or There and Back Again   \n",
       "4      626      627                                      The Alchemist   \n",
       "..     ...      ...                                                ...   \n",
       "995    807      808                            The Natural Way to Draw   \n",
       "996    190      191  Disney's Beauty and the Beast (A Little Golden...   \n",
       "997    220      221                          Essential Tales and Poems   \n",
       "998    386      387                               Leonardo's Notebooks   \n",
       "999     82       83    Anne Rice's The Vampire Lestat: A Graphic Novel   \n",
       "\n",
       "     num_reviews  avg_rating  \n",
       "0              7        3.66  \n",
       "1              6        3.98  \n",
       "2              6        3.75  \n",
       "3              6        4.13  \n",
       "4              6        3.79  \n",
       "..           ...         ...  \n",
       "995            0        3.00  \n",
       "996            0        4.00  \n",
       "997            0        4.00  \n",
       "998            0        4.00  \n",
       "999            0        3.67  \n",
       "\n",
       "[1000 rows x 5 columns]"
      ]
     },
     "metadata": {},
     "output_type": "display_data"
    },
    {
     "name": "stdout",
     "output_type": "stream",
     "text": [
      "Суммарное количество отзывов: 2793\n"
     ]
    }
   ],
   "source": [
    "query = '''\n",
    "SELECT \n",
    "    b.book_id,\n",
    "    b.title,\n",
    "    COUNT(DISTINCT rw.review_id) AS num_reviews, \n",
    "    ROUND(AVG(rt.rating), 2) AS avg_rating\n",
    "FROM \n",
    "    books b\n",
    "LEFT JOIN \n",
    "    reviews rw ON b.book_id = rw.book_id\n",
    "LEFT JOIN \n",
    "    ratings rt ON b.book_id = rt.book_id\n",
    "GROUP BY \n",
    "    b.book_id, b.title;\n",
    "'''\n",
    "\n",
    "result = get_sql_data(query)\n",
    "rating = pd.DataFrame(result)\n",
    "rating = rating.sort_values(by='num_reviews', ascending=False).reset_index()\n",
    "# display(rating)\n",
    "\n",
    "# Суммарное количество отзывов\n",
    "total_reviews = rating['num_reviews'].sum()\n",
    "\n",
    "display(rating)\n",
    "\n",
    "print(f\"Суммарное количество отзывов: {total_reviews}\")"
   ]
  },
  {
   "cell_type": "markdown",
   "metadata": {},
   "source": [
    "### Издательство, выпустившее наибольшее число книг с 50+ страницами"
   ]
  },
  {
   "cell_type": "markdown",
   "metadata": {},
   "source": [
    "Определите издательство, которое выпустило наибольшее число книг толще 50 страниц..."
   ]
  },
  {
   "cell_type": "code",
   "execution_count": 16,
   "metadata": {},
   "outputs": [
    {
     "name": "stdout",
     "output_type": "stream",
     "text": [
      "Издательство, которое выпустило наибольшее число книг толще 50 страниц:\n"
     ]
    },
    {
     "data": {
      "text/html": [
       "<div>\n",
       "<style scoped>\n",
       "    .dataframe tbody tr th:only-of-type {\n",
       "        vertical-align: middle;\n",
       "    }\n",
       "\n",
       "    .dataframe tbody tr th {\n",
       "        vertical-align: top;\n",
       "    }\n",
       "\n",
       "    .dataframe thead th {\n",
       "        text-align: right;\n",
       "    }\n",
       "</style>\n",
       "<table border=\"1\" class=\"dataframe\">\n",
       "  <thead>\n",
       "    <tr style=\"text-align: right;\">\n",
       "      <th></th>\n",
       "      <th>publisher</th>\n",
       "      <th>num_books</th>\n",
       "    </tr>\n",
       "  </thead>\n",
       "  <tbody>\n",
       "    <tr>\n",
       "      <th>0</th>\n",
       "      <td>Penguin Books</td>\n",
       "      <td>42</td>\n",
       "    </tr>\n",
       "  </tbody>\n",
       "</table>\n",
       "</div>"
      ],
      "text/plain": [
       "       publisher  num_books\n",
       "0  Penguin Books         42"
      ]
     },
     "metadata": {},
     "output_type": "display_data"
    }
   ],
   "source": [
    "query = '''\n",
    "SELECT \n",
    "    p.publisher, \n",
    "    COUNT(b.book_id) AS num_books\n",
    "FROM \n",
    "    books b\n",
    "JOIN \n",
    "    publishers p ON b.publisher_id = p.publisher_id\n",
    "WHERE \n",
    "    b.num_pages > 50\n",
    "GROUP BY \n",
    "    p.publisher\n",
    "ORDER BY \n",
    "    num_books DESC\n",
    "LIMIT 1;\n",
    "'''\n",
    "result = get_sql_data(query)\n",
    "top_publisher = pd.DataFrame(result)\n",
    "print('Издательство, которое выпустило наибольшее число книг толще 50 страниц:')\n",
    "display(top_publisher)"
   ]
  },
  {
   "cell_type": "markdown",
   "metadata": {},
   "source": [
    "### Автор с самой высокой средней оценкой книг"
   ]
  },
  {
   "cell_type": "markdown",
   "metadata": {},
   "source": [
    "Определите автора с самой высокой средней оценкой книг — учитывайте только книги с 50 и более оценками."
   ]
  },
  {
   "cell_type": "code",
   "execution_count": 17,
   "metadata": {},
   "outputs": [
    {
     "name": "stdout",
     "output_type": "stream",
     "text": [
      "Автор с самой высокой средней оценкой книг с 50 и более оценками:\n"
     ]
    },
    {
     "data": {
      "text/html": [
       "<div>\n",
       "<style scoped>\n",
       "    .dataframe tbody tr th:only-of-type {\n",
       "        vertical-align: middle;\n",
       "    }\n",
       "\n",
       "    .dataframe tbody tr th {\n",
       "        vertical-align: top;\n",
       "    }\n",
       "\n",
       "    .dataframe thead th {\n",
       "        text-align: right;\n",
       "    }\n",
       "</style>\n",
       "<table border=\"1\" class=\"dataframe\">\n",
       "  <thead>\n",
       "    <tr style=\"text-align: right;\">\n",
       "      <th></th>\n",
       "      <th>author</th>\n",
       "      <th>author_avg_rating</th>\n",
       "    </tr>\n",
       "  </thead>\n",
       "  <tbody>\n",
       "    <tr>\n",
       "      <th>0</th>\n",
       "      <td>J.K. Rowling/Mary GrandPré</td>\n",
       "      <td>4.28</td>\n",
       "    </tr>\n",
       "  </tbody>\n",
       "</table>\n",
       "</div>"
      ],
      "text/plain": [
       "                       author  author_avg_rating\n",
       "0  J.K. Rowling/Mary GrandPré               4.28"
      ]
     },
     "metadata": {},
     "output_type": "display_data"
    }
   ],
   "source": [
    "query = '''\n",
    "WITH book_ratings AS (\n",
    "    SELECT \n",
    "        book_id,\n",
    "        AVG(rating) AS avg_rating,\n",
    "        COUNT(rating_id) AS num_ratings\n",
    "    FROM \n",
    "        ratings\n",
    "    GROUP BY \n",
    "        book_id\n",
    "    HAVING \n",
    "        COUNT(rating_id) >= 50\n",
    "),\n",
    "author_ratings AS (\n",
    "    SELECT \n",
    "        b.author_id,\n",
    "        a.author,\n",
    "        ROUND(AVG(br.avg_rating), 2) AS author_avg_rating\n",
    "    FROM \n",
    "        book_ratings br\n",
    "    JOIN \n",
    "        books b ON br.book_id = b.book_id\n",
    "    JOIN \n",
    "        authors a ON b.author_id = a.author_id\n",
    "    GROUP BY \n",
    "        b.author_id, a.author\n",
    ")\n",
    "SELECT \n",
    "    author,\n",
    "    author_avg_rating\n",
    "FROM \n",
    "    author_ratings\n",
    "ORDER BY \n",
    "    author_avg_rating DESC\n",
    "LIMIT 1;\n",
    "'''\n",
    "\n",
    "result = get_sql_data(query)\n",
    "top_author = pd.DataFrame(result)\n",
    "print('Автор с самой высокой средней оценкой книг с 50 и более оценками:')\n",
    "display(top_author)"
   ]
  },
  {
   "cell_type": "markdown",
   "metadata": {},
   "source": [
    "### Среднее количество обзоров от пользователей"
   ]
  },
  {
   "cell_type": "markdown",
   "metadata": {},
   "source": [
    "Посчитайте среднее количество обзоров от пользователей, которые поставили больше 48 оценок."
   ]
  },
  {
   "cell_type": "code",
   "execution_count": 18,
   "metadata": {},
   "outputs": [
    {
     "name": "stdout",
     "output_type": "stream",
     "text": [
      "Среднее количество обзоров от пользователей, которые поставили больше 48 оценок:\n"
     ]
    },
    {
     "data": {
      "text/html": [
       "<div>\n",
       "<style scoped>\n",
       "    .dataframe tbody tr th:only-of-type {\n",
       "        vertical-align: middle;\n",
       "    }\n",
       "\n",
       "    .dataframe tbody tr th {\n",
       "        vertical-align: top;\n",
       "    }\n",
       "\n",
       "    .dataframe thead th {\n",
       "        text-align: right;\n",
       "    }\n",
       "</style>\n",
       "<table border=\"1\" class=\"dataframe\">\n",
       "  <thead>\n",
       "    <tr style=\"text-align: right;\">\n",
       "      <th></th>\n",
       "      <th>avg_reviews</th>\n",
       "    </tr>\n",
       "  </thead>\n",
       "  <tbody>\n",
       "    <tr>\n",
       "      <th>0</th>\n",
       "      <td>24.0</td>\n",
       "    </tr>\n",
       "  </tbody>\n",
       "</table>\n",
       "</div>"
      ],
      "text/plain": [
       "   avg_reviews\n",
       "0         24.0"
      ]
     },
     "metadata": {},
     "output_type": "display_data"
    }
   ],
   "source": [
    "query = '''\n",
    "WITH users_with_many_ratings AS (\n",
    "    SELECT \n",
    "        username\n",
    "    FROM \n",
    "        ratings\n",
    "    GROUP BY \n",
    "        username\n",
    "    HAVING \n",
    "        COUNT(rating_id) > 48\n",
    "),\n",
    "user_reviews AS (\n",
    "    SELECT \n",
    "        rw.username,\n",
    "        COUNT(rw.review_id) AS num_reviews\n",
    "    FROM \n",
    "        reviews rw\n",
    "    JOIN \n",
    "        users_with_many_ratings uw ON rw.username = uw.username\n",
    "    GROUP BY \n",
    "        rw.username\n",
    ")\n",
    "SELECT \n",
    "    AVG(num_reviews) AS avg_reviews\n",
    "FROM \n",
    "    user_reviews;\n",
    "'''\n",
    "\n",
    "result = get_sql_data(query)\n",
    "avg_number_of_users = pd.DataFrame(result)\n",
    "print('Среднее количество обзоров от пользователей, которые поставили больше 48 оценок:')\n",
    "display(avg_number_of_users)"
   ]
  },
  {
   "cell_type": "markdown",
   "metadata": {},
   "source": [
    "### Выводы"
   ]
  },
  {
   "cell_type": "markdown",
   "metadata": {},
   "source": [
    "* В базе данных 1000 книг 636 авторов, которых выпустили 340 издательств.\n",
    "* Было проведено 2793 обзора, а книги были оценены, в общем, 6456 раз.\n",
    "* Издательство Penguin Books выпустило наибольшее число книг толще 50 страниц - всего 42 книги.\n",
    "* J.K. Rowling (с иллюстратором Mary GrandPré) является автором с самой высокой средней оценкой книг с 50 и более оценками. Со средней оценкой 4.28.\n",
    "* Среднее количество обзоров от пользователей, которые поставили больше 48 оценок - 24."
   ]
  },
  {
   "cell_type": "code",
   "execution_count": null,
   "metadata": {},
   "outputs": [],
   "source": []
  }
 ],
 "metadata": {
  "ExecuteTimeLog": [
   {
    "duration": 7637,
    "start_time": "2024-05-18T06:00:59.541Z"
   },
   {
    "duration": 3,
    "start_time": "2024-05-18T06:04:55.329Z"
   },
   {
    "duration": 129,
    "start_time": "2024-05-18T06:05:09.589Z"
   },
   {
    "duration": 53,
    "start_time": "2024-05-18T06:05:21.592Z"
   },
   {
    "duration": 52,
    "start_time": "2024-05-18T06:05:29.051Z"
   },
   {
    "duration": 55,
    "start_time": "2024-05-18T06:05:37.539Z"
   },
   {
    "duration": 90,
    "start_time": "2024-05-18T06:06:45.471Z"
   },
   {
    "duration": 17,
    "start_time": "2024-05-18T06:10:59.410Z"
   },
   {
    "duration": 5,
    "start_time": "2024-05-18T06:12:42.633Z"
   },
   {
    "duration": 222,
    "start_time": "2024-05-18T06:12:53.606Z"
   },
   {
    "duration": 50,
    "start_time": "2024-05-18T06:13:10.002Z"
   },
   {
    "duration": 59,
    "start_time": "2024-05-18T06:13:13.488Z"
   },
   {
    "duration": 49,
    "start_time": "2024-05-18T06:13:17.617Z"
   },
   {
    "duration": 53,
    "start_time": "2024-05-18T08:21:51.128Z"
   },
   {
    "duration": 618,
    "start_time": "2024-05-18T08:21:58.455Z"
   },
   {
    "duration": 0,
    "start_time": "2024-05-18T08:21:59.077Z"
   },
   {
    "duration": 0,
    "start_time": "2024-05-18T08:21:59.078Z"
   },
   {
    "duration": 0,
    "start_time": "2024-05-18T08:21:59.078Z"
   },
   {
    "duration": 0,
    "start_time": "2024-05-18T08:21:59.079Z"
   },
   {
    "duration": 0,
    "start_time": "2024-05-18T08:21:59.080Z"
   },
   {
    "duration": 578,
    "start_time": "2024-05-18T08:38:32.461Z"
   },
   {
    "duration": 0,
    "start_time": "2024-05-18T08:38:33.041Z"
   },
   {
    "duration": 0,
    "start_time": "2024-05-18T08:38:33.043Z"
   },
   {
    "duration": 0,
    "start_time": "2024-05-18T08:38:33.044Z"
   },
   {
    "duration": 0,
    "start_time": "2024-05-18T08:38:33.046Z"
   },
   {
    "duration": 1,
    "start_time": "2024-05-18T08:38:33.047Z"
   },
   {
    "duration": 5679,
    "start_time": "2024-05-18T08:39:01.117Z"
   },
   {
    "duration": 235,
    "start_time": "2024-05-18T08:39:06.798Z"
   },
   {
    "duration": 51,
    "start_time": "2024-05-18T08:39:07.035Z"
   },
   {
    "duration": 51,
    "start_time": "2024-05-18T08:39:07.088Z"
   },
   {
    "duration": 60,
    "start_time": "2024-05-18T08:39:10.824Z"
   },
   {
    "duration": 52,
    "start_time": "2024-05-18T08:39:11.338Z"
   },
   {
    "duration": 83,
    "start_time": "2024-05-18T08:45:33.021Z"
   },
   {
    "duration": 62,
    "start_time": "2024-05-18T08:45:45.698Z"
   },
   {
    "duration": 52,
    "start_time": "2024-05-18T08:53:31.668Z"
   },
   {
    "duration": 59,
    "start_time": "2024-05-18T08:56:31.026Z"
   },
   {
    "duration": 48,
    "start_time": "2024-05-18T08:58:20.200Z"
   },
   {
    "duration": 88,
    "start_time": "2024-05-18T09:03:09.378Z"
   },
   {
    "duration": 87,
    "start_time": "2024-05-18T09:03:56.395Z"
   },
   {
    "duration": 48,
    "start_time": "2024-05-18T09:04:29.094Z"
   },
   {
    "duration": 86,
    "start_time": "2024-05-18T09:04:46.434Z"
   },
   {
    "duration": 90,
    "start_time": "2024-05-18T09:05:52.843Z"
   },
   {
    "duration": 86,
    "start_time": "2024-05-18T09:06:34.979Z"
   },
   {
    "duration": 50,
    "start_time": "2024-05-18T09:06:48.067Z"
   },
   {
    "duration": 93,
    "start_time": "2024-05-18T09:07:46.321Z"
   },
   {
    "duration": 87,
    "start_time": "2024-05-18T09:07:57.463Z"
   },
   {
    "duration": 92,
    "start_time": "2024-05-18T09:08:08.986Z"
   },
   {
    "duration": 96,
    "start_time": "2024-05-18T09:08:40.386Z"
   },
   {
    "duration": 6234,
    "start_time": "2024-05-18T10:16:51.184Z"
   },
   {
    "duration": 231,
    "start_time": "2024-05-18T10:16:57.420Z"
   },
   {
    "duration": 56,
    "start_time": "2024-05-18T10:16:57.652Z"
   },
   {
    "duration": 51,
    "start_time": "2024-05-18T10:16:57.711Z"
   },
   {
    "duration": 58,
    "start_time": "2024-05-18T10:16:57.765Z"
   },
   {
    "duration": 52,
    "start_time": "2024-05-18T10:16:57.825Z"
   },
   {
    "duration": 49,
    "start_time": "2024-05-18T10:16:57.879Z"
   },
   {
    "duration": 100,
    "start_time": "2024-05-18T10:16:57.930Z"
   },
   {
    "duration": 57,
    "start_time": "2024-05-18T10:20:58.253Z"
   },
   {
    "duration": 55,
    "start_time": "2024-05-18T10:21:39.721Z"
   },
   {
    "duration": 52,
    "start_time": "2024-05-18T10:24:24.283Z"
   },
   {
    "duration": 52,
    "start_time": "2024-05-18T10:24:35.098Z"
   },
   {
    "duration": 51,
    "start_time": "2024-05-18T10:25:47.086Z"
   },
   {
    "duration": 58,
    "start_time": "2024-05-18T10:26:47.364Z"
   },
   {
    "duration": 54,
    "start_time": "2024-05-18T10:34:15.490Z"
   },
   {
    "duration": 52,
    "start_time": "2024-05-18T10:35:05.107Z"
   },
   {
    "duration": 55,
    "start_time": "2024-05-18T10:35:31.606Z"
   },
   {
    "duration": 57,
    "start_time": "2024-05-18T10:36:19.655Z"
   },
   {
    "duration": 61,
    "start_time": "2024-05-18T10:39:04.527Z"
   },
   {
    "duration": 59,
    "start_time": "2024-05-18T10:39:30.931Z"
   },
   {
    "duration": 52,
    "start_time": "2024-05-18T10:40:04.271Z"
   },
   {
    "duration": 57,
    "start_time": "2024-05-18T10:41:04.383Z"
   },
   {
    "duration": 55,
    "start_time": "2024-05-18T10:42:57.247Z"
   },
   {
    "duration": 127,
    "start_time": "2024-05-18T10:43:37.265Z"
   },
   {
    "duration": 54,
    "start_time": "2024-05-18T10:44:57.116Z"
   },
   {
    "duration": 51,
    "start_time": "2024-05-18T10:45:18.308Z"
   },
   {
    "duration": 58,
    "start_time": "2024-05-18T10:45:41.119Z"
   },
   {
    "duration": 54,
    "start_time": "2024-05-18T10:45:59.904Z"
   },
   {
    "duration": 6145,
    "start_time": "2024-05-18T10:46:16.711Z"
   },
   {
    "duration": 249,
    "start_time": "2024-05-18T10:46:22.858Z"
   },
   {
    "duration": 52,
    "start_time": "2024-05-18T10:46:23.112Z"
   },
   {
    "duration": 54,
    "start_time": "2024-05-18T10:46:23.170Z"
   },
   {
    "duration": 57,
    "start_time": "2024-05-18T10:46:23.226Z"
   },
   {
    "duration": 53,
    "start_time": "2024-05-18T10:46:23.284Z"
   },
   {
    "duration": 53,
    "start_time": "2024-05-18T10:46:23.339Z"
   },
   {
    "duration": 92,
    "start_time": "2024-05-18T10:46:23.399Z"
   },
   {
    "duration": 52,
    "start_time": "2024-05-18T10:46:23.493Z"
   },
   {
    "duration": 58,
    "start_time": "2024-05-18T10:46:23.547Z"
   },
   {
    "duration": 54,
    "start_time": "2024-05-18T10:46:23.607Z"
   },
   {
    "duration": 3,
    "start_time": "2024-05-18T10:50:15.520Z"
   },
   {
    "duration": 120,
    "start_time": "2024-05-18T10:50:33.186Z"
   },
   {
    "duration": 7,
    "start_time": "2024-05-18T10:50:43.572Z"
   },
   {
    "duration": 18,
    "start_time": "2024-05-18T10:50:44.173Z"
   },
   {
    "duration": 4,
    "start_time": "2024-05-18T10:50:55.438Z"
   },
   {
    "duration": 10,
    "start_time": "2024-05-18T10:50:56.198Z"
   },
   {
    "duration": 3,
    "start_time": "2024-05-18T10:51:16.431Z"
   },
   {
    "duration": 15,
    "start_time": "2024-05-18T10:51:17.175Z"
   },
   {
    "duration": 5,
    "start_time": "2024-05-18T10:51:55.504Z"
   },
   {
    "duration": 6,
    "start_time": "2024-05-18T10:54:17.489Z"
   },
   {
    "duration": 7,
    "start_time": "2024-05-18T10:54:18.195Z"
   },
   {
    "duration": 3,
    "start_time": "2024-05-18T11:00:18.753Z"
   },
   {
    "duration": 9,
    "start_time": "2024-05-18T11:00:22.832Z"
   },
   {
    "duration": 233,
    "start_time": "2024-05-18T11:01:02.053Z"
   },
   {
    "duration": 67,
    "start_time": "2024-05-18T11:02:25.374Z"
   },
   {
    "duration": 52,
    "start_time": "2024-05-18T11:02:46.967Z"
   },
   {
    "duration": 66,
    "start_time": "2024-05-18T11:04:14.516Z"
   },
   {
    "duration": 6,
    "start_time": "2024-05-18T11:10:50.723Z"
   },
   {
    "duration": 16,
    "start_time": "2024-05-18T11:10:56.562Z"
   },
   {
    "duration": 222,
    "start_time": "2024-05-18T11:11:08.051Z"
   },
   {
    "duration": 3,
    "start_time": "2024-05-18T11:11:19.646Z"
   },
   {
    "duration": 232,
    "start_time": "2024-05-18T11:11:20.098Z"
   },
   {
    "duration": 58,
    "start_time": "2024-05-18T11:11:21.154Z"
   },
   {
    "duration": 150,
    "start_time": "2024-05-18T11:11:22.432Z"
   },
   {
    "duration": 5,
    "start_time": "2024-05-18T11:11:49.727Z"
   },
   {
    "duration": 10,
    "start_time": "2024-05-18T11:11:49.734Z"
   },
   {
    "duration": 230,
    "start_time": "2024-05-18T11:11:49.746Z"
   },
   {
    "duration": 56,
    "start_time": "2024-05-18T11:11:49.978Z"
   },
   {
    "duration": 108,
    "start_time": "2024-05-18T11:11:50.036Z"
   },
   {
    "duration": 126,
    "start_time": "2024-05-18T11:11:55.732Z"
   },
   {
    "duration": 262,
    "start_time": "2024-05-18T11:12:50.377Z"
   },
   {
    "duration": 8,
    "start_time": "2024-05-18T11:13:21.315Z"
   },
   {
    "duration": 140,
    "start_time": "2024-05-18T11:14:04.348Z"
   },
   {
    "duration": 51,
    "start_time": "2024-05-18T11:14:46.053Z"
   },
   {
    "duration": 57,
    "start_time": "2024-05-18T11:15:22.544Z"
   },
   {
    "duration": 50,
    "start_time": "2024-05-18T11:16:57.200Z"
   },
   {
    "duration": 56,
    "start_time": "2024-05-18T11:17:13.697Z"
   },
   {
    "duration": 140,
    "start_time": "2024-05-18T11:17:22.178Z"
   },
   {
    "duration": 96,
    "start_time": "2024-05-18T11:18:03.771Z"
   },
   {
    "duration": 52,
    "start_time": "2024-05-18T11:19:43.463Z"
   },
   {
    "duration": 51,
    "start_time": "2024-05-18T11:20:01.599Z"
   },
   {
    "duration": 53,
    "start_time": "2024-05-18T11:20:33.186Z"
   },
   {
    "duration": 55,
    "start_time": "2024-05-18T11:20:47.205Z"
   },
   {
    "duration": 57,
    "start_time": "2024-05-18T11:20:48.322Z"
   },
   {
    "duration": 58,
    "start_time": "2024-05-18T11:21:05.342Z"
   },
   {
    "duration": 56,
    "start_time": "2024-05-18T11:21:29.841Z"
   },
   {
    "duration": 53,
    "start_time": "2024-05-18T11:21:30.969Z"
   },
   {
    "duration": 54,
    "start_time": "2024-05-18T11:21:56.075Z"
   },
   {
    "duration": 48,
    "start_time": "2024-05-18T11:21:56.994Z"
   },
   {
    "duration": 50,
    "start_time": "2024-05-18T11:24:56.376Z"
   },
   {
    "duration": 50,
    "start_time": "2024-05-18T11:24:57.040Z"
   },
   {
    "duration": 575,
    "start_time": "2024-05-18T11:32:28.448Z"
   },
   {
    "duration": 5675,
    "start_time": "2024-05-18T11:32:29.025Z"
   },
   {
    "duration": 4,
    "start_time": "2024-05-18T11:32:34.706Z"
   },
   {
    "duration": 239,
    "start_time": "2024-05-18T11:32:34.714Z"
   },
   {
    "duration": 50,
    "start_time": "2024-05-18T11:32:34.956Z"
   },
   {
    "duration": 48,
    "start_time": "2024-05-18T11:32:35.008Z"
   },
   {
    "duration": 52,
    "start_time": "2024-05-18T11:32:35.058Z"
   },
   {
    "duration": 51,
    "start_time": "2024-05-18T11:32:35.112Z"
   },
   {
    "duration": 50,
    "start_time": "2024-05-18T11:32:35.164Z"
   },
   {
    "duration": 54,
    "start_time": "2024-05-18T11:32:35.216Z"
   },
   {
    "duration": 49,
    "start_time": "2024-05-18T11:32:35.272Z"
   },
   {
    "duration": 56,
    "start_time": "2024-05-18T11:32:35.323Z"
   },
   {
    "duration": 49,
    "start_time": "2024-05-18T11:32:35.385Z"
   },
   {
    "duration": 54,
    "start_time": "2024-05-18T11:32:35.436Z"
   },
   {
    "duration": 104,
    "start_time": "2024-05-18T11:32:35.492Z"
   },
   {
    "duration": 51,
    "start_time": "2024-05-18T11:32:35.598Z"
   },
   {
    "duration": 58,
    "start_time": "2024-05-18T11:32:35.650Z"
   },
   {
    "duration": 52,
    "start_time": "2024-05-18T11:32:35.709Z"
   },
   {
    "duration": 516,
    "start_time": "2024-05-19T07:44:14.413Z"
   },
   {
    "duration": 6426,
    "start_time": "2024-05-19T07:44:14.931Z"
   },
   {
    "duration": 2,
    "start_time": "2024-05-19T07:44:21.359Z"
   },
   {
    "duration": 59,
    "start_time": "2024-05-19T07:44:21.363Z"
   },
   {
    "duration": 19,
    "start_time": "2024-05-19T07:44:21.424Z"
   },
   {
    "duration": 11,
    "start_time": "2024-05-19T07:44:21.444Z"
   },
   {
    "duration": 25,
    "start_time": "2024-05-19T07:44:21.456Z"
   },
   {
    "duration": 10,
    "start_time": "2024-05-19T07:44:21.483Z"
   },
   {
    "duration": 8,
    "start_time": "2024-05-19T07:44:21.494Z"
   },
   {
    "duration": 10,
    "start_time": "2024-05-19T07:44:21.504Z"
   },
   {
    "duration": 9,
    "start_time": "2024-05-19T07:44:21.515Z"
   },
   {
    "duration": 9,
    "start_time": "2024-05-19T07:44:21.526Z"
   },
   {
    "duration": 13,
    "start_time": "2024-05-19T07:44:21.537Z"
   },
   {
    "duration": 8,
    "start_time": "2024-05-19T07:44:21.570Z"
   },
   {
    "duration": 28,
    "start_time": "2024-05-19T07:44:21.580Z"
   },
   {
    "duration": 10,
    "start_time": "2024-05-19T07:44:21.609Z"
   },
   {
    "duration": 66,
    "start_time": "2024-05-19T07:44:21.620Z"
   },
   {
    "duration": 144,
    "start_time": "2024-05-19T07:44:21.687Z"
   },
   {
    "duration": 35,
    "start_time": "2024-05-19T07:47:13.815Z"
   },
   {
    "duration": 29,
    "start_time": "2024-05-19T07:48:03.474Z"
   },
   {
    "duration": 10,
    "start_time": "2024-05-19T07:53:32.345Z"
   },
   {
    "duration": 11,
    "start_time": "2024-05-19T07:54:00.296Z"
   },
   {
    "duration": 10,
    "start_time": "2024-05-19T07:59:36.415Z"
   },
   {
    "duration": 11,
    "start_time": "2024-05-19T07:59:52.259Z"
   },
   {
    "duration": 11,
    "start_time": "2024-05-19T08:00:16.697Z"
   },
   {
    "duration": 62,
    "start_time": "2024-05-19T08:05:43.677Z"
   },
   {
    "duration": 75,
    "start_time": "2024-05-19T08:06:52.060Z"
   },
   {
    "duration": 956,
    "start_time": "2024-05-19T08:09:09.947Z"
   },
   {
    "duration": 8,
    "start_time": "2024-05-19T08:09:26.447Z"
   },
   {
    "duration": 24,
    "start_time": "2024-05-19T08:14:21.297Z"
   },
   {
    "duration": 23,
    "start_time": "2024-05-19T08:15:10.367Z"
   },
   {
    "duration": 15,
    "start_time": "2024-05-19T08:15:36.318Z"
   },
   {
    "duration": 55,
    "start_time": "2024-05-19T08:18:44.858Z"
   },
   {
    "duration": 13,
    "start_time": "2024-05-19T08:18:52.851Z"
   },
   {
    "duration": 19,
    "start_time": "2024-05-19T08:19:12.997Z"
   },
   {
    "duration": 14,
    "start_time": "2024-05-19T08:19:30.943Z"
   },
   {
    "duration": 19,
    "start_time": "2024-05-19T08:20:28.222Z"
   },
   {
    "duration": 15,
    "start_time": "2024-05-19T08:20:55.929Z"
   },
   {
    "duration": 978,
    "start_time": "2024-05-19T08:21:43.244Z"
   },
   {
    "duration": 18,
    "start_time": "2024-05-19T08:22:04.727Z"
   },
   {
    "duration": 13,
    "start_time": "2024-05-19T08:22:40.933Z"
   },
   {
    "duration": 19,
    "start_time": "2024-05-19T08:22:59.400Z"
   },
   {
    "duration": 18,
    "start_time": "2024-05-19T08:23:47.265Z"
   },
   {
    "duration": 393,
    "start_time": "2024-05-19T08:26:26.423Z"
   },
   {
    "duration": 22,
    "start_time": "2024-05-19T08:29:52.465Z"
   },
   {
    "duration": 33,
    "start_time": "2024-05-19T08:30:22.136Z"
   },
   {
    "duration": 29,
    "start_time": "2024-05-19T08:30:55.464Z"
   },
   {
    "duration": 36,
    "start_time": "2024-05-19T08:31:15.130Z"
   },
   {
    "duration": 30,
    "start_time": "2024-05-19T08:31:30.712Z"
   },
   {
    "duration": 500,
    "start_time": "2024-05-19T08:32:19.389Z"
   },
   {
    "duration": 6315,
    "start_time": "2024-05-19T08:32:19.891Z"
   },
   {
    "duration": 3,
    "start_time": "2024-05-19T08:32:26.210Z"
   },
   {
    "duration": 66,
    "start_time": "2024-05-19T08:32:26.215Z"
   },
   {
    "duration": 10,
    "start_time": "2024-05-19T08:32:26.283Z"
   },
   {
    "duration": 20,
    "start_time": "2024-05-19T08:32:26.294Z"
   },
   {
    "duration": 9,
    "start_time": "2024-05-19T08:32:26.316Z"
   },
   {
    "duration": 17,
    "start_time": "2024-05-19T08:32:26.326Z"
   },
   {
    "duration": 10,
    "start_time": "2024-05-19T08:32:26.344Z"
   },
   {
    "duration": 22,
    "start_time": "2024-05-19T08:32:26.356Z"
   },
   {
    "duration": 9,
    "start_time": "2024-05-19T08:32:26.380Z"
   },
   {
    "duration": 14,
    "start_time": "2024-05-19T08:32:26.391Z"
   },
   {
    "duration": 9,
    "start_time": "2024-05-19T08:32:26.408Z"
   },
   {
    "duration": 9,
    "start_time": "2024-05-19T08:32:26.419Z"
   },
   {
    "duration": 45,
    "start_time": "2024-05-19T08:32:26.430Z"
   },
   {
    "duration": 12,
    "start_time": "2024-05-19T08:32:26.477Z"
   },
   {
    "duration": 14,
    "start_time": "2024-05-19T08:32:26.490Z"
   },
   {
    "duration": 81,
    "start_time": "2024-05-19T08:32:26.505Z"
   },
   {
    "duration": 58,
    "start_time": "2024-05-19T08:33:00.585Z"
   },
   {
    "duration": 10,
    "start_time": "2024-05-19T08:34:20.622Z"
   },
   {
    "duration": 10,
    "start_time": "2024-05-19T08:38:19.019Z"
   },
   {
    "duration": 31,
    "start_time": "2024-05-19T09:24:46.751Z"
   },
   {
    "duration": 1085,
    "start_time": "2024-05-19T09:25:05.586Z"
   },
   {
    "duration": 7,
    "start_time": "2024-05-19T09:26:20.527Z"
   },
   {
    "duration": 1021,
    "start_time": "2024-05-19T09:26:55.038Z"
   },
   {
    "duration": 33,
    "start_time": "2024-05-19T09:29:21.494Z"
   },
   {
    "duration": 30,
    "start_time": "2024-05-19T09:30:58.793Z"
   },
   {
    "duration": 40,
    "start_time": "2024-05-19T09:31:46.162Z"
   },
   {
    "duration": 525,
    "start_time": "2024-05-19T09:37:39.272Z"
   },
   {
    "duration": 6250,
    "start_time": "2024-05-19T09:37:39.798Z"
   },
   {
    "duration": 2,
    "start_time": "2024-05-19T09:37:46.050Z"
   },
   {
    "duration": 52,
    "start_time": "2024-05-19T09:37:46.054Z"
   },
   {
    "duration": 10,
    "start_time": "2024-05-19T09:37:46.108Z"
   },
   {
    "duration": 10,
    "start_time": "2024-05-19T09:37:46.119Z"
   },
   {
    "duration": 13,
    "start_time": "2024-05-19T09:37:46.130Z"
   },
   {
    "duration": 12,
    "start_time": "2024-05-19T09:37:46.145Z"
   },
   {
    "duration": 28,
    "start_time": "2024-05-19T09:37:46.159Z"
   },
   {
    "duration": 81,
    "start_time": "2024-05-19T09:37:46.190Z"
   },
   {
    "duration": 11,
    "start_time": "2024-05-19T09:37:46.273Z"
   },
   {
    "duration": 22,
    "start_time": "2024-05-19T09:37:46.286Z"
   },
   {
    "duration": 11,
    "start_time": "2024-05-19T09:37:46.309Z"
   },
   {
    "duration": 6,
    "start_time": "2024-05-19T09:37:46.322Z"
   },
   {
    "duration": 30,
    "start_time": "2024-05-19T09:37:46.330Z"
   },
   {
    "duration": 11,
    "start_time": "2024-05-19T09:37:46.362Z"
   },
   {
    "duration": 14,
    "start_time": "2024-05-19T09:37:46.374Z"
   },
   {
    "duration": 13,
    "start_time": "2024-05-19T09:37:46.389Z"
   }
  ],
  "kernelspec": {
   "display_name": "Python 3 (ipykernel)",
   "language": "python",
   "name": "python3"
  },
  "language_info": {
   "codemirror_mode": {
    "name": "ipython",
    "version": 3
   },
   "file_extension": ".py",
   "mimetype": "text/x-python",
   "name": "python",
   "nbconvert_exporter": "python",
   "pygments_lexer": "ipython3",
   "version": "3.11.5"
  },
  "toc": {
   "base_numbering": 1,
   "nav_menu": {},
   "number_sections": true,
   "sideBar": true,
   "skip_h1_title": true,
   "title_cell": "Table of Contents",
   "title_sidebar": "Contents",
   "toc_cell": false,
   "toc_position": {},
   "toc_section_display": true,
   "toc_window_display": true
  }
 },
 "nbformat": 4,
 "nbformat_minor": 2
}
