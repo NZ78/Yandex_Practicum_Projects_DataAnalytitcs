{
 "cells": [
  {
   "cell_type": "markdown",
   "metadata": {},
   "source": [
    "# СБОРНЫЙ ПРОЕКТ 2"
   ]
  },
  {
   "cell_type": "markdown",
   "metadata": {},
   "source": [
    "<div class=\"alert alert-info\"> <b>ИССЛЕДОВАНИЕ ПОВЕДЕНИЯ ПОЛЬЗОВАТЕЛЕЙ МОБИЛЬНОГО ПРИЛОЖЕНИЯ</b></div>"
   ]
  },
  {
   "cell_type": "markdown",
   "metadata": {},
   "source": [
    "# Описание проекта"
   ]
  },
  {
   "cell_type": "markdown",
   "metadata": {},
   "source": [
    "Вы работаете в стартапе, который продаёт продукты питания. <br/>Нужно разобраться, как ведут себя пользователи вашего мобильного приложения.<br/>\n",
    "Изучите воронку продаж. Узнайте, как пользователи доходят до покупки. Сколько пользователей доходит до покупки, а сколько — «застревает» на предыдущих шагах? На каких именно?<br/>\n",
    "После этого исследуйте результаты A/A/B-эксперимента. Дизайнеры захотели поменять шрифты во всём приложении, а менеджеры испугались, что пользователям будет непривычно. Договорились принять решение по результатам A/A/B-теста. Пользователей разбили на 3 группы: 2 контрольные со старыми шрифтами и одну экспериментальную — с новыми. Выясните, какой шрифт лучше.\n",
    "Создание двух групп A вместо одной имеет определённые преимущества. Если две контрольные группы окажутся равны, вы можете быть уверены в точности проведенного тестирования. Если же между значениями A и A будут существенные различия, это поможет обнаружить факторы, которые привели к искажению результатов. Сравнение контрольных групп также помогает понять, сколько времени и данных потребуется для дальнейших тестов.<br/>\n",
    "В случае общей аналитики и A/A/B-эксперимента работайте с одними и теми же данными. В реальных проектах всегда идут эксперименты. Аналитики исследуют качество работы приложения по общим данным, не учитывая принадлежность пользователей к экспериментам."
   ]
  },
  {
   "cell_type": "markdown",
   "metadata": {},
   "source": [
    "# Описание данных"
   ]
  },
  {
   "cell_type": "markdown",
   "metadata": {},
   "source": [
    "Каждая запись в логе — это действие пользователя, или событие. <br>\n",
    "EventName — название события;<br>\n",
    "DeviceIDHash — уникальный идентификатор пользователя;<br>\n",
    "EventTimestamp — время события;<br>\n",
    "ExpId — номер эксперимента: <br>\n",
    "246 и 247 — контрольные группы, а 248 — экспериментальная."
   ]
  },
  {
   "cell_type": "markdown",
   "metadata": {},
   "source": [
    "### Шаг 1. Изучение файла с данными и общей информации"
   ]
  },
  {
   "cell_type": "code",
   "execution_count": 1,
   "metadata": {},
   "outputs": [],
   "source": [
    "import pandas as pd\n",
    "import datetime as dt\n",
    "import seaborn as sns\n",
    "from matplotlib import pyplot as plt\n",
    "import numpy as np\n",
    "import math as mth\n",
    "from scipy import stats as st\n",
    "import scipy.stats as stats\n",
    "from pandas.plotting import register_matplotlib_converters\n",
    "#from multipy.fwer import sidak"
   ]
  },
  {
   "cell_type": "code",
   "execution_count": 2,
   "metadata": {},
   "outputs": [
    {
     "data": {
      "text/html": [
       "<div>\n",
       "<style scoped>\n",
       "    .dataframe tbody tr th:only-of-type {\n",
       "        vertical-align: middle;\n",
       "    }\n",
       "\n",
       "    .dataframe tbody tr th {\n",
       "        vertical-align: top;\n",
       "    }\n",
       "\n",
       "    .dataframe thead th {\n",
       "        text-align: right;\n",
       "    }\n",
       "</style>\n",
       "<table border=\"1\" class=\"dataframe\">\n",
       "  <thead>\n",
       "    <tr style=\"text-align: right;\">\n",
       "      <th></th>\n",
       "      <th>EventName</th>\n",
       "      <th>DeviceIDHash</th>\n",
       "      <th>EventTimestamp</th>\n",
       "      <th>ExpId</th>\n",
       "    </tr>\n",
       "  </thead>\n",
       "  <tbody>\n",
       "    <tr>\n",
       "      <th>0</th>\n",
       "      <td>MainScreenAppear</td>\n",
       "      <td>4575588528974610257</td>\n",
       "      <td>1564029816</td>\n",
       "      <td>246</td>\n",
       "    </tr>\n",
       "    <tr>\n",
       "      <th>1</th>\n",
       "      <td>MainScreenAppear</td>\n",
       "      <td>7416695313311560658</td>\n",
       "      <td>1564053102</td>\n",
       "      <td>246</td>\n",
       "    </tr>\n",
       "    <tr>\n",
       "      <th>2</th>\n",
       "      <td>PaymentScreenSuccessful</td>\n",
       "      <td>3518123091307005509</td>\n",
       "      <td>1564054127</td>\n",
       "      <td>248</td>\n",
       "    </tr>\n",
       "    <tr>\n",
       "      <th>3</th>\n",
       "      <td>CartScreenAppear</td>\n",
       "      <td>3518123091307005509</td>\n",
       "      <td>1564054127</td>\n",
       "      <td>248</td>\n",
       "    </tr>\n",
       "    <tr>\n",
       "      <th>4</th>\n",
       "      <td>PaymentScreenSuccessful</td>\n",
       "      <td>6217807653094995999</td>\n",
       "      <td>1564055322</td>\n",
       "      <td>248</td>\n",
       "    </tr>\n",
       "    <tr>\n",
       "      <th>5</th>\n",
       "      <td>CartScreenAppear</td>\n",
       "      <td>6217807653094995999</td>\n",
       "      <td>1564055323</td>\n",
       "      <td>248</td>\n",
       "    </tr>\n",
       "    <tr>\n",
       "      <th>6</th>\n",
       "      <td>OffersScreenAppear</td>\n",
       "      <td>8351860793733343758</td>\n",
       "      <td>1564066242</td>\n",
       "      <td>246</td>\n",
       "    </tr>\n",
       "    <tr>\n",
       "      <th>7</th>\n",
       "      <td>MainScreenAppear</td>\n",
       "      <td>5682100281902512875</td>\n",
       "      <td>1564085677</td>\n",
       "      <td>246</td>\n",
       "    </tr>\n",
       "    <tr>\n",
       "      <th>8</th>\n",
       "      <td>MainScreenAppear</td>\n",
       "      <td>1850981295691852772</td>\n",
       "      <td>1564086702</td>\n",
       "      <td>247</td>\n",
       "    </tr>\n",
       "    <tr>\n",
       "      <th>9</th>\n",
       "      <td>MainScreenAppear</td>\n",
       "      <td>5407636962369102641</td>\n",
       "      <td>1564112112</td>\n",
       "      <td>246</td>\n",
       "    </tr>\n",
       "  </tbody>\n",
       "</table>\n",
       "</div>"
      ],
      "text/plain": [
       "                 EventName         DeviceIDHash  EventTimestamp  ExpId\n",
       "0         MainScreenAppear  4575588528974610257      1564029816    246\n",
       "1         MainScreenAppear  7416695313311560658      1564053102    246\n",
       "2  PaymentScreenSuccessful  3518123091307005509      1564054127    248\n",
       "3         CartScreenAppear  3518123091307005509      1564054127    248\n",
       "4  PaymentScreenSuccessful  6217807653094995999      1564055322    248\n",
       "5         CartScreenAppear  6217807653094995999      1564055323    248\n",
       "6       OffersScreenAppear  8351860793733343758      1564066242    246\n",
       "7         MainScreenAppear  5682100281902512875      1564085677    246\n",
       "8         MainScreenAppear  1850981295691852772      1564086702    247\n",
       "9         MainScreenAppear  5407636962369102641      1564112112    246"
      ]
     },
     "metadata": {},
     "output_type": "display_data"
    },
    {
     "data": {
      "text/html": [
       "<div>\n",
       "<style scoped>\n",
       "    .dataframe tbody tr th:only-of-type {\n",
       "        vertical-align: middle;\n",
       "    }\n",
       "\n",
       "    .dataframe tbody tr th {\n",
       "        vertical-align: top;\n",
       "    }\n",
       "\n",
       "    .dataframe thead th {\n",
       "        text-align: right;\n",
       "    }\n",
       "</style>\n",
       "<table border=\"1\" class=\"dataframe\">\n",
       "  <thead>\n",
       "    <tr style=\"text-align: right;\">\n",
       "      <th></th>\n",
       "      <th>EventName</th>\n",
       "      <th>DeviceIDHash</th>\n",
       "      <th>EventTimestamp</th>\n",
       "      <th>ExpId</th>\n",
       "    </tr>\n",
       "  </thead>\n",
       "  <tbody>\n",
       "    <tr>\n",
       "      <th>0</th>\n",
       "      <td>False</td>\n",
       "      <td>False</td>\n",
       "      <td>False</td>\n",
       "      <td>False</td>\n",
       "    </tr>\n",
       "    <tr>\n",
       "      <th>1</th>\n",
       "      <td>False</td>\n",
       "      <td>False</td>\n",
       "      <td>False</td>\n",
       "      <td>False</td>\n",
       "    </tr>\n",
       "    <tr>\n",
       "      <th>2</th>\n",
       "      <td>False</td>\n",
       "      <td>False</td>\n",
       "      <td>False</td>\n",
       "      <td>False</td>\n",
       "    </tr>\n",
       "    <tr>\n",
       "      <th>3</th>\n",
       "      <td>False</td>\n",
       "      <td>False</td>\n",
       "      <td>False</td>\n",
       "      <td>False</td>\n",
       "    </tr>\n",
       "    <tr>\n",
       "      <th>4</th>\n",
       "      <td>False</td>\n",
       "      <td>False</td>\n",
       "      <td>False</td>\n",
       "      <td>False</td>\n",
       "    </tr>\n",
       "    <tr>\n",
       "      <th>...</th>\n",
       "      <td>...</td>\n",
       "      <td>...</td>\n",
       "      <td>...</td>\n",
       "      <td>...</td>\n",
       "    </tr>\n",
       "    <tr>\n",
       "      <th>244121</th>\n",
       "      <td>False</td>\n",
       "      <td>False</td>\n",
       "      <td>False</td>\n",
       "      <td>False</td>\n",
       "    </tr>\n",
       "    <tr>\n",
       "      <th>244122</th>\n",
       "      <td>False</td>\n",
       "      <td>False</td>\n",
       "      <td>False</td>\n",
       "      <td>False</td>\n",
       "    </tr>\n",
       "    <tr>\n",
       "      <th>244123</th>\n",
       "      <td>False</td>\n",
       "      <td>False</td>\n",
       "      <td>False</td>\n",
       "      <td>False</td>\n",
       "    </tr>\n",
       "    <tr>\n",
       "      <th>244124</th>\n",
       "      <td>False</td>\n",
       "      <td>False</td>\n",
       "      <td>False</td>\n",
       "      <td>False</td>\n",
       "    </tr>\n",
       "    <tr>\n",
       "      <th>244125</th>\n",
       "      <td>False</td>\n",
       "      <td>False</td>\n",
       "      <td>False</td>\n",
       "      <td>False</td>\n",
       "    </tr>\n",
       "  </tbody>\n",
       "</table>\n",
       "<p>244126 rows × 4 columns</p>\n",
       "</div>"
      ],
      "text/plain": [
       "        EventName  DeviceIDHash  EventTimestamp  ExpId\n",
       "0           False         False           False  False\n",
       "1           False         False           False  False\n",
       "2           False         False           False  False\n",
       "3           False         False           False  False\n",
       "4           False         False           False  False\n",
       "...           ...           ...             ...    ...\n",
       "244121      False         False           False  False\n",
       "244122      False         False           False  False\n",
       "244123      False         False           False  False\n",
       "244124      False         False           False  False\n",
       "244125      False         False           False  False\n",
       "\n",
       "[244126 rows x 4 columns]"
      ]
     },
     "execution_count": 2,
     "metadata": {},
     "output_type": "execute_result"
    }
   ],
   "source": [
    "logs = pd.read_csv('https://code.s3.yandex.net/datasets/logs_exp.csv', sep='\\t')\n",
    "display(logs.head(10))\n",
    "logs.isin([np.int64(1), np.int64(2)])"
   ]
  },
  {
   "cell_type": "markdown",
   "metadata": {},
   "source": [
    "### Шаг 2. Подготовка данных"
   ]
  },
  {
   "cell_type": "markdown",
   "metadata": {},
   "source": [
    "- Замените названия столбцов на удобные для вас;\n",
    "- Проверьте пропуски и типы данных. Откорректируйте, если нужно;\n",
    "- Добавьте столбец даты и времени, а также отдельный столбец дат;"
   ]
  },
  {
   "cell_type": "markdown",
   "metadata": {},
   "source": [
    "#### Замена названий столбцов"
   ]
  },
  {
   "cell_type": "code",
   "execution_count": 3,
   "metadata": {},
   "outputs": [
    {
     "data": {
      "text/html": [
       "<div>\n",
       "<style scoped>\n",
       "    .dataframe tbody tr th:only-of-type {\n",
       "        vertical-align: middle;\n",
       "    }\n",
       "\n",
       "    .dataframe tbody tr th {\n",
       "        vertical-align: top;\n",
       "    }\n",
       "\n",
       "    .dataframe thead th {\n",
       "        text-align: right;\n",
       "    }\n",
       "</style>\n",
       "<table border=\"1\" class=\"dataframe\">\n",
       "  <thead>\n",
       "    <tr style=\"text-align: right;\">\n",
       "      <th></th>\n",
       "      <th>events</th>\n",
       "      <th>device_id</th>\n",
       "      <th>event_timestamp</th>\n",
       "      <th>exp_id</th>\n",
       "    </tr>\n",
       "  </thead>\n",
       "  <tbody>\n",
       "    <tr>\n",
       "      <th>0</th>\n",
       "      <td>MainScreenAppear</td>\n",
       "      <td>4575588528974610257</td>\n",
       "      <td>1564029816</td>\n",
       "      <td>246</td>\n",
       "    </tr>\n",
       "    <tr>\n",
       "      <th>1</th>\n",
       "      <td>MainScreenAppear</td>\n",
       "      <td>7416695313311560658</td>\n",
       "      <td>1564053102</td>\n",
       "      <td>246</td>\n",
       "    </tr>\n",
       "    <tr>\n",
       "      <th>2</th>\n",
       "      <td>PaymentScreenSuccessful</td>\n",
       "      <td>3518123091307005509</td>\n",
       "      <td>1564054127</td>\n",
       "      <td>248</td>\n",
       "    </tr>\n",
       "    <tr>\n",
       "      <th>3</th>\n",
       "      <td>CartScreenAppear</td>\n",
       "      <td>3518123091307005509</td>\n",
       "      <td>1564054127</td>\n",
       "      <td>248</td>\n",
       "    </tr>\n",
       "    <tr>\n",
       "      <th>4</th>\n",
       "      <td>PaymentScreenSuccessful</td>\n",
       "      <td>6217807653094995999</td>\n",
       "      <td>1564055322</td>\n",
       "      <td>248</td>\n",
       "    </tr>\n",
       "  </tbody>\n",
       "</table>\n",
       "</div>"
      ],
      "text/plain": [
       "                    events            device_id  event_timestamp  exp_id\n",
       "0         MainScreenAppear  4575588528974610257       1564029816     246\n",
       "1         MainScreenAppear  7416695313311560658       1564053102     246\n",
       "2  PaymentScreenSuccessful  3518123091307005509       1564054127     248\n",
       "3         CartScreenAppear  3518123091307005509       1564054127     248\n",
       "4  PaymentScreenSuccessful  6217807653094995999       1564055322     248"
      ]
     },
     "metadata": {},
     "output_type": "display_data"
    }
   ],
   "source": [
    "#log.columns = logs.columns.str.lower()\n",
    "\n",
    "# Заменяем названия столбцов\n",
    "logs = logs.rename(columns={\n",
    "    'EventName': 'events',\n",
    "    'DeviceIDHash': 'device_id',\n",
    "    'EventTimestamp': 'event_timestamp',\n",
    "    'ExpId': 'exp_id'\n",
    "})\n",
    "display(logs.head())"
   ]
  },
  {
   "cell_type": "markdown",
   "metadata": {},
   "source": [
    "#### Проверка пропусков и типов данных"
   ]
  },
  {
   "cell_type": "code",
   "execution_count": 4,
   "metadata": {},
   "outputs": [
    {
     "name": "stdout",
     "output_type": "stream",
     "text": [
      "<class 'pandas.core.frame.DataFrame'>\n",
      "RangeIndex: 244126 entries, 0 to 244125\n",
      "Data columns (total 4 columns):\n",
      " #   Column           Non-Null Count   Dtype \n",
      "---  ------           --------------   ----- \n",
      " 0   events           244126 non-null  object\n",
      " 1   device_id        244126 non-null  int64 \n",
      " 2   event_timestamp  244126 non-null  int64 \n",
      " 3   exp_id           244126 non-null  int64 \n",
      "dtypes: int64(3), object(1)\n",
      "memory usage: 7.5+ MB\n"
     ]
    }
   ],
   "source": [
    "logs.info()"
   ]
  },
  {
   "cell_type": "markdown",
   "metadata": {},
   "source": [
    "<b>Всего в датафрейме 244126 строк. Типы данных, кроме event_time, соответствуют данным.  </b>"
   ]
  },
  {
   "cell_type": "code",
   "execution_count": 5,
   "metadata": {},
   "outputs": [
    {
     "data": {
      "text/plain": [
       "events             0\n",
       "device_id          0\n",
       "event_timestamp    0\n",
       "exp_id             0\n",
       "dtype: int64"
      ]
     },
     "execution_count": 5,
     "metadata": {},
     "output_type": "execute_result"
    }
   ],
   "source": [
    "logs.isna().sum()"
   ]
  },
  {
   "cell_type": "markdown",
   "metadata": {},
   "source": [
    "<b>Пропусков в строках не обнаружено. </b>"
   ]
  },
  {
   "cell_type": "code",
   "execution_count": 6,
   "metadata": {},
   "outputs": [],
   "source": [
    "# Проверка дубликатов\n",
    "# duplicateRows = logs[logs.duplicated()]\n",
    "# print(duplicateRows)\n",
    "# # Проверка по имени, платформе и году релиза одновременно.\n",
    "# duplicateRows_two = logs[logs.duplicated(['event_name', 'device_id', 'event_time'])]\n",
    "# display(duplicateRows_two)\n",
    "# duplicateRows_two.count()"
   ]
  },
  {
   "cell_type": "markdown",
   "metadata": {},
   "source": [
    "#### Добавление столбцов даты и времени и отдельно дат"
   ]
  },
  {
   "cell_type": "code",
   "execution_count": 7,
   "metadata": {},
   "outputs": [
    {
     "data": {
      "text/html": [
       "<div>\n",
       "<style scoped>\n",
       "    .dataframe tbody tr th:only-of-type {\n",
       "        vertical-align: middle;\n",
       "    }\n",
       "\n",
       "    .dataframe tbody tr th {\n",
       "        vertical-align: top;\n",
       "    }\n",
       "\n",
       "    .dataframe thead th {\n",
       "        text-align: right;\n",
       "    }\n",
       "</style>\n",
       "<table border=\"1\" class=\"dataframe\">\n",
       "  <thead>\n",
       "    <tr style=\"text-align: right;\">\n",
       "      <th></th>\n",
       "      <th>events</th>\n",
       "      <th>device_id</th>\n",
       "      <th>event_timestamp</th>\n",
       "      <th>exp_id</th>\n",
       "      <th>dt</th>\n",
       "      <th>date</th>\n",
       "    </tr>\n",
       "  </thead>\n",
       "  <tbody>\n",
       "    <tr>\n",
       "      <th>0</th>\n",
       "      <td>MainScreenAppear</td>\n",
       "      <td>4575588528974610257</td>\n",
       "      <td>1564029816</td>\n",
       "      <td>246</td>\n",
       "      <td>2019-07-25 04:43:36</td>\n",
       "      <td>2019-07-25</td>\n",
       "    </tr>\n",
       "    <tr>\n",
       "      <th>1</th>\n",
       "      <td>MainScreenAppear</td>\n",
       "      <td>7416695313311560658</td>\n",
       "      <td>1564053102</td>\n",
       "      <td>246</td>\n",
       "      <td>2019-07-25 11:11:42</td>\n",
       "      <td>2019-07-25</td>\n",
       "    </tr>\n",
       "    <tr>\n",
       "      <th>2</th>\n",
       "      <td>PaymentScreenSuccessful</td>\n",
       "      <td>3518123091307005509</td>\n",
       "      <td>1564054127</td>\n",
       "      <td>248</td>\n",
       "      <td>2019-07-25 11:28:47</td>\n",
       "      <td>2019-07-25</td>\n",
       "    </tr>\n",
       "    <tr>\n",
       "      <th>3</th>\n",
       "      <td>CartScreenAppear</td>\n",
       "      <td>3518123091307005509</td>\n",
       "      <td>1564054127</td>\n",
       "      <td>248</td>\n",
       "      <td>2019-07-25 11:28:47</td>\n",
       "      <td>2019-07-25</td>\n",
       "    </tr>\n",
       "    <tr>\n",
       "      <th>4</th>\n",
       "      <td>PaymentScreenSuccessful</td>\n",
       "      <td>6217807653094995999</td>\n",
       "      <td>1564055322</td>\n",
       "      <td>248</td>\n",
       "      <td>2019-07-25 11:48:42</td>\n",
       "      <td>2019-07-25</td>\n",
       "    </tr>\n",
       "  </tbody>\n",
       "</table>\n",
       "</div>"
      ],
      "text/plain": [
       "                    events            device_id  event_timestamp  exp_id  \\\n",
       "0         MainScreenAppear  4575588528974610257       1564029816     246   \n",
       "1         MainScreenAppear  7416695313311560658       1564053102     246   \n",
       "2  PaymentScreenSuccessful  3518123091307005509       1564054127     248   \n",
       "3         CartScreenAppear  3518123091307005509       1564054127     248   \n",
       "4  PaymentScreenSuccessful  6217807653094995999       1564055322     248   \n",
       "\n",
       "                   dt       date  \n",
       "0 2019-07-25 04:43:36 2019-07-25  \n",
       "1 2019-07-25 11:11:42 2019-07-25  \n",
       "2 2019-07-25 11:28:47 2019-07-25  \n",
       "3 2019-07-25 11:28:47 2019-07-25  \n",
       "4 2019-07-25 11:48:42 2019-07-25  "
      ]
     },
     "metadata": {},
     "output_type": "display_data"
    },
    {
     "data": {
      "text/html": [
       "<div>\n",
       "<style scoped>\n",
       "    .dataframe tbody tr th:only-of-type {\n",
       "        vertical-align: middle;\n",
       "    }\n",
       "\n",
       "    .dataframe tbody tr th {\n",
       "        vertical-align: top;\n",
       "    }\n",
       "\n",
       "    .dataframe thead th {\n",
       "        text-align: right;\n",
       "    }\n",
       "</style>\n",
       "<table border=\"1\" class=\"dataframe\">\n",
       "  <thead>\n",
       "    <tr style=\"text-align: right;\">\n",
       "      <th></th>\n",
       "      <th>events</th>\n",
       "      <th>device_id</th>\n",
       "      <th>event_timestamp</th>\n",
       "      <th>exp_id</th>\n",
       "      <th>dt</th>\n",
       "      <th>date</th>\n",
       "    </tr>\n",
       "  </thead>\n",
       "  <tbody>\n",
       "    <tr>\n",
       "      <th>244121</th>\n",
       "      <td>MainScreenAppear</td>\n",
       "      <td>4599628364049201812</td>\n",
       "      <td>1565212345</td>\n",
       "      <td>247</td>\n",
       "      <td>2019-08-07 21:12:25</td>\n",
       "      <td>2019-08-07</td>\n",
       "    </tr>\n",
       "    <tr>\n",
       "      <th>244122</th>\n",
       "      <td>MainScreenAppear</td>\n",
       "      <td>5849806612437486590</td>\n",
       "      <td>1565212439</td>\n",
       "      <td>246</td>\n",
       "      <td>2019-08-07 21:13:59</td>\n",
       "      <td>2019-08-07</td>\n",
       "    </tr>\n",
       "    <tr>\n",
       "      <th>244123</th>\n",
       "      <td>MainScreenAppear</td>\n",
       "      <td>5746969938801999050</td>\n",
       "      <td>1565212483</td>\n",
       "      <td>246</td>\n",
       "      <td>2019-08-07 21:14:43</td>\n",
       "      <td>2019-08-07</td>\n",
       "    </tr>\n",
       "    <tr>\n",
       "      <th>244124</th>\n",
       "      <td>MainScreenAppear</td>\n",
       "      <td>5746969938801999050</td>\n",
       "      <td>1565212498</td>\n",
       "      <td>246</td>\n",
       "      <td>2019-08-07 21:14:58</td>\n",
       "      <td>2019-08-07</td>\n",
       "    </tr>\n",
       "    <tr>\n",
       "      <th>244125</th>\n",
       "      <td>OffersScreenAppear</td>\n",
       "      <td>5746969938801999050</td>\n",
       "      <td>1565212517</td>\n",
       "      <td>246</td>\n",
       "      <td>2019-08-07 21:15:17</td>\n",
       "      <td>2019-08-07</td>\n",
       "    </tr>\n",
       "  </tbody>\n",
       "</table>\n",
       "</div>"
      ],
      "text/plain": [
       "                    events            device_id  event_timestamp  exp_id  \\\n",
       "244121    MainScreenAppear  4599628364049201812       1565212345     247   \n",
       "244122    MainScreenAppear  5849806612437486590       1565212439     246   \n",
       "244123    MainScreenAppear  5746969938801999050       1565212483     246   \n",
       "244124    MainScreenAppear  5746969938801999050       1565212498     246   \n",
       "244125  OffersScreenAppear  5746969938801999050       1565212517     246   \n",
       "\n",
       "                        dt       date  \n",
       "244121 2019-08-07 21:12:25 2019-08-07  \n",
       "244122 2019-08-07 21:13:59 2019-08-07  \n",
       "244123 2019-08-07 21:14:43 2019-08-07  \n",
       "244124 2019-08-07 21:14:58 2019-08-07  \n",
       "244125 2019-08-07 21:15:17 2019-08-07  "
      ]
     },
     "metadata": {},
     "output_type": "display_data"
    }
   ],
   "source": [
    "# Создаем колонкb с датой-временем и с датой отдельно\n",
    "logs['dt'] = pd.to_datetime(logs['event_timestamp'],   unit=\"s\")\n",
    "logs['date'] = pd.to_datetime(logs['dt']).dt.date\n",
    "logs['date'] = pd.to_datetime(logs['date'])\n",
    "display(logs.head())\n",
    "display(logs.tail())"
   ]
  },
  {
   "cell_type": "code",
   "execution_count": 8,
   "metadata": {},
   "outputs": [
    {
     "name": "stdout",
     "output_type": "stream",
     "text": [
      "<class 'pandas.core.frame.DataFrame'>\n",
      "RangeIndex: 244126 entries, 0 to 244125\n",
      "Data columns (total 6 columns):\n",
      " #   Column           Non-Null Count   Dtype         \n",
      "---  ------           --------------   -----         \n",
      " 0   events           244126 non-null  object        \n",
      " 1   device_id        244126 non-null  int64         \n",
      " 2   event_timestamp  244126 non-null  int64         \n",
      " 3   exp_id           244126 non-null  int64         \n",
      " 4   dt               244126 non-null  datetime64[ns]\n",
      " 5   date             244126 non-null  datetime64[ns]\n",
      "dtypes: datetime64[ns](2), int64(3), object(1)\n",
      "memory usage: 11.2+ MB\n"
     ]
    }
   ],
   "source": [
    "logs.info()"
   ]
  },
  {
   "cell_type": "markdown",
   "metadata": {},
   "source": [
    "Добавили две колонки с датами/временем и с датой отдельно как указано в задании"
   ]
  },
  {
   "cell_type": "markdown",
   "metadata": {},
   "source": [
    "#### Проверка пересечения пользователей в группах"
   ]
  },
  {
   "cell_type": "code",
   "execution_count": 9,
   "metadata": {},
   "outputs": [
    {
     "name": "stdout",
     "output_type": "stream",
     "text": [
      "[False]\n"
     ]
    }
   ],
   "source": [
    "# Проверим отсутствие пересечения пользователей в группах 246/247\n",
    "\n",
    "mask = logs.loc[logs[\"exp_id\"]==246, \"device_id\"].isin(logs.loc[logs[\"exp_id\"]==247, \"device_id\"])\n",
    "print(mask.unique())\n",
    "#res = df.drop(mask[mask].index)"
   ]
  },
  {
   "cell_type": "code",
   "execution_count": 10,
   "metadata": {},
   "outputs": [
    {
     "name": "stdout",
     "output_type": "stream",
     "text": [
      "[False]\n"
     ]
    }
   ],
   "source": [
    "# Проверим отсутствие пересечения пользователей в группах 246/248\n",
    "\n",
    "mask = logs.loc[logs[\"exp_id\"]==246, \"device_id\"].isin(logs.loc[logs[\"exp_id\"]==248, \"device_id\"])\n",
    "print(mask.unique())\n",
    "#res = df.drop(mask[mask].index)"
   ]
  },
  {
   "cell_type": "code",
   "execution_count": 11,
   "metadata": {},
   "outputs": [
    {
     "name": "stdout",
     "output_type": "stream",
     "text": [
      "[False]\n"
     ]
    }
   ],
   "source": [
    "# Проверим отсутствие пересечения пользователей в группах 247/248\n",
    "\n",
    "mask = logs.loc[logs[\"exp_id\"]==247, \"device_id\"].isin(logs.loc[logs[\"exp_id\"]==248, \"device_id\"])\n",
    "print(mask.unique())\n",
    "#res = df.drop(mask[mask].index)"
   ]
  },
  {
   "cell_type": "markdown",
   "metadata": {},
   "source": [
    "### Шаг 3. Изучение и проверка данных"
   ]
  },
  {
   "cell_type": "markdown",
   "metadata": {},
   "source": [
    "- Сколько всего событий в логе?\n",
    "- Сколько всего пользователей в логе?\n",
    "- Сколько в среднем событий приходится на пользователя?\n",
    "- Данными за какой период вы располагаете? Найдите максимальную и минимальную дату. Изучите, как меняется количество данных: постройте столбчатую диаграмму, которая отобразит количество событий в зависимости от времени в разрезе групп. Можно ли быть уверенным, что у вас одинаково полные данные за весь период? Технически в логи новых дней по некоторым пользователям могут «доезжать» события из прошлого — это может «перекашивать данные». Определите, с какого момента данные полные и отбросьте более старые. Данными за какой период времени вы располагаете на самом деле?\n",
    "- Много ли событий и пользователей вы потеряли, отбросив старые данные?\n",
    "- Проверьте, что у вас есть пользователи из всех трёх экспериментальных групп."
   ]
  },
  {
   "cell_type": "markdown",
   "metadata": {},
   "source": [
    "#### Количество событий в логе"
   ]
  },
  {
   "cell_type": "code",
   "execution_count": 12,
   "metadata": {},
   "outputs": [
    {
     "name": "stdout",
     "output_type": "stream",
     "text": [
      "['MainScreenAppear' 'PaymentScreenSuccessful' 'CartScreenAppear'\n",
      " 'OffersScreenAppear' 'Tutorial']\n",
      "Количество событий в логе:  5\n"
     ]
    }
   ],
   "source": [
    "print(logs['events'].unique())\n",
    "print('Количество событий в логе: ', logs['events'].nunique())"
   ]
  },
  {
   "cell_type": "markdown",
   "metadata": {},
   "source": [
    "<b>В логе 5 событий:</b> <br/>1) MainScreenAppear, <br/>2) PaymentScreenSuccessful, <br/>3) CartScreenAppear, <br/>\n",
    "4) OffersScreenAppear, <br/> 5) Tutorial. "
   ]
  },
  {
   "cell_type": "markdown",
   "metadata": {},
   "source": [
    "#### Количество пользователей в логе"
   ]
  },
  {
   "cell_type": "code",
   "execution_count": 13,
   "metadata": {},
   "outputs": [
    {
     "name": "stdout",
     "output_type": "stream",
     "text": [
      "Количество пользователей в логе: 7551\n"
     ]
    }
   ],
   "source": [
    "# Количество пользователей в логе\n",
    "n = len(pd.unique(logs['device_id']))\n",
    "print(\"Количество пользователей в логе:\", n)"
   ]
  },
  {
   "cell_type": "markdown",
   "metadata": {},
   "source": [
    "#### Среднее количество событий на пользователя"
   ]
  },
  {
   "cell_type": "code",
   "execution_count": 14,
   "metadata": {},
   "outputs": [
    {
     "name": "stdout",
     "output_type": "stream",
     "text": [
      "                   events\n",
      "device_id                \n",
      "6888746892508752        1\n",
      "6909561520679493        5\n",
      "6922444491712477       47\n",
      "7435777799948366        6\n",
      "7702139951469979      137\n",
      "8486814028069281       10\n",
      "8740973466195562        9\n",
      "9841258664663090       29\n",
      "12692216027168046      10\n",
      "15708180189885246     126\n"
     ]
    }
   ],
   "source": [
    "logs_outliers = logs.groupby('device_id').agg({'events':'count'})\n",
    "print(logs_outliers.head(10))"
   ]
  },
  {
   "cell_type": "code",
   "execution_count": 15,
   "metadata": {},
   "outputs": [
    {
     "data": {
      "image/png": "[encoded data removed]",
      "text/plain": [
       "<Figure size 2000x1200 with 1 Axes>"
      ]
     },
     "metadata": {},
     "output_type": "display_data"
    }
   ],
   "source": [
    "# Ящики с усами \n",
    "plt.figure(figsize=(20,12))\n",
    "sns.boxplot(data=logs_outliers)\n",
    "plt.title('Ящик с усами (выбросы)', fontsize=15)\n",
    "plt.xlabel('События', fontsize=15)\n",
    "plt.ylabel('Количество событий на одного пользователя',fontsize=15)\n",
    "plt.grid()\n",
    "plt.ylim(0, 200.0)\n",
    "plt.show()"
   ]
  },
  {
   "cell_type": "code",
   "execution_count": 16,
   "metadata": {},
   "outputs": [
    {
     "name": "stdout",
     "output_type": "stream",
     "text": [
      "В среднем 20.0 событий приходится на пользователя\n"
     ]
    }
   ],
   "source": [
    "# total_number_of_events = logs['events'].count()\n",
    "# total_number_of_users = logs['device_id'].nunique()\n",
    "# avg_number_of_events = round(total_number_of_events/total_number_of_users, 0)\n",
    "# print('В среднем', avg_number_of_events, 'события приходится на пользователя')\n",
    "\n",
    "avg_number_of_events = logs_outliers['events'].median()\n",
    "print('В среднем', avg_number_of_events, 'событий приходится на пользователя')"
   ]
  },
  {
   "cell_type": "markdown",
   "metadata": {},
   "source": [
    "#### Анализ данных в разрезе периода. Даты, диаграммы, актуальность данных."
   ]
  },
  {
   "cell_type": "code",
   "execution_count": 17,
   "metadata": {},
   "outputs": [
    {
     "name": "stdout",
     "output_type": "stream",
     "text": [
      "Минимальная дата привлечения пользователей 2019-07-25 04:43:36\n",
      "Максимальная дата привлечения пользователей 2019-08-07 21:15:17\n"
     ]
    }
   ],
   "source": [
    "# минимальная и максимальная даты привлечения пользователей.\n",
    "min_observation_date = logs.dt.min()\n",
    "max_observation_date = logs.dt.max()\n",
    "\n",
    "print(f'Минимальная дата привлечения пользователей', min_observation_date)\n",
    "print(f'Максимальная дата привлечения пользователей', max_observation_date)"
   ]
  },
  {
   "cell_type": "markdown",
   "metadata": {},
   "source": [
    "<b>Анализ ведется за период с 25 июля по 7 августа 2019 года.</b>"
   ]
  },
  {
   "cell_type": "code",
   "execution_count": 18,
   "metadata": {},
   "outputs": [
    {
     "data": {
      "text/html": [
       "<div>\n",
       "<style scoped>\n",
       "    .dataframe tbody tr th:only-of-type {\n",
       "        vertical-align: middle;\n",
       "    }\n",
       "\n",
       "    .dataframe tbody tr th {\n",
       "        vertical-align: top;\n",
       "    }\n",
       "\n",
       "    .dataframe thead th {\n",
       "        text-align: right;\n",
       "    }\n",
       "</style>\n",
       "<table border=\"1\" class=\"dataframe\">\n",
       "  <thead>\n",
       "    <tr style=\"text-align: right;\">\n",
       "      <th>exp_id</th>\n",
       "      <th>246</th>\n",
       "      <th>247</th>\n",
       "      <th>248</th>\n",
       "    </tr>\n",
       "    <tr>\n",
       "      <th>date</th>\n",
       "      <th></th>\n",
       "      <th></th>\n",
       "      <th></th>\n",
       "    </tr>\n",
       "  </thead>\n",
       "  <tbody>\n",
       "    <tr>\n",
       "      <th>2019-07-25</th>\n",
       "      <td>4</td>\n",
       "      <td>1</td>\n",
       "      <td>4</td>\n",
       "    </tr>\n",
       "    <tr>\n",
       "      <th>2019-07-26</th>\n",
       "      <td>14</td>\n",
       "      <td>8</td>\n",
       "      <td>9</td>\n",
       "    </tr>\n",
       "    <tr>\n",
       "      <th>2019-07-27</th>\n",
       "      <td>24</td>\n",
       "      <td>23</td>\n",
       "      <td>8</td>\n",
       "    </tr>\n",
       "    <tr>\n",
       "      <th>2019-07-28</th>\n",
       "      <td>33</td>\n",
       "      <td>36</td>\n",
       "      <td>36</td>\n",
       "    </tr>\n",
       "    <tr>\n",
       "      <th>2019-07-29</th>\n",
       "      <td>55</td>\n",
       "      <td>58</td>\n",
       "      <td>71</td>\n",
       "    </tr>\n",
       "    <tr>\n",
       "      <th>2019-07-30</th>\n",
       "      <td>129</td>\n",
       "      <td>138</td>\n",
       "      <td>146</td>\n",
       "    </tr>\n",
       "    <tr>\n",
       "      <th>2019-07-31</th>\n",
       "      <td>620</td>\n",
       "      <td>664</td>\n",
       "      <td>747</td>\n",
       "    </tr>\n",
       "    <tr>\n",
       "      <th>2019-08-01</th>\n",
       "      <td>11581</td>\n",
       "      <td>12336</td>\n",
       "      <td>12312</td>\n",
       "    </tr>\n",
       "    <tr>\n",
       "      <th>2019-08-02</th>\n",
       "      <td>10960</td>\n",
       "      <td>11015</td>\n",
       "      <td>13631</td>\n",
       "    </tr>\n",
       "    <tr>\n",
       "      <th>2019-08-03</th>\n",
       "      <td>10599</td>\n",
       "      <td>11040</td>\n",
       "      <td>11712</td>\n",
       "    </tr>\n",
       "    <tr>\n",
       "      <th>2019-08-04</th>\n",
       "      <td>11533</td>\n",
       "      <td>9949</td>\n",
       "      <td>11551</td>\n",
       "    </tr>\n",
       "    <tr>\n",
       "      <th>2019-08-05</th>\n",
       "      <td>12381</td>\n",
       "      <td>10971</td>\n",
       "      <td>12761</td>\n",
       "    </tr>\n",
       "    <tr>\n",
       "      <th>2019-08-06</th>\n",
       "      <td>11740</td>\n",
       "      <td>11731</td>\n",
       "      <td>12351</td>\n",
       "    </tr>\n",
       "    <tr>\n",
       "      <th>2019-08-07</th>\n",
       "      <td>10631</td>\n",
       "      <td>10105</td>\n",
       "      <td>10408</td>\n",
       "    </tr>\n",
       "  </tbody>\n",
       "</table>\n",
       "</div>"
      ],
      "text/plain": [
       "exp_id        246    247    248\n",
       "date                           \n",
       "2019-07-25      4      1      4\n",
       "2019-07-26     14      8      9\n",
       "2019-07-27     24     23      8\n",
       "2019-07-28     33     36     36\n",
       "2019-07-29     55     58     71\n",
       "2019-07-30    129    138    146\n",
       "2019-07-31    620    664    747\n",
       "2019-08-01  11581  12336  12312\n",
       "2019-08-02  10960  11015  13631\n",
       "2019-08-03  10599  11040  11712\n",
       "2019-08-04  11533   9949  11551\n",
       "2019-08-05  12381  10971  12761\n",
       "2019-08-06  11740  11731  12351\n",
       "2019-08-07  10631  10105  10408"
      ]
     },
     "metadata": {},
     "output_type": "display_data"
    },
    {
     "data": {
      "text/plain": [
       "<Figure size 1600x800 with 0 Axes>"
      ]
     },
     "metadata": {},
     "output_type": "display_data"
    },
    {
     "data": {
      "image/png": "[encoded data removed]",
      "text/plain": [
       "<Figure size 640x480 with 1 Axes>"
      ]
     },
     "metadata": {},
     "output_type": "display_data"
    }
   ],
   "source": [
    "groups = logs.pivot_table(index = 'date', columns = 'exp_id', values = 'events', aggfunc = 'count')\n",
    "display(groups)\n",
    "plt.figure(figsize=(16, 8))\n",
    "groups.plot(kind='bar')\n",
    "plt.title('Количество событий в зависимости от времени в разрезе групп')\n",
    "plt.xlabel('Дни')\n",
    "plt.ylabel('Количество событий')\n",
    "plt.legend(title='Группы')\n",
    "plt.grid(True)\n",
    "plt.xticks(rotation=90)\n",
    "plt.show()"
   ]
  },
  {
   "cell_type": "code",
   "execution_count": 19,
   "metadata": {},
   "outputs": [
    {
     "data": {
      "image/png": "[encoded data removed]",
      "text/plain": [
       "<Figure size 1200x600 with 1 Axes>"
      ]
     },
     "metadata": {},
     "output_type": "display_data"
    }
   ],
   "source": [
    "# График изменения количества событий в зависимости от времени в разрезе групп\n",
    "plt.figure(figsize=(12, 6))\n",
    "logs.groupby(['exp_id', 'date'])['events'].count().unstack('exp_id').plot(ax=plt.gca())\n",
    "plt.title('Динамика изменения количества событий в зависимости от времени в разрезе групп')\n",
    "plt.xlabel('Дни')\n",
    "plt.ylabel('Количество событий')\n",
    "plt.legend(title='Группы')\n",
    "plt.grid(True)\n",
    "plt.xticks(rotation=90)\n",
    "plt.show()"
   ]
  },
  {
   "cell_type": "code",
   "execution_count": 20,
   "metadata": {},
   "outputs": [
    {
     "data": {
      "text/plain": [
       "exp_id\n",
       "246    80304\n",
       "247    78075\n",
       "248    85747\n",
       "Name: events, dtype: int64"
      ]
     },
     "execution_count": 20,
     "metadata": {},
     "output_type": "execute_result"
    }
   ],
   "source": [
    "logs.groupby('exp_id')['events'].agg('count')"
   ]
  },
  {
   "cell_type": "markdown",
   "metadata": {},
   "source": [
    "<b>Графики показывают, что за весь период данные не одинаково полные.<br/>\n",
    "С 01 августа идет резкий скачок вверх в 20 раз по показателю количества событий.<br/></b>\n"
   ]
  },
  {
   "cell_type": "code",
   "execution_count": 21,
   "metadata": {},
   "outputs": [
    {
     "data": {
      "text/html": [
       "<div>\n",
       "<style scoped>\n",
       "    .dataframe tbody tr th:only-of-type {\n",
       "        vertical-align: middle;\n",
       "    }\n",
       "\n",
       "    .dataframe tbody tr th {\n",
       "        vertical-align: top;\n",
       "    }\n",
       "\n",
       "    .dataframe thead th {\n",
       "        text-align: right;\n",
       "    }\n",
       "</style>\n",
       "<table border=\"1\" class=\"dataframe\">\n",
       "  <thead>\n",
       "    <tr style=\"text-align: right;\">\n",
       "      <th></th>\n",
       "      <th>events</th>\n",
       "      <th>device_id</th>\n",
       "      <th>event_timestamp</th>\n",
       "      <th>exp_id</th>\n",
       "      <th>dt</th>\n",
       "      <th>date</th>\n",
       "    </tr>\n",
       "  </thead>\n",
       "  <tbody>\n",
       "    <tr>\n",
       "      <th>2828</th>\n",
       "      <td>Tutorial</td>\n",
       "      <td>3737462046622621720</td>\n",
       "      <td>1564618048</td>\n",
       "      <td>246</td>\n",
       "      <td>2019-08-01 00:07:28</td>\n",
       "      <td>2019-08-01</td>\n",
       "    </tr>\n",
       "    <tr>\n",
       "      <th>2829</th>\n",
       "      <td>MainScreenAppear</td>\n",
       "      <td>3737462046622621720</td>\n",
       "      <td>1564618080</td>\n",
       "      <td>246</td>\n",
       "      <td>2019-08-01 00:08:00</td>\n",
       "      <td>2019-08-01</td>\n",
       "    </tr>\n",
       "    <tr>\n",
       "      <th>2830</th>\n",
       "      <td>MainScreenAppear</td>\n",
       "      <td>3737462046622621720</td>\n",
       "      <td>1564618135</td>\n",
       "      <td>246</td>\n",
       "      <td>2019-08-01 00:08:55</td>\n",
       "      <td>2019-08-01</td>\n",
       "    </tr>\n",
       "    <tr>\n",
       "      <th>2831</th>\n",
       "      <td>OffersScreenAppear</td>\n",
       "      <td>3737462046622621720</td>\n",
       "      <td>1564618138</td>\n",
       "      <td>246</td>\n",
       "      <td>2019-08-01 00:08:58</td>\n",
       "      <td>2019-08-01</td>\n",
       "    </tr>\n",
       "    <tr>\n",
       "      <th>2832</th>\n",
       "      <td>MainScreenAppear</td>\n",
       "      <td>1433840883824088890</td>\n",
       "      <td>1564618139</td>\n",
       "      <td>247</td>\n",
       "      <td>2019-08-01 00:08:59</td>\n",
       "      <td>2019-08-01</td>\n",
       "    </tr>\n",
       "    <tr>\n",
       "      <th>...</th>\n",
       "      <td>...</td>\n",
       "      <td>...</td>\n",
       "      <td>...</td>\n",
       "      <td>...</td>\n",
       "      <td>...</td>\n",
       "      <td>...</td>\n",
       "    </tr>\n",
       "    <tr>\n",
       "      <th>244121</th>\n",
       "      <td>MainScreenAppear</td>\n",
       "      <td>4599628364049201812</td>\n",
       "      <td>1565212345</td>\n",
       "      <td>247</td>\n",
       "      <td>2019-08-07 21:12:25</td>\n",
       "      <td>2019-08-07</td>\n",
       "    </tr>\n",
       "    <tr>\n",
       "      <th>244122</th>\n",
       "      <td>MainScreenAppear</td>\n",
       "      <td>5849806612437486590</td>\n",
       "      <td>1565212439</td>\n",
       "      <td>246</td>\n",
       "      <td>2019-08-07 21:13:59</td>\n",
       "      <td>2019-08-07</td>\n",
       "    </tr>\n",
       "    <tr>\n",
       "      <th>244123</th>\n",
       "      <td>MainScreenAppear</td>\n",
       "      <td>5746969938801999050</td>\n",
       "      <td>1565212483</td>\n",
       "      <td>246</td>\n",
       "      <td>2019-08-07 21:14:43</td>\n",
       "      <td>2019-08-07</td>\n",
       "    </tr>\n",
       "    <tr>\n",
       "      <th>244124</th>\n",
       "      <td>MainScreenAppear</td>\n",
       "      <td>5746969938801999050</td>\n",
       "      <td>1565212498</td>\n",
       "      <td>246</td>\n",
       "      <td>2019-08-07 21:14:58</td>\n",
       "      <td>2019-08-07</td>\n",
       "    </tr>\n",
       "    <tr>\n",
       "      <th>244125</th>\n",
       "      <td>OffersScreenAppear</td>\n",
       "      <td>5746969938801999050</td>\n",
       "      <td>1565212517</td>\n",
       "      <td>246</td>\n",
       "      <td>2019-08-07 21:15:17</td>\n",
       "      <td>2019-08-07</td>\n",
       "    </tr>\n",
       "  </tbody>\n",
       "</table>\n",
       "<p>241298 rows × 6 columns</p>\n",
       "</div>"
      ],
      "text/plain": [
       "                    events            device_id  event_timestamp  exp_id  \\\n",
       "2828              Tutorial  3737462046622621720       1564618048     246   \n",
       "2829      MainScreenAppear  3737462046622621720       1564618080     246   \n",
       "2830      MainScreenAppear  3737462046622621720       1564618135     246   \n",
       "2831    OffersScreenAppear  3737462046622621720       1564618138     246   \n",
       "2832      MainScreenAppear  1433840883824088890       1564618139     247   \n",
       "...                    ...                  ...              ...     ...   \n",
       "244121    MainScreenAppear  4599628364049201812       1565212345     247   \n",
       "244122    MainScreenAppear  5849806612437486590       1565212439     246   \n",
       "244123    MainScreenAppear  5746969938801999050       1565212483     246   \n",
       "244124    MainScreenAppear  5746969938801999050       1565212498     246   \n",
       "244125  OffersScreenAppear  5746969938801999050       1565212517     246   \n",
       "\n",
       "                        dt       date  \n",
       "2828   2019-08-01 00:07:28 2019-08-01  \n",
       "2829   2019-08-01 00:08:00 2019-08-01  \n",
       "2830   2019-08-01 00:08:55 2019-08-01  \n",
       "2831   2019-08-01 00:08:58 2019-08-01  \n",
       "2832   2019-08-01 00:08:59 2019-08-01  \n",
       "...                    ...        ...  \n",
       "244121 2019-08-07 21:12:25 2019-08-07  \n",
       "244122 2019-08-07 21:13:59 2019-08-07  \n",
       "244123 2019-08-07 21:14:43 2019-08-07  \n",
       "244124 2019-08-07 21:14:58 2019-08-07  \n",
       "244125 2019-08-07 21:15:17 2019-08-07  \n",
       "\n",
       "[241298 rows x 6 columns]"
      ]
     },
     "metadata": {},
     "output_type": "display_data"
    }
   ],
   "source": [
    "# Срез данных за период 01-07 авг\n",
    "filtered_logs = logs.loc[(logs['date'] > '2019-07-31') & (logs['date'] < '2019-08-08')]\n",
    "display(filtered_logs)"
   ]
  },
  {
   "cell_type": "code",
   "execution_count": 22,
   "metadata": {},
   "outputs": [
    {
     "data": {
      "text/html": [
       "<div>\n",
       "<style scoped>\n",
       "    .dataframe tbody tr th:only-of-type {\n",
       "        vertical-align: middle;\n",
       "    }\n",
       "\n",
       "    .dataframe tbody tr th {\n",
       "        vertical-align: top;\n",
       "    }\n",
       "\n",
       "    .dataframe thead th {\n",
       "        text-align: right;\n",
       "    }\n",
       "</style>\n",
       "<table border=\"1\" class=\"dataframe\">\n",
       "  <thead>\n",
       "    <tr style=\"text-align: right;\">\n",
       "      <th>exp_id</th>\n",
       "      <th>246</th>\n",
       "      <th>247</th>\n",
       "      <th>248</th>\n",
       "    </tr>\n",
       "    <tr>\n",
       "      <th>date</th>\n",
       "      <th></th>\n",
       "      <th></th>\n",
       "      <th></th>\n",
       "    </tr>\n",
       "  </thead>\n",
       "  <tbody>\n",
       "    <tr>\n",
       "      <th>2019-08-01</th>\n",
       "      <td>11581</td>\n",
       "      <td>12336</td>\n",
       "      <td>12312</td>\n",
       "    </tr>\n",
       "    <tr>\n",
       "      <th>2019-08-02</th>\n",
       "      <td>10960</td>\n",
       "      <td>11015</td>\n",
       "      <td>13631</td>\n",
       "    </tr>\n",
       "    <tr>\n",
       "      <th>2019-08-03</th>\n",
       "      <td>10599</td>\n",
       "      <td>11040</td>\n",
       "      <td>11712</td>\n",
       "    </tr>\n",
       "    <tr>\n",
       "      <th>2019-08-04</th>\n",
       "      <td>11533</td>\n",
       "      <td>9949</td>\n",
       "      <td>11551</td>\n",
       "    </tr>\n",
       "    <tr>\n",
       "      <th>2019-08-05</th>\n",
       "      <td>12381</td>\n",
       "      <td>10971</td>\n",
       "      <td>12761</td>\n",
       "    </tr>\n",
       "    <tr>\n",
       "      <th>2019-08-06</th>\n",
       "      <td>11740</td>\n",
       "      <td>11731</td>\n",
       "      <td>12351</td>\n",
       "    </tr>\n",
       "    <tr>\n",
       "      <th>2019-08-07</th>\n",
       "      <td>10631</td>\n",
       "      <td>10105</td>\n",
       "      <td>10408</td>\n",
       "    </tr>\n",
       "  </tbody>\n",
       "</table>\n",
       "</div>"
      ],
      "text/plain": [
       "exp_id        246    247    248\n",
       "date                           \n",
       "2019-08-01  11581  12336  12312\n",
       "2019-08-02  10960  11015  13631\n",
       "2019-08-03  10599  11040  11712\n",
       "2019-08-04  11533   9949  11551\n",
       "2019-08-05  12381  10971  12761\n",
       "2019-08-06  11740  11731  12351\n",
       "2019-08-07  10631  10105  10408"
      ]
     },
     "metadata": {},
     "output_type": "display_data"
    },
    {
     "data": {
      "text/plain": [
       "<Figure size 2000x1000 with 0 Axes>"
      ]
     },
     "metadata": {},
     "output_type": "display_data"
    },
    {
     "data": {
      "image/png": "[encoded data removed]",
      "text/plain": [
       "<Figure size 640x480 with 1 Axes>"
      ]
     },
     "metadata": {},
     "output_type": "display_data"
    }
   ],
   "source": [
    "groups_two = filtered_logs.pivot_table(index = 'date', columns = 'exp_id', values = 'events', aggfunc = 'count')\n",
    "display(groups_two)\n",
    "\n",
    "plt.figure(figsize=(20, 10))\n",
    "groups_two.plot(kind='bar')\n",
    "plt.title('Количество событий в зависимости от времени в разрезе групп')\n",
    "plt.xlabel('Дни')\n",
    "plt.ylabel('Количество событий')\n",
    "plt.legend(title='Группы')\n",
    "plt.grid(True)\n",
    "plt.xticks(rotation=90)\n",
    "plt.show()"
   ]
  },
  {
   "cell_type": "markdown",
   "metadata": {},
   "source": [
    "#### Разница в суммарном количестве событий до и после среза"
   ]
  },
  {
   "cell_type": "code",
   "execution_count": 23,
   "metadata": {},
   "outputs": [
    {
     "data": {
      "text/html": [
       "<div>\n",
       "<style scoped>\n",
       "    .dataframe tbody tr th:only-of-type {\n",
       "        vertical-align: middle;\n",
       "    }\n",
       "\n",
       "    .dataframe tbody tr th {\n",
       "        vertical-align: top;\n",
       "    }\n",
       "\n",
       "    .dataframe thead th {\n",
       "        text-align: right;\n",
       "    }\n",
       "</style>\n",
       "<table border=\"1\" class=\"dataframe\">\n",
       "  <thead>\n",
       "    <tr style=\"text-align: right;\">\n",
       "      <th></th>\n",
       "      <th>events</th>\n",
       "    </tr>\n",
       "    <tr>\n",
       "      <th>exp_id</th>\n",
       "      <th></th>\n",
       "    </tr>\n",
       "  </thead>\n",
       "  <tbody>\n",
       "    <tr>\n",
       "      <th>246</th>\n",
       "      <td>79425</td>\n",
       "    </tr>\n",
       "    <tr>\n",
       "      <th>247</th>\n",
       "      <td>77147</td>\n",
       "    </tr>\n",
       "    <tr>\n",
       "      <th>248</th>\n",
       "      <td>84726</td>\n",
       "    </tr>\n",
       "  </tbody>\n",
       "</table>\n",
       "</div>"
      ],
      "text/plain": [
       "        events\n",
       "exp_id        \n",
       "246      79425\n",
       "247      77147\n",
       "248      84726"
      ]
     },
     "metadata": {},
     "output_type": "display_data"
    },
    {
     "name": "stdout",
     "output_type": "stream",
     "text": [
      "Всего событий: 241298\n",
      "Количество пользователей в логе после среза: 7534\n"
     ]
    }
   ],
   "source": [
    "# Количество событий в логе после среза\n",
    "events_after_cutting = filtered_logs.groupby('exp_id').agg({'events':'count'})\n",
    "display(events_after_cutting)\n",
    "\n",
    "total_after =events_after_cutting['events'].sum()\n",
    "print('Всего событий:', total_after)\n",
    "\n",
    "# Количество пользователей в логе после среза\n",
    "m = len(pd.unique(filtered_logs['device_id']))\n",
    "print(\"Количество пользователей в логе после среза:\", m)"
   ]
  },
  {
   "cell_type": "code",
   "execution_count": 24,
   "metadata": {},
   "outputs": [
    {
     "data": {
      "text/html": [
       "<div>\n",
       "<style scoped>\n",
       "    .dataframe tbody tr th:only-of-type {\n",
       "        vertical-align: middle;\n",
       "    }\n",
       "\n",
       "    .dataframe tbody tr th {\n",
       "        vertical-align: top;\n",
       "    }\n",
       "\n",
       "    .dataframe thead th {\n",
       "        text-align: right;\n",
       "    }\n",
       "</style>\n",
       "<table border=\"1\" class=\"dataframe\">\n",
       "  <thead>\n",
       "    <tr style=\"text-align: right;\">\n",
       "      <th></th>\n",
       "      <th>events</th>\n",
       "    </tr>\n",
       "    <tr>\n",
       "      <th>exp_id</th>\n",
       "      <th></th>\n",
       "    </tr>\n",
       "  </thead>\n",
       "  <tbody>\n",
       "    <tr>\n",
       "      <th>246</th>\n",
       "      <td>80304</td>\n",
       "    </tr>\n",
       "    <tr>\n",
       "      <th>247</th>\n",
       "      <td>78075</td>\n",
       "    </tr>\n",
       "    <tr>\n",
       "      <th>248</th>\n",
       "      <td>85747</td>\n",
       "    </tr>\n",
       "  </tbody>\n",
       "</table>\n",
       "</div>"
      ],
      "text/plain": [
       "        events\n",
       "exp_id        \n",
       "246      80304\n",
       "247      78075\n",
       "248      85747"
      ]
     },
     "metadata": {},
     "output_type": "display_data"
    },
    {
     "name": "stdout",
     "output_type": "stream",
     "text": [
      "Всего событий: 244126\n",
      "Количество пользователей в логе до среза: 7551\n"
     ]
    }
   ],
   "source": [
    "# Количество событий в логе до среза\n",
    "events_before_cutting = logs.groupby('exp_id').agg({'events':'count'})\n",
    "display(events_before_cutting)\n",
    "\n",
    "total_before = events_before_cutting['events'].sum()\n",
    "print('Всего событий:', total_before)\n",
    "\n",
    "# Количество пользователей в логе до среза\n",
    "l = len(pd.unique(logs['device_id']))\n",
    "print(\"Количество пользователей в логе до среза:\", l)"
   ]
  },
  {
   "cell_type": "code",
   "execution_count": 25,
   "metadata": {},
   "outputs": [
    {
     "name": "stdout",
     "output_type": "stream",
     "text": [
      "exp_id\n",
      "246     879\n",
      "247     928\n",
      "248    1021\n",
      "Name: events, dtype: int64\n",
      "\n",
      "Разница в суммарном количестве событий до и после среза: 2828\n"
     ]
    }
   ],
   "source": [
    "# Расчёт разницы в суммарном количестве событий до и после среза:\n",
    "\n",
    "diffrence_in_events_count = events_before_cutting['events'] - events_after_cutting['events']\n",
    "print(diffrence_in_events_count)\n",
    "print()\n",
    "print('Разница в суммарном количестве событий до и после среза:', total_before - total_after)"
   ]
  },
  {
   "cell_type": "markdown",
   "metadata": {},
   "source": [
    "<b>Отбросив ранние данные, мы теперь имеем данные за период 01.08 - 07.08. <br>\n",
    "Потеряли относительно немного пользователей: с 7551 уменьшилось до 7534 пользователей. <br>\n",
    "Пользователи из всех трех экспериментальных групп есть в анализе после сброса.</b>"
   ]
  },
  {
   "cell_type": "markdown",
   "metadata": {},
   "source": [
    "### Шаг 4. Изучение воронки событий"
   ]
  },
  {
   "cell_type": "markdown",
   "metadata": {},
   "source": [
    "- Посмотрите, какие события есть в логах, как часто они встречаются. Отсортируйте события по частоте.\n",
    "- Посчитайте, сколько пользователей совершали каждое из этих событий. Отсортируйте события по числу пользователей. Посчитайте долю пользователей, которые хоть раз совершали событие.\n",
    "- Предположите, в каком порядке происходят события. Все ли они выстраиваются в последовательную цепочку? Их не нужно учитывать при расчёте воронки.\n",
    "- По воронке событий посчитайте, какая доля пользователей проходит на следующий шаг воронки (от числа пользователей на предыдущем). То есть для последовательности событий A → B → C посчитайте отношение числа пользователей с событием B к количеству пользователей с событием A, а также отношение числа пользователей с событием C к количеству пользователей с событием B.\n",
    "- На каком шаге теряете больше всего пользователей?\n",
    "- Какая доля пользователей доходит от первого события до оплаты?"
   ]
  },
  {
   "cell_type": "markdown",
   "metadata": {},
   "source": [
    "#### Сортировка событий по частоте"
   ]
  },
  {
   "cell_type": "code",
   "execution_count": 26,
   "metadata": {},
   "outputs": [
    {
     "data": {
      "text/plain": [
       "events\n",
       "MainScreenAppear           117431\n",
       "OffersScreenAppear          46350\n",
       "CartScreenAppear            42365\n",
       "PaymentScreenSuccessful     34113\n",
       "Tutorial                     1039\n",
       "Name: device_id, dtype: int64"
      ]
     },
     "metadata": {},
     "output_type": "display_data"
    },
    {
     "data": {
      "image/png": "[encoded data removed]",
      "text/plain": [
       "<Figure size 1400x700 with 1 Axes>"
      ]
     },
     "metadata": {},
     "output_type": "display_data"
    }
   ],
   "source": [
    "events_counts = filtered_logs.groupby('events')['device_id'].agg('count').sort_values(ascending=False)\n",
    "display(events_counts)\n",
    "\n",
    "plt.figure(figsize=(14, 7))\n",
    "#events_counts.plot(kind='bar')\n",
    "ax = events_counts.sort_values().plot(kind='barh', color='skyblue')\n",
    "plt.title('Количество событий в логе за период 01.08 - 07.08')\n",
    "plt.xlabel('События')\n",
    "plt.ylabel('Количество')\n",
    "plt.legend(title='Количество событий')\n",
    "plt.grid(True)\n",
    "#plt.xticks(rotation=90)\n",
    "plt.show()"
   ]
  },
  {
   "cell_type": "markdown",
   "metadata": {},
   "source": [
    "#### Подсчет пользователей"
   ]
  },
  {
   "cell_type": "code",
   "execution_count": 27,
   "metadata": {},
   "outputs": [
    {
     "data": {
      "text/html": [
       "<div>\n",
       "<style scoped>\n",
       "    .dataframe tbody tr th:only-of-type {\n",
       "        vertical-align: middle;\n",
       "    }\n",
       "\n",
       "    .dataframe tbody tr th {\n",
       "        vertical-align: top;\n",
       "    }\n",
       "\n",
       "    .dataframe thead th {\n",
       "        text-align: right;\n",
       "    }\n",
       "</style>\n",
       "<table border=\"1\" class=\"dataframe\">\n",
       "  <thead>\n",
       "    <tr style=\"text-align: right;\">\n",
       "      <th></th>\n",
       "      <th>device_id</th>\n",
       "    </tr>\n",
       "    <tr>\n",
       "      <th>events</th>\n",
       "      <th></th>\n",
       "    </tr>\n",
       "  </thead>\n",
       "  <tbody>\n",
       "    <tr>\n",
       "      <th>MainScreenAppear</th>\n",
       "      <td>7419</td>\n",
       "    </tr>\n",
       "    <tr>\n",
       "      <th>OffersScreenAppear</th>\n",
       "      <td>4593</td>\n",
       "    </tr>\n",
       "    <tr>\n",
       "      <th>CartScreenAppear</th>\n",
       "      <td>3734</td>\n",
       "    </tr>\n",
       "    <tr>\n",
       "      <th>PaymentScreenSuccessful</th>\n",
       "      <td>3539</td>\n",
       "    </tr>\n",
       "    <tr>\n",
       "      <th>Tutorial</th>\n",
       "      <td>840</td>\n",
       "    </tr>\n",
       "  </tbody>\n",
       "</table>\n",
       "</div>"
      ],
      "text/plain": [
       "                         device_id\n",
       "events                            \n",
       "MainScreenAppear              7419\n",
       "OffersScreenAppear            4593\n",
       "CartScreenAppear              3734\n",
       "PaymentScreenSuccessful       3539\n",
       "Tutorial                       840"
      ]
     },
     "metadata": {},
     "output_type": "display_data"
    }
   ],
   "source": [
    "# Количество пользователей по каждому событию\n",
    "users_count = filtered_logs.groupby('events').agg({'device_id': 'nunique'}).sort_values(by='device_id', ascending = False)\n",
    "display(users_count)"
   ]
  },
  {
   "cell_type": "code",
   "execution_count": 28,
   "metadata": {
    "scrolled": true
   },
   "outputs": [],
   "source": [
    "# доля пользователей, которые хоть раз совершили событие\n",
    "\n",
    "# first_real_event = users_count.iloc[1]\n",
    "# total_users = (len(pd.unique(filtered_logs['device_id'])))\n",
    "\n",
    "# share_of_users = round(first_real_event / total_users * 100).map(\"{:.1f}%\".format)\n",
    "\n",
    "# print('Доля пользователей, хоть раз совершавших событие ', share_of_users)"
   ]
  },
  {
   "cell_type": "code",
   "execution_count": 29,
   "metadata": {},
   "outputs": [
    {
     "data": {
      "text/html": [
       "<div>\n",
       "<style scoped>\n",
       "    .dataframe tbody tr th:only-of-type {\n",
       "        vertical-align: middle;\n",
       "    }\n",
       "\n",
       "    .dataframe tbody tr th {\n",
       "        vertical-align: top;\n",
       "    }\n",
       "\n",
       "    .dataframe thead th {\n",
       "        text-align: right;\n",
       "    }\n",
       "</style>\n",
       "<table border=\"1\" class=\"dataframe\">\n",
       "  <thead>\n",
       "    <tr style=\"text-align: right;\">\n",
       "      <th></th>\n",
       "      <th>device_id</th>\n",
       "    </tr>\n",
       "    <tr>\n",
       "      <th>events</th>\n",
       "      <th></th>\n",
       "    </tr>\n",
       "  </thead>\n",
       "  <tbody>\n",
       "    <tr>\n",
       "      <th>MainScreenAppear</th>\n",
       "      <td>98.25</td>\n",
       "    </tr>\n",
       "    <tr>\n",
       "      <th>OffersScreenAppear</th>\n",
       "      <td>60.83</td>\n",
       "    </tr>\n",
       "    <tr>\n",
       "      <th>CartScreenAppear</th>\n",
       "      <td>49.45</td>\n",
       "    </tr>\n",
       "    <tr>\n",
       "      <th>PaymentScreenSuccessful</th>\n",
       "      <td>46.87</td>\n",
       "    </tr>\n",
       "    <tr>\n",
       "      <th>Tutorial</th>\n",
       "      <td>11.12</td>\n",
       "    </tr>\n",
       "  </tbody>\n",
       "</table>\n",
       "</div>"
      ],
      "text/plain": [
       "                         device_id\n",
       "events                            \n",
       "MainScreenAppear             98.25\n",
       "OffersScreenAppear           60.83\n",
       "CartScreenAppear             49.45\n",
       "PaymentScreenSuccessful      46.87\n",
       "Tutorial                     11.12"
      ]
     },
     "execution_count": 29,
     "metadata": {},
     "output_type": "execute_result"
    }
   ],
   "source": [
    "# доля пользователей, которые хоть раз совершили событие\n",
    "\n",
    "users_count_two = logs['device_id'].nunique()\n",
    "users_share_at_least_one_event = round((users_count/users_count_two)*100,2)\n",
    "users_share_at_least_one_event.sort_values(by = 'device_id', ascending = False)"
   ]
  },
  {
   "cell_type": "markdown",
   "metadata": {},
   "source": [
    "#### Работа с событиями"
   ]
  },
  {
   "cell_type": "markdown",
   "metadata": {},
   "source": [
    "<b>В каком порядке происходят события? </b><br>\n",
    "- Открывается страница с инструкцией (Tutorial),\n",
    "- Клиент открывает главную страницу (MainScreenAppear),\n",
    "- Клиент заходит в страницу с каталогом продуктов питания (OffersScreenAppear),\n",
    "- Клиент кладет выбранный товар в корзину (CartScreenAppear),\n",
    "- Клиент оплачивает выбранные товары в корзине (PaymentScreenSuccessful)"
   ]
  },
  {
   "cell_type": "markdown",
   "metadata": {},
   "source": [
    "Событие с прочтением инструкции не выстраивается в общую последовательность.<br>\n",
    "Скорее всего, причина в том, что обычно клиенты обходят этот этап, так как дальнейшие шаги понятны большинству пользователей.<br>\n",
    "Данное событие (Tutorial) не будем учитывать при расчете воронки."
   ]
  },
  {
   "cell_type": "markdown",
   "metadata": {},
   "source": [
    "#### Воронка событий"
   ]
  },
  {
   "cell_type": "code",
   "execution_count": 30,
   "metadata": {},
   "outputs": [
    {
     "name": "stdout",
     "output_type": "stream",
     "text": [
      "Доля пользователей, перешедших на страницу с каталогом продукции  device_id    61.9%\n",
      "dtype: object\n",
      "Доля пользователей, положивших товар(ы) в корзину  device_id    81.3%\n",
      "dtype: object\n",
      "Доля пользователей, оплативших товар  device_id    94.8%\n",
      "dtype: object\n"
     ]
    }
   ],
   "source": [
    "a = users_count.iloc[0] # Клиент открывает главную страницу\n",
    "b = users_count.iloc[1] # Клиент заходит в страницу с каталогом продуктов питания\n",
    "c = users_count.iloc[2] # Клиент кладет выбранный товар в корзину\n",
    "d = users_count.iloc[3] # Клиент оплачивает выбранные товары в корзине\n",
    "\n",
    "print('Доля пользователей, перешедших на страницу с каталогом продукции ', round(b/a*100,1).map(\"{:.1f}%\".format))\n",
    "print('Доля пользователей, положивших товар(ы) в корзину ', round(c/b*100,1).map(\"{:.1f}%\".format))\n",
    "print('Доля пользователей, оплативших товар ', round(d/c*100,1).map(\"{:.1f}%\".format))"
   ]
  },
  {
   "cell_type": "markdown",
   "metadata": {},
   "source": [
    "<b>Доля пользователей, перешедших на страницу с каталогом продукции после главной страницы = 61.9%<br>\n",
    "Доля пользователей, положивших товар(ы) в корзину после просмотра каталогов = 81.3%<br>\n",
    "Доля пользователей, оплативших товара(ов), положенных в корзину = 94.8%</b>"
   ]
  },
  {
   "cell_type": "markdown",
   "metadata": {},
   "source": [
    "На этапе перехода на страницу с каталогом товаров теряется больше всего клиентов - почти 40%.<br>\n",
    "Также, поместив товары в корзину, 5% клиентов не оплатили за них. "
   ]
  },
  {
   "cell_type": "code",
   "execution_count": 31,
   "metadata": {},
   "outputs": [
    {
     "name": "stdout",
     "output_type": "stream",
     "text": [
      "Доля пользователей, дошедших от первого события до оплаты  device_id    47.7%\n",
      "dtype: object\n"
     ]
    }
   ],
   "source": [
    "print('Доля пользователей, дошедших от первого события до оплаты ', round(d/a*100,1).map(\"{:.1f}%\".format));"
   ]
  },
  {
   "cell_type": "markdown",
   "metadata": {},
   "source": [
    "<b>Всего 47.7% пользователей дошли от захода на главную страницу до покупки товаров.</b>"
   ]
  },
  {
   "cell_type": "markdown",
   "metadata": {},
   "source": [
    "### Шаг 5. Изучение результатов эксперимента"
   ]
  },
  {
   "cell_type": "markdown",
   "metadata": {},
   "source": [
    "- Сколько пользователей в каждой экспериментальной группе?\n",
    "- Есть 2 контрольные группы для А/А-эксперимента, чтобы проверить корректность всех механизмов и расчётов. Проверьте, находят ли статистические критерии разницу между выборками 246 и 247.\n",
    "- Выберите самое популярное событие. Посчитайте число пользователей, совершивших это событие в каждой из контрольных групп. Посчитайте долю пользователей, совершивших это событие. Проверьте, будет ли отличие между группами статистически достоверным. Проделайте то же самое для всех других событий (удобно обернуть проверку в отдельную функцию). Можно ли сказать, что разбиение на группы работает корректно?\n",
    "- Аналогично поступите с группой с изменённым шрифтом. Сравните результаты с каждой из контрольных групп в отдельности по каждому событию. Сравните результаты с объединённой контрольной группой. Какие выводы из эксперимента можно сделать?\n",
    "- Какой уровень значимости вы выбрали при проверке статистических гипотез выше? Посчитайте, сколько проверок статистических гипотез вы сделали. При уровне значимости 0.1 в 10% случаев можно ошибочно отклонить нулевую гипотезу при условии, что она верна. Какой уровень значимости стоит применить? Если вы хотите изменить его, проделайте предыдущие пункты и проверьте свои выводы."
   ]
  },
  {
   "cell_type": "markdown",
   "metadata": {},
   "source": [
    "#### Количество пользователей в группах"
   ]
  },
  {
   "cell_type": "code",
   "execution_count": 32,
   "metadata": {},
   "outputs": [
    {
     "data": {
      "text/html": [
       "<div>\n",
       "<style scoped>\n",
       "    .dataframe tbody tr th:only-of-type {\n",
       "        vertical-align: middle;\n",
       "    }\n",
       "\n",
       "    .dataframe tbody tr th {\n",
       "        vertical-align: top;\n",
       "    }\n",
       "\n",
       "    .dataframe thead th {\n",
       "        text-align: right;\n",
       "    }\n",
       "</style>\n",
       "<table border=\"1\" class=\"dataframe\">\n",
       "  <thead>\n",
       "    <tr style=\"text-align: right;\">\n",
       "      <th></th>\n",
       "      <th>events</th>\n",
       "      <th>device_id</th>\n",
       "      <th>event_timestamp</th>\n",
       "      <th>exp_id</th>\n",
       "      <th>dt</th>\n",
       "      <th>date</th>\n",
       "      <th>exp_group_category</th>\n",
       "    </tr>\n",
       "  </thead>\n",
       "  <tbody>\n",
       "    <tr>\n",
       "      <th>2828</th>\n",
       "      <td>Tutorial</td>\n",
       "      <td>3737462046622621720</td>\n",
       "      <td>1564618048</td>\n",
       "      <td>246</td>\n",
       "      <td>2019-08-01 00:07:28</td>\n",
       "      <td>2019-08-01</td>\n",
       "      <td>1</td>\n",
       "    </tr>\n",
       "    <tr>\n",
       "      <th>2829</th>\n",
       "      <td>MainScreenAppear</td>\n",
       "      <td>3737462046622621720</td>\n",
       "      <td>1564618080</td>\n",
       "      <td>246</td>\n",
       "      <td>2019-08-01 00:08:00</td>\n",
       "      <td>2019-08-01</td>\n",
       "      <td>1</td>\n",
       "    </tr>\n",
       "    <tr>\n",
       "      <th>2830</th>\n",
       "      <td>MainScreenAppear</td>\n",
       "      <td>3737462046622621720</td>\n",
       "      <td>1564618135</td>\n",
       "      <td>246</td>\n",
       "      <td>2019-08-01 00:08:55</td>\n",
       "      <td>2019-08-01</td>\n",
       "      <td>1</td>\n",
       "    </tr>\n",
       "    <tr>\n",
       "      <th>2831</th>\n",
       "      <td>OffersScreenAppear</td>\n",
       "      <td>3737462046622621720</td>\n",
       "      <td>1564618138</td>\n",
       "      <td>246</td>\n",
       "      <td>2019-08-01 00:08:58</td>\n",
       "      <td>2019-08-01</td>\n",
       "      <td>1</td>\n",
       "    </tr>\n",
       "    <tr>\n",
       "      <th>2832</th>\n",
       "      <td>MainScreenAppear</td>\n",
       "      <td>1433840883824088890</td>\n",
       "      <td>1564618139</td>\n",
       "      <td>247</td>\n",
       "      <td>2019-08-01 00:08:59</td>\n",
       "      <td>2019-08-01</td>\n",
       "      <td>2</td>\n",
       "    </tr>\n",
       "    <tr>\n",
       "      <th>2833</th>\n",
       "      <td>MainScreenAppear</td>\n",
       "      <td>4899590676214355127</td>\n",
       "      <td>1564618215</td>\n",
       "      <td>247</td>\n",
       "      <td>2019-08-01 00:10:15</td>\n",
       "      <td>2019-08-01</td>\n",
       "      <td>2</td>\n",
       "    </tr>\n",
       "    <tr>\n",
       "      <th>2834</th>\n",
       "      <td>OffersScreenAppear</td>\n",
       "      <td>3737462046622621720</td>\n",
       "      <td>1564618226</td>\n",
       "      <td>246</td>\n",
       "      <td>2019-08-01 00:10:26</td>\n",
       "      <td>2019-08-01</td>\n",
       "      <td>1</td>\n",
       "    </tr>\n",
       "    <tr>\n",
       "      <th>2835</th>\n",
       "      <td>MainScreenAppear</td>\n",
       "      <td>3737462046622621720</td>\n",
       "      <td>1564618247</td>\n",
       "      <td>246</td>\n",
       "      <td>2019-08-01 00:10:47</td>\n",
       "      <td>2019-08-01</td>\n",
       "      <td>1</td>\n",
       "    </tr>\n",
       "    <tr>\n",
       "      <th>2836</th>\n",
       "      <td>MainScreenAppear</td>\n",
       "      <td>3737462046622621720</td>\n",
       "      <td>1564618270</td>\n",
       "      <td>246</td>\n",
       "      <td>2019-08-01 00:11:10</td>\n",
       "      <td>2019-08-01</td>\n",
       "      <td>1</td>\n",
       "    </tr>\n",
       "    <tr>\n",
       "      <th>2837</th>\n",
       "      <td>MainScreenAppear</td>\n",
       "      <td>3737462046622621720</td>\n",
       "      <td>1564618280</td>\n",
       "      <td>246</td>\n",
       "      <td>2019-08-01 00:11:20</td>\n",
       "      <td>2019-08-01</td>\n",
       "      <td>1</td>\n",
       "    </tr>\n",
       "  </tbody>\n",
       "</table>\n",
       "</div>"
      ],
      "text/plain": [
       "                  events            device_id  event_timestamp  exp_id  \\\n",
       "2828            Tutorial  3737462046622621720       1564618048     246   \n",
       "2829    MainScreenAppear  3737462046622621720       1564618080     246   \n",
       "2830    MainScreenAppear  3737462046622621720       1564618135     246   \n",
       "2831  OffersScreenAppear  3737462046622621720       1564618138     246   \n",
       "2832    MainScreenAppear  1433840883824088890       1564618139     247   \n",
       "2833    MainScreenAppear  4899590676214355127       1564618215     247   \n",
       "2834  OffersScreenAppear  3737462046622621720       1564618226     246   \n",
       "2835    MainScreenAppear  3737462046622621720       1564618247     246   \n",
       "2836    MainScreenAppear  3737462046622621720       1564618270     246   \n",
       "2837    MainScreenAppear  3737462046622621720       1564618280     246   \n",
       "\n",
       "                      dt       date  exp_group_category  \n",
       "2828 2019-08-01 00:07:28 2019-08-01                   1  \n",
       "2829 2019-08-01 00:08:00 2019-08-01                   1  \n",
       "2830 2019-08-01 00:08:55 2019-08-01                   1  \n",
       "2831 2019-08-01 00:08:58 2019-08-01                   1  \n",
       "2832 2019-08-01 00:08:59 2019-08-01                   2  \n",
       "2833 2019-08-01 00:10:15 2019-08-01                   2  \n",
       "2834 2019-08-01 00:10:26 2019-08-01                   1  \n",
       "2835 2019-08-01 00:10:47 2019-08-01                   1  \n",
       "2836 2019-08-01 00:11:10 2019-08-01                   1  \n",
       "2837 2019-08-01 00:11:20 2019-08-01                   1  "
      ]
     },
     "execution_count": 32,
     "metadata": {},
     "output_type": "execute_result"
    }
   ],
   "source": [
    "# Категоризация по эксп. группам\n",
    "def users_category(exp):\n",
    "    if exp == 246:\n",
    "        return 1\n",
    "    if exp == 247:\n",
    "        return 2\n",
    "    else:\n",
    "        return 3\n",
    "\n",
    "filtered_logs = filtered_logs.copy()\n",
    "filtered_logs['exp_group_category'] = filtered_logs['exp_id'].apply(users_category)\n",
    "\n",
    "filtered_logs.head(10)"
   ]
  },
  {
   "cell_type": "code",
   "execution_count": 33,
   "metadata": {},
   "outputs": [
    {
     "name": "stdout",
     "output_type": "stream",
     "text": [
      "exp_id\n",
      "246    2484\n",
      "247    2513\n",
      "248    2537\n",
      "Name: device_id, dtype: int64\n"
     ]
    }
   ],
   "source": [
    "# Количество пользователей в каждой экспериментальной группе\n",
    "users_count_in_groups = filtered_logs.groupby('exp_id')['device_id'].agg('nunique')\n",
    "print(users_count_in_groups)\n",
    "\n"
   ]
  },
  {
   "cell_type": "markdown",
   "metadata": {},
   "source": [
    "<b>Количество пользователей в экспериментальных группах:</b><br>\n",
    "- В контрольной группе номер 246: 2484 чел.\n",
    "- В контрольной группе номер 247: 2513 чел.\n",
    "- В экспериментальной группе номер 248: 2537 чел."
   ]
  },
  {
   "cell_type": "markdown",
   "metadata": {},
   "source": [
    "#### Контрольные группы для А/А-эксперимента"
   ]
  },
  {
   "cell_type": "code",
   "execution_count": 34,
   "metadata": {},
   "outputs": [
    {
     "data": {
      "text/html": [
       "<div>\n",
       "<style scoped>\n",
       "    .dataframe tbody tr th:only-of-type {\n",
       "        vertical-align: middle;\n",
       "    }\n",
       "\n",
       "    .dataframe tbody tr th {\n",
       "        vertical-align: top;\n",
       "    }\n",
       "\n",
       "    .dataframe thead th {\n",
       "        text-align: right;\n",
       "    }\n",
       "</style>\n",
       "<table border=\"1\" class=\"dataframe\">\n",
       "  <thead>\n",
       "    <tr style=\"text-align: right;\">\n",
       "      <th></th>\n",
       "      <th>events</th>\n",
       "      <th>device_id</th>\n",
       "      <th>event_timestamp</th>\n",
       "      <th>exp_id</th>\n",
       "      <th>dt</th>\n",
       "      <th>date</th>\n",
       "      <th>exp_group_category</th>\n",
       "    </tr>\n",
       "  </thead>\n",
       "  <tbody>\n",
       "    <tr>\n",
       "      <th>2828</th>\n",
       "      <td>Tutorial</td>\n",
       "      <td>3737462046622621720</td>\n",
       "      <td>1564618048</td>\n",
       "      <td>246</td>\n",
       "      <td>2019-08-01 00:07:28</td>\n",
       "      <td>2019-08-01</td>\n",
       "      <td>1</td>\n",
       "    </tr>\n",
       "    <tr>\n",
       "      <th>2829</th>\n",
       "      <td>MainScreenAppear</td>\n",
       "      <td>3737462046622621720</td>\n",
       "      <td>1564618080</td>\n",
       "      <td>246</td>\n",
       "      <td>2019-08-01 00:08:00</td>\n",
       "      <td>2019-08-01</td>\n",
       "      <td>1</td>\n",
       "    </tr>\n",
       "    <tr>\n",
       "      <th>2830</th>\n",
       "      <td>MainScreenAppear</td>\n",
       "      <td>3737462046622621720</td>\n",
       "      <td>1564618135</td>\n",
       "      <td>246</td>\n",
       "      <td>2019-08-01 00:08:55</td>\n",
       "      <td>2019-08-01</td>\n",
       "      <td>1</td>\n",
       "    </tr>\n",
       "    <tr>\n",
       "      <th>2831</th>\n",
       "      <td>OffersScreenAppear</td>\n",
       "      <td>3737462046622621720</td>\n",
       "      <td>1564618138</td>\n",
       "      <td>246</td>\n",
       "      <td>2019-08-01 00:08:58</td>\n",
       "      <td>2019-08-01</td>\n",
       "      <td>1</td>\n",
       "    </tr>\n",
       "    <tr>\n",
       "      <th>2834</th>\n",
       "      <td>OffersScreenAppear</td>\n",
       "      <td>3737462046622621720</td>\n",
       "      <td>1564618226</td>\n",
       "      <td>246</td>\n",
       "      <td>2019-08-01 00:10:26</td>\n",
       "      <td>2019-08-01</td>\n",
       "      <td>1</td>\n",
       "    </tr>\n",
       "    <tr>\n",
       "      <th>...</th>\n",
       "      <td>...</td>\n",
       "      <td>...</td>\n",
       "      <td>...</td>\n",
       "      <td>...</td>\n",
       "      <td>...</td>\n",
       "      <td>...</td>\n",
       "      <td>...</td>\n",
       "    </tr>\n",
       "    <tr>\n",
       "      <th>244120</th>\n",
       "      <td>MainScreenAppear</td>\n",
       "      <td>5746969938801999050</td>\n",
       "      <td>1565212331</td>\n",
       "      <td>246</td>\n",
       "      <td>2019-08-07 21:12:11</td>\n",
       "      <td>2019-08-07</td>\n",
       "      <td>1</td>\n",
       "    </tr>\n",
       "    <tr>\n",
       "      <th>244122</th>\n",
       "      <td>MainScreenAppear</td>\n",
       "      <td>5849806612437486590</td>\n",
       "      <td>1565212439</td>\n",
       "      <td>246</td>\n",
       "      <td>2019-08-07 21:13:59</td>\n",
       "      <td>2019-08-07</td>\n",
       "      <td>1</td>\n",
       "    </tr>\n",
       "    <tr>\n",
       "      <th>244123</th>\n",
       "      <td>MainScreenAppear</td>\n",
       "      <td>5746969938801999050</td>\n",
       "      <td>1565212483</td>\n",
       "      <td>246</td>\n",
       "      <td>2019-08-07 21:14:43</td>\n",
       "      <td>2019-08-07</td>\n",
       "      <td>1</td>\n",
       "    </tr>\n",
       "    <tr>\n",
       "      <th>244124</th>\n",
       "      <td>MainScreenAppear</td>\n",
       "      <td>5746969938801999050</td>\n",
       "      <td>1565212498</td>\n",
       "      <td>246</td>\n",
       "      <td>2019-08-07 21:14:58</td>\n",
       "      <td>2019-08-07</td>\n",
       "      <td>1</td>\n",
       "    </tr>\n",
       "    <tr>\n",
       "      <th>244125</th>\n",
       "      <td>OffersScreenAppear</td>\n",
       "      <td>5746969938801999050</td>\n",
       "      <td>1565212517</td>\n",
       "      <td>246</td>\n",
       "      <td>2019-08-07 21:15:17</td>\n",
       "      <td>2019-08-07</td>\n",
       "      <td>1</td>\n",
       "    </tr>\n",
       "  </tbody>\n",
       "</table>\n",
       "<p>79425 rows × 7 columns</p>\n",
       "</div>"
      ],
      "text/plain": [
       "                    events            device_id  event_timestamp  exp_id  \\\n",
       "2828              Tutorial  3737462046622621720       1564618048     246   \n",
       "2829      MainScreenAppear  3737462046622621720       1564618080     246   \n",
       "2830      MainScreenAppear  3737462046622621720       1564618135     246   \n",
       "2831    OffersScreenAppear  3737462046622621720       1564618138     246   \n",
       "2834    OffersScreenAppear  3737462046622621720       1564618226     246   \n",
       "...                    ...                  ...              ...     ...   \n",
       "244120    MainScreenAppear  5746969938801999050       1565212331     246   \n",
       "244122    MainScreenAppear  5849806612437486590       1565212439     246   \n",
       "244123    MainScreenAppear  5746969938801999050       1565212483     246   \n",
       "244124    MainScreenAppear  5746969938801999050       1565212498     246   \n",
       "244125  OffersScreenAppear  5746969938801999050       1565212517     246   \n",
       "\n",
       "                        dt       date  exp_group_category  \n",
       "2828   2019-08-01 00:07:28 2019-08-01                   1  \n",
       "2829   2019-08-01 00:08:00 2019-08-01                   1  \n",
       "2830   2019-08-01 00:08:55 2019-08-01                   1  \n",
       "2831   2019-08-01 00:08:58 2019-08-01                   1  \n",
       "2834   2019-08-01 00:10:26 2019-08-01                   1  \n",
       "...                    ...        ...                 ...  \n",
       "244120 2019-08-07 21:12:11 2019-08-07                   1  \n",
       "244122 2019-08-07 21:13:59 2019-08-07                   1  \n",
       "244123 2019-08-07 21:14:43 2019-08-07                   1  \n",
       "244124 2019-08-07 21:14:58 2019-08-07                   1  \n",
       "244125 2019-08-07 21:15:17 2019-08-07                   1  \n",
       "\n",
       "[79425 rows x 7 columns]"
      ]
     },
     "metadata": {},
     "output_type": "display_data"
    }
   ],
   "source": [
    "#создаем таблицу с данными только для '246'\n",
    "group_246_only = filtered_logs.loc[filtered_logs['exp_id'] == 246]\n",
    "display(group_246_only)"
   ]
  },
  {
   "cell_type": "code",
   "execution_count": 35,
   "metadata": {},
   "outputs": [
    {
     "data": {
      "text/html": [
       "<div>\n",
       "<style scoped>\n",
       "    .dataframe tbody tr th:only-of-type {\n",
       "        vertical-align: middle;\n",
       "    }\n",
       "\n",
       "    .dataframe tbody tr th {\n",
       "        vertical-align: top;\n",
       "    }\n",
       "\n",
       "    .dataframe thead th {\n",
       "        text-align: right;\n",
       "    }\n",
       "</style>\n",
       "<table border=\"1\" class=\"dataframe\">\n",
       "  <thead>\n",
       "    <tr style=\"text-align: right;\">\n",
       "      <th></th>\n",
       "      <th>events</th>\n",
       "      <th>device_id</th>\n",
       "      <th>event_timestamp</th>\n",
       "      <th>exp_id</th>\n",
       "      <th>dt</th>\n",
       "      <th>date</th>\n",
       "      <th>exp_group_category</th>\n",
       "    </tr>\n",
       "  </thead>\n",
       "  <tbody>\n",
       "    <tr>\n",
       "      <th>2832</th>\n",
       "      <td>MainScreenAppear</td>\n",
       "      <td>1433840883824088890</td>\n",
       "      <td>1564618139</td>\n",
       "      <td>247</td>\n",
       "      <td>2019-08-01 00:08:59</td>\n",
       "      <td>2019-08-01</td>\n",
       "      <td>2</td>\n",
       "    </tr>\n",
       "    <tr>\n",
       "      <th>2833</th>\n",
       "      <td>MainScreenAppear</td>\n",
       "      <td>4899590676214355127</td>\n",
       "      <td>1564618215</td>\n",
       "      <td>247</td>\n",
       "      <td>2019-08-01 00:10:15</td>\n",
       "      <td>2019-08-01</td>\n",
       "      <td>2</td>\n",
       "    </tr>\n",
       "    <tr>\n",
       "      <th>2838</th>\n",
       "      <td>MainScreenAppear</td>\n",
       "      <td>4899590676214355127</td>\n",
       "      <td>1564618288</td>\n",
       "      <td>247</td>\n",
       "      <td>2019-08-01 00:11:28</td>\n",
       "      <td>2019-08-01</td>\n",
       "      <td>2</td>\n",
       "    </tr>\n",
       "    <tr>\n",
       "      <th>2839</th>\n",
       "      <td>OffersScreenAppear</td>\n",
       "      <td>4899590676214355127</td>\n",
       "      <td>1564618290</td>\n",
       "      <td>247</td>\n",
       "      <td>2019-08-01 00:11:30</td>\n",
       "      <td>2019-08-01</td>\n",
       "      <td>2</td>\n",
       "    </tr>\n",
       "    <tr>\n",
       "      <th>2843</th>\n",
       "      <td>OffersScreenAppear</td>\n",
       "      <td>4899590676214355127</td>\n",
       "      <td>1564618356</td>\n",
       "      <td>247</td>\n",
       "      <td>2019-08-01 00:12:36</td>\n",
       "      <td>2019-08-01</td>\n",
       "      <td>2</td>\n",
       "    </tr>\n",
       "    <tr>\n",
       "      <th>...</th>\n",
       "      <td>...</td>\n",
       "      <td>...</td>\n",
       "      <td>...</td>\n",
       "      <td>...</td>\n",
       "      <td>...</td>\n",
       "      <td>...</td>\n",
       "      <td>...</td>\n",
       "    </tr>\n",
       "    <tr>\n",
       "      <th>244088</th>\n",
       "      <td>MainScreenAppear</td>\n",
       "      <td>2300292234025330845</td>\n",
       "      <td>1565211937</td>\n",
       "      <td>247</td>\n",
       "      <td>2019-08-07 21:05:37</td>\n",
       "      <td>2019-08-07</td>\n",
       "      <td>2</td>\n",
       "    </tr>\n",
       "    <tr>\n",
       "      <th>244089</th>\n",
       "      <td>OffersScreenAppear</td>\n",
       "      <td>2300292234025330845</td>\n",
       "      <td>1565211943</td>\n",
       "      <td>247</td>\n",
       "      <td>2019-08-07 21:05:43</td>\n",
       "      <td>2019-08-07</td>\n",
       "      <td>2</td>\n",
       "    </tr>\n",
       "    <tr>\n",
       "      <th>244090</th>\n",
       "      <td>OffersScreenAppear</td>\n",
       "      <td>2300292234025330845</td>\n",
       "      <td>1565211954</td>\n",
       "      <td>247</td>\n",
       "      <td>2019-08-07 21:05:54</td>\n",
       "      <td>2019-08-07</td>\n",
       "      <td>2</td>\n",
       "    </tr>\n",
       "    <tr>\n",
       "      <th>244091</th>\n",
       "      <td>MainScreenAppear</td>\n",
       "      <td>2300292234025330845</td>\n",
       "      <td>1565211957</td>\n",
       "      <td>247</td>\n",
       "      <td>2019-08-07 21:05:57</td>\n",
       "      <td>2019-08-07</td>\n",
       "      <td>2</td>\n",
       "    </tr>\n",
       "    <tr>\n",
       "      <th>244121</th>\n",
       "      <td>MainScreenAppear</td>\n",
       "      <td>4599628364049201812</td>\n",
       "      <td>1565212345</td>\n",
       "      <td>247</td>\n",
       "      <td>2019-08-07 21:12:25</td>\n",
       "      <td>2019-08-07</td>\n",
       "      <td>2</td>\n",
       "    </tr>\n",
       "  </tbody>\n",
       "</table>\n",
       "<p>77147 rows × 7 columns</p>\n",
       "</div>"
      ],
      "text/plain": [
       "                    events            device_id  event_timestamp  exp_id  \\\n",
       "2832      MainScreenAppear  1433840883824088890       1564618139     247   \n",
       "2833      MainScreenAppear  4899590676214355127       1564618215     247   \n",
       "2838      MainScreenAppear  4899590676214355127       1564618288     247   \n",
       "2839    OffersScreenAppear  4899590676214355127       1564618290     247   \n",
       "2843    OffersScreenAppear  4899590676214355127       1564618356     247   \n",
       "...                    ...                  ...              ...     ...   \n",
       "244088    MainScreenAppear  2300292234025330845       1565211937     247   \n",
       "244089  OffersScreenAppear  2300292234025330845       1565211943     247   \n",
       "244090  OffersScreenAppear  2300292234025330845       1565211954     247   \n",
       "244091    MainScreenAppear  2300292234025330845       1565211957     247   \n",
       "244121    MainScreenAppear  4599628364049201812       1565212345     247   \n",
       "\n",
       "                        dt       date  exp_group_category  \n",
       "2832   2019-08-01 00:08:59 2019-08-01                   2  \n",
       "2833   2019-08-01 00:10:15 2019-08-01                   2  \n",
       "2838   2019-08-01 00:11:28 2019-08-01                   2  \n",
       "2839   2019-08-01 00:11:30 2019-08-01                   2  \n",
       "2843   2019-08-01 00:12:36 2019-08-01                   2  \n",
       "...                    ...        ...                 ...  \n",
       "244088 2019-08-07 21:05:37 2019-08-07                   2  \n",
       "244089 2019-08-07 21:05:43 2019-08-07                   2  \n",
       "244090 2019-08-07 21:05:54 2019-08-07                   2  \n",
       "244091 2019-08-07 21:05:57 2019-08-07                   2  \n",
       "244121 2019-08-07 21:12:25 2019-08-07                   2  \n",
       "\n",
       "[77147 rows x 7 columns]"
      ]
     },
     "metadata": {},
     "output_type": "display_data"
    }
   ],
   "source": [
    "#создаем таблицу с данными только для '247'\n",
    "group_247_only = filtered_logs.loc[filtered_logs['exp_id'] == 247]\n",
    "display(group_247_only)"
   ]
  },
  {
   "cell_type": "code",
   "execution_count": 36,
   "metadata": {},
   "outputs": [
    {
     "data": {
      "text/plain": [
       "events\n",
       "MainScreenAppear           37708\n",
       "OffersScreenAppear         14773\n",
       "CartScreenAppear           14711\n",
       "PaymentScreenSuccessful    11910\n",
       "Tutorial                     323\n",
       "Name: exp_id, dtype: int64"
      ]
     },
     "metadata": {},
     "output_type": "display_data"
    },
    {
     "data": {
      "image/png": "[encoded data removed]",
      "text/plain": [
       "<Figure size 1400x700 with 1 Axes>"
      ]
     },
     "metadata": {},
     "output_type": "display_data"
    }
   ],
   "source": [
    "# Воронка для группы 246\n",
    "\n",
    "events_counts_for_246 = group_246_only.groupby('events')['exp_id'].agg('count').sort_values(ascending=False)\n",
    "display(events_counts_for_246)\n",
    "\n",
    "plt.figure(figsize=(14, 7))\n",
    "#events_counts.plot(kind='bar')\n",
    "ax = events_counts_for_246.sort_values().plot(kind='barh', color='green')\n",
    "plt.title('Количество событий в гр. 246 за период 01.08 - 07.08')\n",
    "plt.xlabel('События')\n",
    "plt.ylabel('Количество')\n",
    "plt.legend(title='Количество событий')\n",
    "plt.grid(True)\n",
    "#plt.xticks(rotation=90)\n",
    "plt.show()"
   ]
  },
  {
   "cell_type": "code",
   "execution_count": 37,
   "metadata": {},
   "outputs": [
    {
     "data": {
      "text/plain": [
       "events\n",
       "MainScreenAppear           39123\n",
       "OffersScreenAppear         15182\n",
       "CartScreenAppear           12456\n",
       "PaymentScreenSuccessful    10043\n",
       "Tutorial                     343\n",
       "Name: exp_id, dtype: int64"
      ]
     },
     "metadata": {},
     "output_type": "display_data"
    },
    {
     "data": {
      "image/png": "[encoded data removed]",
      "text/plain": [
       "<Figure size 1400x700 with 1 Axes>"
      ]
     },
     "metadata": {},
     "output_type": "display_data"
    }
   ],
   "source": [
    "# Воронка для группы 247\n",
    "\n",
    "events_counts_for_247 = group_247_only.groupby('events')['exp_id'].agg('count').sort_values(ascending=False)\n",
    "display(events_counts_for_247)\n",
    "\n",
    "plt.figure(figsize=(14, 7))\n",
    "#events_counts.plot(kind='bar')\n",
    "ax = events_counts_for_247.sort_values().plot(kind='barh', color='blue')\n",
    "plt.title('Количество событий в гр. 247 за период 01.08 - 07.08')\n",
    "plt.xlabel('События')\n",
    "plt.ylabel('Количество')\n",
    "plt.legend(title='Количество событий')\n",
    "plt.grid(True)\n",
    "#plt.xticks(rotation=90)\n",
    "plt.show()"
   ]
  },
  {
   "cell_type": "code",
   "execution_count": 38,
   "metadata": {},
   "outputs": [
    {
     "data": {
      "text/html": [
       "<div>\n",
       "<style scoped>\n",
       "    .dataframe tbody tr th:only-of-type {\n",
       "        vertical-align: middle;\n",
       "    }\n",
       "\n",
       "    .dataframe tbody tr th {\n",
       "        vertical-align: top;\n",
       "    }\n",
       "\n",
       "    .dataframe thead th {\n",
       "        text-align: right;\n",
       "    }\n",
       "</style>\n",
       "<table border=\"1\" class=\"dataframe\">\n",
       "  <thead>\n",
       "    <tr style=\"text-align: right;\">\n",
       "      <th></th>\n",
       "      <th>events</th>\n",
       "      <th>device_id</th>\n",
       "      <th>event_timestamp</th>\n",
       "      <th>exp_id</th>\n",
       "      <th>dt</th>\n",
       "      <th>date</th>\n",
       "      <th>exp_group_category</th>\n",
       "    </tr>\n",
       "  </thead>\n",
       "  <tbody>\n",
       "    <tr>\n",
       "      <th>2828</th>\n",
       "      <td>Tutorial</td>\n",
       "      <td>3737462046622621720</td>\n",
       "      <td>1564618048</td>\n",
       "      <td>246</td>\n",
       "      <td>2019-08-01 00:07:28</td>\n",
       "      <td>2019-08-01</td>\n",
       "      <td>1</td>\n",
       "    </tr>\n",
       "    <tr>\n",
       "      <th>2829</th>\n",
       "      <td>MainScreenAppear</td>\n",
       "      <td>3737462046622621720</td>\n",
       "      <td>1564618080</td>\n",
       "      <td>246</td>\n",
       "      <td>2019-08-01 00:08:00</td>\n",
       "      <td>2019-08-01</td>\n",
       "      <td>1</td>\n",
       "    </tr>\n",
       "    <tr>\n",
       "      <th>2830</th>\n",
       "      <td>MainScreenAppear</td>\n",
       "      <td>3737462046622621720</td>\n",
       "      <td>1564618135</td>\n",
       "      <td>246</td>\n",
       "      <td>2019-08-01 00:08:55</td>\n",
       "      <td>2019-08-01</td>\n",
       "      <td>1</td>\n",
       "    </tr>\n",
       "    <tr>\n",
       "      <th>2831</th>\n",
       "      <td>OffersScreenAppear</td>\n",
       "      <td>3737462046622621720</td>\n",
       "      <td>1564618138</td>\n",
       "      <td>246</td>\n",
       "      <td>2019-08-01 00:08:58</td>\n",
       "      <td>2019-08-01</td>\n",
       "      <td>1</td>\n",
       "    </tr>\n",
       "    <tr>\n",
       "      <th>2832</th>\n",
       "      <td>MainScreenAppear</td>\n",
       "      <td>1433840883824088890</td>\n",
       "      <td>1564618139</td>\n",
       "      <td>247</td>\n",
       "      <td>2019-08-01 00:08:59</td>\n",
       "      <td>2019-08-01</td>\n",
       "      <td>2</td>\n",
       "    </tr>\n",
       "    <tr>\n",
       "      <th>...</th>\n",
       "      <td>...</td>\n",
       "      <td>...</td>\n",
       "      <td>...</td>\n",
       "      <td>...</td>\n",
       "      <td>...</td>\n",
       "      <td>...</td>\n",
       "      <td>...</td>\n",
       "    </tr>\n",
       "    <tr>\n",
       "      <th>244121</th>\n",
       "      <td>MainScreenAppear</td>\n",
       "      <td>4599628364049201812</td>\n",
       "      <td>1565212345</td>\n",
       "      <td>247</td>\n",
       "      <td>2019-08-07 21:12:25</td>\n",
       "      <td>2019-08-07</td>\n",
       "      <td>2</td>\n",
       "    </tr>\n",
       "    <tr>\n",
       "      <th>244122</th>\n",
       "      <td>MainScreenAppear</td>\n",
       "      <td>5849806612437486590</td>\n",
       "      <td>1565212439</td>\n",
       "      <td>246</td>\n",
       "      <td>2019-08-07 21:13:59</td>\n",
       "      <td>2019-08-07</td>\n",
       "      <td>1</td>\n",
       "    </tr>\n",
       "    <tr>\n",
       "      <th>244123</th>\n",
       "      <td>MainScreenAppear</td>\n",
       "      <td>5746969938801999050</td>\n",
       "      <td>1565212483</td>\n",
       "      <td>246</td>\n",
       "      <td>2019-08-07 21:14:43</td>\n",
       "      <td>2019-08-07</td>\n",
       "      <td>1</td>\n",
       "    </tr>\n",
       "    <tr>\n",
       "      <th>244124</th>\n",
       "      <td>MainScreenAppear</td>\n",
       "      <td>5746969938801999050</td>\n",
       "      <td>1565212498</td>\n",
       "      <td>246</td>\n",
       "      <td>2019-08-07 21:14:58</td>\n",
       "      <td>2019-08-07</td>\n",
       "      <td>1</td>\n",
       "    </tr>\n",
       "    <tr>\n",
       "      <th>244125</th>\n",
       "      <td>OffersScreenAppear</td>\n",
       "      <td>5746969938801999050</td>\n",
       "      <td>1565212517</td>\n",
       "      <td>246</td>\n",
       "      <td>2019-08-07 21:15:17</td>\n",
       "      <td>2019-08-07</td>\n",
       "      <td>1</td>\n",
       "    </tr>\n",
       "  </tbody>\n",
       "</table>\n",
       "<p>156572 rows × 7 columns</p>\n",
       "</div>"
      ],
      "text/plain": [
       "                    events            device_id  event_timestamp  exp_id  \\\n",
       "2828              Tutorial  3737462046622621720       1564618048     246   \n",
       "2829      MainScreenAppear  3737462046622621720       1564618080     246   \n",
       "2830      MainScreenAppear  3737462046622621720       1564618135     246   \n",
       "2831    OffersScreenAppear  3737462046622621720       1564618138     246   \n",
       "2832      MainScreenAppear  1433840883824088890       1564618139     247   \n",
       "...                    ...                  ...              ...     ...   \n",
       "244121    MainScreenAppear  4599628364049201812       1565212345     247   \n",
       "244122    MainScreenAppear  5849806612437486590       1565212439     246   \n",
       "244123    MainScreenAppear  5746969938801999050       1565212483     246   \n",
       "244124    MainScreenAppear  5746969938801999050       1565212498     246   \n",
       "244125  OffersScreenAppear  5746969938801999050       1565212517     246   \n",
       "\n",
       "                        dt       date  exp_group_category  \n",
       "2828   2019-08-01 00:07:28 2019-08-01                   1  \n",
       "2829   2019-08-01 00:08:00 2019-08-01                   1  \n",
       "2830   2019-08-01 00:08:55 2019-08-01                   1  \n",
       "2831   2019-08-01 00:08:58 2019-08-01                   1  \n",
       "2832   2019-08-01 00:08:59 2019-08-01                   2  \n",
       "...                    ...        ...                 ...  \n",
       "244121 2019-08-07 21:12:25 2019-08-07                   2  \n",
       "244122 2019-08-07 21:13:59 2019-08-07                   1  \n",
       "244123 2019-08-07 21:14:43 2019-08-07                   1  \n",
       "244124 2019-08-07 21:14:58 2019-08-07                   1  \n",
       "244125 2019-08-07 21:15:17 2019-08-07                   1  \n",
       "\n",
       "[156572 rows x 7 columns]"
      ]
     },
     "metadata": {},
     "output_type": "display_data"
    }
   ],
   "source": [
    "# Таблица только с группами 246 и 247\n",
    "group_246_247 = filtered_logs.loc[(filtered_logs['exp_id'] == 246) | (filtered_logs['exp_id'] == 247)]\n",
    "display(group_246_247)"
   ]
  },
  {
   "cell_type": "code",
   "execution_count": 39,
   "metadata": {},
   "outputs": [
    {
     "data": {
      "text/plain": [
       "<Figure size 2000x1000 with 0 Axes>"
      ]
     },
     "metadata": {},
     "output_type": "display_data"
    },
    {
     "data": {
      "image/png": "[encoded data removed]",
      "text/plain": [
       "<Figure size 640x480 with 1 Axes>"
      ]
     },
     "metadata": {},
     "output_type": "display_data"
    }
   ],
   "source": [
    "# Сравнительный график количества пользователей двух групп в разрезе времени\n",
    "compare_246_247 = group_246_247.pivot_table(index = 'date', columns = 'exp_id', values = 'events', aggfunc = 'count')\n",
    "#display(groups)\n",
    "\n",
    "plt.figure(figsize=(20, 10))\n",
    "compare_246_247.plot(kind='bar')\n",
    "plt.title('Количество событий в зависимости от времени в разрезе групп 246 и 247')\n",
    "plt.xlabel('Дни')\n",
    "plt.ylabel('Количество событий')\n",
    "plt.legend(title='Группы')\n",
    "plt.grid(True)\n",
    "plt.xticks(rotation=90)\n",
    "plt.show()"
   ]
  },
  {
   "cell_type": "code",
   "execution_count": 40,
   "metadata": {},
   "outputs": [
    {
     "data": {
      "text/html": [
       "<div>\n",
       "<style scoped>\n",
       "    .dataframe tbody tr th:only-of-type {\n",
       "        vertical-align: middle;\n",
       "    }\n",
       "\n",
       "    .dataframe tbody tr th {\n",
       "        vertical-align: top;\n",
       "    }\n",
       "\n",
       "    .dataframe thead th {\n",
       "        text-align: right;\n",
       "    }\n",
       "</style>\n",
       "<table border=\"1\" class=\"dataframe\">\n",
       "  <thead>\n",
       "    <tr style=\"text-align: right;\">\n",
       "      <th></th>\n",
       "      <th>device_id</th>\n",
       "    </tr>\n",
       "    <tr>\n",
       "      <th>events</th>\n",
       "      <th></th>\n",
       "    </tr>\n",
       "  </thead>\n",
       "  <tbody>\n",
       "    <tr>\n",
       "      <th>MainScreenAppear</th>\n",
       "      <td>2450</td>\n",
       "    </tr>\n",
       "    <tr>\n",
       "      <th>OffersScreenAppear</th>\n",
       "      <td>1542</td>\n",
       "    </tr>\n",
       "    <tr>\n",
       "      <th>CartScreenAppear</th>\n",
       "      <td>1266</td>\n",
       "    </tr>\n",
       "    <tr>\n",
       "      <th>PaymentScreenSuccessful</th>\n",
       "      <td>1200</td>\n",
       "    </tr>\n",
       "    <tr>\n",
       "      <th>Tutorial</th>\n",
       "      <td>278</td>\n",
       "    </tr>\n",
       "  </tbody>\n",
       "</table>\n",
       "</div>"
      ],
      "text/plain": [
       "                         device_id\n",
       "events                            \n",
       "MainScreenAppear              2450\n",
       "OffersScreenAppear            1542\n",
       "CartScreenAppear              1266\n",
       "PaymentScreenSuccessful       1200\n",
       "Tutorial                       278"
      ]
     },
     "metadata": {},
     "output_type": "display_data"
    },
    {
     "name": "stdout",
     "output_type": "stream",
     "text": [
      "Доля пользователей гр. 246, дошедших от первого события до оплаты  device_id    49.0%\n",
      "dtype: object\n"
     ]
    }
   ],
   "source": [
    "# Доля пользователей, дошедших от первого события до оплаты в группе 246\n",
    "\n",
    "users_count_246 = group_246_only.groupby('events').agg({'device_id': 'nunique'}).sort_values(by='device_id', ascending = False)\n",
    "display(users_count_246)\n",
    "\n",
    "a_246 = users_count_246.iloc[0] # Клиент открывает главную страницу\n",
    "b_246 = users_count_246.iloc[1] # Клиент заходит в страницу с каталогом продуктов питания\n",
    "c_246 = users_count_246.iloc[2] # Клиент кладет выбранный товар в корзину\n",
    "d_246 = users_count_246.iloc[3] # Клиент оплачивает выбранные товары в корзине\n",
    "\n",
    "print('Доля пользователей гр. 246, дошедших от первого события до оплаты ', round(d_246/a_246*100,1).map(\"{:.1f}%\".format));"
   ]
  },
  {
   "cell_type": "code",
   "execution_count": 41,
   "metadata": {},
   "outputs": [
    {
     "data": {
      "text/html": [
       "<div>\n",
       "<style scoped>\n",
       "    .dataframe tbody tr th:only-of-type {\n",
       "        vertical-align: middle;\n",
       "    }\n",
       "\n",
       "    .dataframe tbody tr th {\n",
       "        vertical-align: top;\n",
       "    }\n",
       "\n",
       "    .dataframe thead th {\n",
       "        text-align: right;\n",
       "    }\n",
       "</style>\n",
       "<table border=\"1\" class=\"dataframe\">\n",
       "  <thead>\n",
       "    <tr style=\"text-align: right;\">\n",
       "      <th></th>\n",
       "      <th>device_id</th>\n",
       "    </tr>\n",
       "    <tr>\n",
       "      <th>events</th>\n",
       "      <th></th>\n",
       "    </tr>\n",
       "  </thead>\n",
       "  <tbody>\n",
       "    <tr>\n",
       "      <th>MainScreenAppear</th>\n",
       "      <td>2476</td>\n",
       "    </tr>\n",
       "    <tr>\n",
       "      <th>OffersScreenAppear</th>\n",
       "      <td>1520</td>\n",
       "    </tr>\n",
       "    <tr>\n",
       "      <th>CartScreenAppear</th>\n",
       "      <td>1238</td>\n",
       "    </tr>\n",
       "    <tr>\n",
       "      <th>PaymentScreenSuccessful</th>\n",
       "      <td>1158</td>\n",
       "    </tr>\n",
       "    <tr>\n",
       "      <th>Tutorial</th>\n",
       "      <td>283</td>\n",
       "    </tr>\n",
       "  </tbody>\n",
       "</table>\n",
       "</div>"
      ],
      "text/plain": [
       "                         device_id\n",
       "events                            \n",
       "MainScreenAppear              2476\n",
       "OffersScreenAppear            1520\n",
       "CartScreenAppear              1238\n",
       "PaymentScreenSuccessful       1158\n",
       "Tutorial                       283"
      ]
     },
     "metadata": {},
     "output_type": "display_data"
    },
    {
     "name": "stdout",
     "output_type": "stream",
     "text": [
      "Доля пользователей гр. 247, дошедших от первого события до оплаты  device_id    46.8%\n",
      "dtype: object\n"
     ]
    }
   ],
   "source": [
    "# Доля пользователей, дошедших от первого события до оплаты в группе 247\n",
    "\n",
    "users_count_247 = group_247_only.groupby('events').agg({'device_id': 'nunique'}).sort_values(by='device_id', ascending = False)\n",
    "display(users_count_247)\n",
    "\n",
    "a_247 = users_count_247.iloc[0] # Клиент открывает главную страницу\n",
    "b_247 = users_count_247.iloc[1] # Клиент заходит в страницу с каталогом продуктов питания\n",
    "c_247 = users_count_247.iloc[2] # Клиент кладет выбранный товар в корзину\n",
    "d_247 = users_count_247.iloc[3] # Клиент оплачивает выбранные товары в корзине\n",
    "\n",
    "print('Доля пользователей гр. 247, дошедших от первого события до оплаты ', round(d_247/a_247*100,1).map(\"{:.1f}%\".format));"
   ]
  },
  {
   "cell_type": "markdown",
   "metadata": {},
   "source": [
    "<b>Промежуточные выводы:</b><br>\n",
    "<p></p>\n",
    "Количество действий по каждому событию по группе 246 сложились следующим образом:<br>\n",
    "- Открытие главной страницы         37708 раз<br>\n",
    "- Открытие страницы с предложениями 14773 раз<br>\n",
    "- Перемещиение товара(ов) в корзину 14711 раз<br>\n",
    "- Оплата товара(ов)                 11910 раз<br>\n",
    "<p></p>\n",
    "Количество действий по каждому событию по группе 247:<br>\n",
    "- Открытие главной страницы         39123 раз<br>\n",
    "- Открытие страницы с предложениями 15182 раз<br>\n",
    "- Перемещиение товара(ов) в корзину 12456 раз<br>\n",
    "- Оплата товара(ов)                 10043 раз<br>\n",
    "<p></p>\n",
    "\n",
    "По воронкам продаж картина следующая: <br>\n",
    "- Доля пользователей гр. 246, дошедших от первого события до оплаты  = 49.0%, <br>\n",
    "- Доля пользователей гр. 247, дошедших от первого события до оплаты  = 46.8%.\n",
    "<p></p>\n",
    "\n",
    "2450 пользователей гр. 246 открыли главную страницу, из которых 1200 совершили покупку.<br>\n",
    "В группе 247 главную страницу открыли 2476 пользователей, но покупку совершили 1158 чел. \n",
    "<p></p>\n",
    "\n",
    "<b>По предварительным статистическим показателеям разница между группами 246 и 247 существует.</b>\n"
   ]
  },
  {
   "cell_type": "markdown",
   "metadata": {},
   "source": [
    "#### Анализ популярного события. Сравнение гипотез по группам"
   ]
  },
  {
   "cell_type": "code",
   "execution_count": 42,
   "metadata": {},
   "outputs": [],
   "source": [
    "# функция для анализа событий\n",
    "\n",
    "def event_analysis(analyzed_event, group_number):\n",
    "    analyzed_group = filtered_logs.loc[filtered_logs['exp_id'] == group_number]\n",
    "    user_counts = analyzed_group.groupby('events').agg({'device_id': 'nunique'}).sort_values(by='device_id', ascending = False)\n",
    "#     display(user_counts)\n",
    "    \n",
    "    basic_event = user_counts.iloc[0] \n",
    "    \n",
    "    if analyzed_event == 'OffersScreenAppear':\n",
    "        b = user_counts.iloc[1] \n",
    "        print('Доля пользователей гр.', {group_number}\\\n",
    "              , 'дошедших от первого события до', {analyzed_event}\\\n",
    "              , round(b/basic_event*100,1).map(\"{:.1f}%\".format))\n",
    "    if analyzed_event == 'CartScreenAppear':\n",
    "        c = user_counts.iloc[2] \n",
    "        print('Доля пользователей гр.', {group_number}\\\n",
    "              , 'дошедших от первого события до', {analyzed_event}\\\n",
    "              , round(c/basic_event*100,1).map(\"{:.1f}%\".format))\n",
    "    if analyzed_event == 'PaymentScreenSuccessful':\n",
    "        d = user_counts.iloc[3] \n",
    "        print('Доля пользователей гр.', {group_number}\\\n",
    "              , 'дошедших от первого события до', {analyzed_event}\\\n",
    "              , round(d/basic_event*100,1).map(\"{:.1f}%\".format))\n",
    "\n",
    "    return analyzed_group"
   ]
  },
  {
   "cell_type": "code",
   "execution_count": 43,
   "metadata": {},
   "outputs": [],
   "source": [
    "event_2 = 'OffersScreenAppear'# Клиент заходит в страницу с каталогом продуктов питания\n",
    "event_3 = 'CartScreenAppear' # Клиент кладет выбранный товар в корзину\n",
    "event_4 = 'PaymentScreenSuccessful' # Клиент оплачивает выбранные товары в корзине"
   ]
  },
  {
   "cell_type": "code",
   "execution_count": 44,
   "metadata": {},
   "outputs": [
    {
     "name": "stdout",
     "output_type": "stream",
     "text": [
      "Доля пользователей гр. {246} дошедших от первого события до {'PaymentScreenSuccessful'} device_id    49.0%\n",
      "dtype: object\n"
     ]
    }
   ],
   "source": [
    "# Формула для расчета количества пользователей в каждом событии по группам и доли пользователей в каждом событий\n",
    "# В качестве \"популярного события\" выберем Оплату выбранного товара\n",
    "ev_4_246 = event_analysis(event_4, 246);"
   ]
  },
  {
   "cell_type": "code",
   "execution_count": 45,
   "metadata": {},
   "outputs": [
    {
     "name": "stdout",
     "output_type": "stream",
     "text": [
      "Доля пользователей гр. {247} дошедших от первого события до {'PaymentScreenSuccessful'} device_id    46.8%\n",
      "dtype: object\n"
     ]
    }
   ],
   "source": [
    "# \"популярное событие\" - Оплата выбранного товара - для гр. 247\n",
    "ev_4_247 = event_analysis(event_4, 247)\n"
   ]
  },
  {
   "cell_type": "markdown",
   "metadata": {},
   "source": [
    "В группе 246 на 2.2% больше пользователей совершило покупку. По количеству покупателей тоже превышает группу 247."
   ]
  },
  {
   "cell_type": "markdown",
   "metadata": {},
   "source": [
    "<b>\n",
    "Нулевая гипотеза (Н0) - в сравниваемых группах нет разницы между долями пользователей совершивших событие.<br><p></p>\n",
    "Альтернативная гипотеза (Н1) - в группах есть разница между долями пользователей совершивших событие.</b>"
   ]
  },
  {
   "cell_type": "code",
   "execution_count": 46,
   "metadata": {},
   "outputs": [],
   "source": [
    "# alpha = 0.05\n",
    "\n",
    "# results = st.ttest_ind(users_count_246['device_id'], users_count_247['device_id'], alternative='greater')\n",
    "\n",
    "# print(f'p-value: {results.pvalue}')\n",
    "\n",
    "# if results.pvalue < alpha:\n",
    "#     print('Вывод: Отвергаем нулевую гипотезу')\n",
    "# else:\n",
    "#     print('Вывод: Нет оснований отвергнуть нулевую гипотезу')"
   ]
  },
  {
   "cell_type": "code",
   "execution_count": 47,
   "metadata": {},
   "outputs": [
    {
     "name": "stdout",
     "output_type": "stream",
     "text": [
      "                    events  events_count  users_count\n",
      "0         CartScreenAppear         42365         3734\n",
      "1         MainScreenAppear        117431         7419\n",
      "2       OffersScreenAppear         46350         4593\n",
      "3  PaymentScreenSuccessful         34113         3539\n",
      "4                 Tutorial          1039          840\n"
     ]
    }
   ],
   "source": [
    "# переделаем датафрейм events_counts\n",
    "events_counts = filtered_logs.groupby('events')['device_id'].agg(['count', 'nunique'])\\\n",
    "                            .reset_index()\n",
    "events_counts.columns =['events', 'events_count', 'users_count']\n",
    "print(events_counts)"
   ]
  },
  {
   "cell_type": "code",
   "execution_count": 48,
   "metadata": {},
   "outputs": [
    {
     "name": "stdout",
     "output_type": "stream",
     "text": [
      "0           MainScreenAppear\n",
      "1         OffersScreenAppear\n",
      "2           CartScreenAppear\n",
      "3    PaymentScreenSuccessful\n",
      "Name: events, dtype: object\n"
     ]
    }
   ],
   "source": [
    "# упорядочинвание событий\n",
    "groups = [246, 247, 248]\n",
    "events_and_groups = {}\n",
    "order = (events_counts[events_counts['events'] != 'Tutorial']\n",
    "         .sort_values('events_count', ascending=False)['events']\n",
    "         .reset_index(drop=True))\n",
    "\n",
    "for group in groups:\n",
    "    events_and_groups[group] =[]\n",
    "    for event in order:\n",
    "        events_and_groups[group]\\\n",
    "        .append(filtered_logs[(filtered_logs['exp_id'] == group) \\\n",
    "                                               & (filtered_logs['events'] == event)]['device_id'].nunique())\n",
    "print(order)"
   ]
  },
  {
   "cell_type": "code",
   "execution_count": 49,
   "metadata": {},
   "outputs": [],
   "source": [
    "# функция для проверки гипотезы о равенстве пропорций заказов, Z-value\n",
    "# количество пользователей в группах        \n",
    "users_count = {'all': filtered_logs['device_id'].nunique(), \n",
    "           246: filtered_logs[filtered_logs['exp_id']==246]['device_id'].nunique(),\n",
    "           247: filtered_logs[filtered_logs['exp_id']==247]['device_id'].nunique(),\n",
    "           248: filtered_logs[filtered_logs['exp_id']==248]['device_id'].nunique(),\n",
    "           'groups_246_247': filtered_logs[(filtered_logs['exp_id']==246) \\\n",
    "                                    | (filtered_logs['exp_id']==247)]['device_id'].nunique()}\n",
    "\n",
    "events_and_groups = pd.DataFrame(events_and_groups)\n",
    "events_and_groups['groups_246_247'] = events_and_groups[246] + events_and_groups[247]\n",
    "events_and_groups['events'] = order\n",
    "\n",
    "def z_score_compare(group_1, group_2, alpha):\n",
    "    for i in events_and_groups.index:\n",
    "        alpha = alpha\n",
    "        p1 = events_and_groups[group_1][i] / users_count[group_1] # пропорция успехов в I группе:\n",
    "        p2 = events_and_groups[group_2][i] / users_count[group_2] # пропорция успехов во II группе:\n",
    "        p_combined = ((events_and_groups[group_1][i] + events_and_groups[group_2][i]) / \n",
    "                      (users_count[group_1] + users_count[group_2])) # пропорция успехов в объединенной контрольной группе:\n",
    "        difference = p1 - p2 # разница пропорция в группах\n",
    "        \n",
    "        # Z-статистика\n",
    "        z_value = difference / mth.sqrt(p_combined * (1 - p_combined) * \n",
    "                                        (1/users_count[group_1] + 1/users_count[group_2]))\n",
    "        # стандартное нормальное распределение (среднее 0, ст.отклонение 1)\n",
    "        distr = st.norm(0, 1) \n",
    "        p_value = (1 - distr.cdf(abs(z_value))) * 2\n",
    "        print('{} p-значение: {}'.format(events_and_groups['events'][i], p_value))\n",
    "        if (p_value < alpha):\n",
    "            print(\"Отвергаем Нулевую гипотезу: между долями есть разница\")\n",
    "        else:\n",
    "            print(\"Не отвергаем Нулевую гипотезу: нет оснований считать доли разными\")\n",
    "        print('')"
   ]
  },
  {
   "cell_type": "code",
   "execution_count": 50,
   "metadata": {},
   "outputs": [
    {
     "name": "stdout",
     "output_type": "stream",
     "text": [
      "Сравнение долей между группами 246 и 247:\n",
      "\n",
      "MainScreenAppear p-значение: 0.7570597232046099\n",
      "Не отвергаем Нулевую гипотезу: нет оснований считать доли разными\n",
      "\n",
      "OffersScreenAppear p-значение: 0.2480954578522181\n",
      "Не отвергаем Нулевую гипотезу: нет оснований считать доли разными\n",
      "\n",
      "CartScreenAppear p-значение: 0.22883372237997213\n",
      "Не отвергаем Нулевую гипотезу: нет оснований считать доли разными\n",
      "\n",
      "PaymentScreenSuccessful p-значение: 0.11456679313141849\n",
      "Не отвергаем Нулевую гипотезу: нет оснований считать доли разными\n",
      "\n"
     ]
    }
   ],
   "source": [
    "print('Сравнение долей между группами 246 и 247:')\n",
    "print()\n",
    "z_score_compare(246,247,0.05)"
   ]
  },
  {
   "cell_type": "markdown",
   "metadata": {},
   "source": [
    "Я бы предположил, что разбиение пользователей на две контрольные группы работает не совсем корректно."
   ]
  },
  {
   "cell_type": "markdown",
   "metadata": {},
   "source": [
    "#### Анализ группы с изменённым шрифтом"
   ]
  },
  {
   "cell_type": "code",
   "execution_count": 51,
   "metadata": {},
   "outputs": [
    {
     "name": "stdout",
     "output_type": "stream",
     "text": [
      "Сравнение долей между контрольной группой 246 и и экспериментальной группой 248 (с измененным шрифтом):\n",
      "\n",
      "MainScreenAppear p-значение: 0.2949721933554552\n",
      "Не отвергаем Нулевую гипотезу: нет оснований считать доли разными\n",
      "\n",
      "OffersScreenAppear p-значение: 0.20836205402738917\n",
      "Не отвергаем Нулевую гипотезу: нет оснований считать доли разными\n",
      "\n",
      "CartScreenAppear p-значение: 0.07842923237520116\n",
      "Не отвергаем Нулевую гипотезу: нет оснований считать доли разными\n",
      "\n",
      "PaymentScreenSuccessful p-значение: 0.2122553275697796\n",
      "Не отвергаем Нулевую гипотезу: нет оснований считать доли разными\n",
      "\n"
     ]
    }
   ],
   "source": [
    "print('Сравнение долей между контрольной группой 246 и и экспериментальной группой 248 (с измененным шрифтом):')\n",
    "print()\n",
    "z_score_compare(246,248,0.05)"
   ]
  },
  {
   "cell_type": "code",
   "execution_count": 52,
   "metadata": {},
   "outputs": [
    {
     "name": "stdout",
     "output_type": "stream",
     "text": [
      "Сравнение долей между контрольной группой 247 и и экспериментальной группой 248 (с измененным шрифтом):\n",
      "\n",
      "MainScreenAppear p-значение: 0.4587053616621515\n",
      "Не отвергаем Нулевую гипотезу: нет оснований считать доли разными\n",
      "\n",
      "OffersScreenAppear p-значение: 0.9197817830592261\n",
      "Не отвергаем Нулевую гипотезу: нет оснований считать доли разными\n",
      "\n",
      "CartScreenAppear p-значение: 0.5786197879539783\n",
      "Не отвергаем Нулевую гипотезу: нет оснований считать доли разными\n",
      "\n",
      "PaymentScreenSuccessful p-значение: 0.7373415053803964\n",
      "Не отвергаем Нулевую гипотезу: нет оснований считать доли разными\n",
      "\n"
     ]
    }
   ],
   "source": [
    "print('Сравнение долей между контрольной группой 247 и и экспериментальной группой 248 (с измененным шрифтом):')\n",
    "print()\n",
    "z_score_compare(247,248,0.05)"
   ]
  },
  {
   "cell_type": "code",
   "execution_count": 53,
   "metadata": {},
   "outputs": [
    {
     "name": "stdout",
     "output_type": "stream",
     "text": [
      "Сравнение долей между объединенной контрольной группой 246/247 и и экспериментальной группой 248 (с измененным шрифтом):\n",
      "\n",
      "MainScreenAppear p-значение: 0.29424526837179577\n",
      "Не отвергаем Нулевую гипотезу: нет оснований считать доли разными\n",
      "\n",
      "OffersScreenAppear p-значение: 0.43425549655188256\n",
      "Не отвергаем Нулевую гипотезу: нет оснований считать доли разными\n",
      "\n",
      "CartScreenAppear p-значение: 0.18175875284404386\n",
      "Не отвергаем Нулевую гипотезу: нет оснований считать доли разными\n",
      "\n",
      "PaymentScreenSuccessful p-значение: 0.6004294282308704\n",
      "Не отвергаем Нулевую гипотезу: нет оснований считать доли разными\n",
      "\n"
     ]
    }
   ],
   "source": [
    "print('Сравнение долей между объединенной контрольной группой 246/247 и и экспериментальной группой 248 (с измененным шрифтом):')\n",
    "print()\n",
    "z_score_compare('groups_246_247',248,0.05)"
   ]
  },
  {
   "cell_type": "markdown",
   "metadata": {},
   "source": [
    "#### Поправка на множественную проверку гипотез. Метод Шидака"
   ]
  },
  {
   "cell_type": "markdown",
   "metadata": {},
   "source": [
    "<div class=\"alert alert-info\"> <b>Комментарий студента в2:</b> <p></p> \n",
    "    Всего было проведено 16 проверок гипотез по 4 датасетам и 4 событиям со статиситичекой значимостью 0.05. </div>"
   ]
  },
  {
   "cell_type": "code",
   "execution_count": 54,
   "metadata": {},
   "outputs": [
    {
     "name": "stdout",
     "output_type": "stream",
     "text": [
      "p-значение для сравнения групп А и B:  0.9697938310450083\n",
      "p-значение для сравнения групп B и C:  0.9808472648044346\n",
      "p-значение для сравнения групп А и C:  0.9895062693431196\n",
      "p-значение для сравнения групп D и C:  0.05243191641862667\n",
      "Не получилось отвергнуть нулевую гипотезу для сравнения групп А и B\n",
      "Не получилось отвергнуть нулевую гипотезу для сравнения групп B и C\n",
      "Не получилось отвергнуть нулевую гипотезу для сравнения групп А и C\n",
      "Не получилось отвергнуть нулевую гипотезу для сравнения групп D и C\n"
     ]
    }
   ],
   "source": [
    "#Анализ с использованием поправки на множественную проверку гипотез\n",
    "\n",
    "sample_A = events_and_groups[246]\n",
    "sample_B = events_and_groups[247]\n",
    "sample_C = events_and_groups[248]\n",
    "sample_D = events_and_groups['groups_246_247']\n",
    "\n",
    "alpha = 0.05  # критический уровень статистической значимости\n",
    "\n",
    "results_AB = st.ttest_ind(sample_A, sample_B)\n",
    "\n",
    "results_BC = st.ttest_ind(sample_B, sample_C)\n",
    "\n",
    "results_AC = st.ttest_ind(sample_A, sample_C)\n",
    "\n",
    "results_DC = st.ttest_ind(sample_D, sample_C)\n",
    "\n",
    "sidak_alpha = 1 - np.power((1 - alpha), 1/16) # произведено 16 сравнений\n",
    "\n",
    "print('p-значение для сравнения групп А и B: ', results_AB.pvalue)\n",
    "print('p-значение для сравнения групп B и C: ', results_BC.pvalue)\n",
    "print('p-значение для сравнения групп А и C: ', results_AC.pvalue)\n",
    "print('p-значение для сравнения групп D и C: ', results_DC.pvalue)\n",
    "\n",
    "if results_AB.pvalue < sidak_alpha:\n",
    "    print('Отвергаем нулевую гипотезу для сравнения групп А и B')\n",
    "else:\n",
    "    print(\n",
    "        'Не получилось отвергнуть нулевую гипотезу для сравнения групп А и B'\n",
    "    )\n",
    "\n",
    "if results_BC.pvalue < sidak_alpha:\n",
    "    print('Отвергаем нулевую гипотезу для сравнения групп B и C')\n",
    "else:\n",
    "    print(\n",
    "        'Не получилось отвергнуть нулевую гипотезу для сравнения групп B и C'\n",
    "    )\n",
    "\n",
    "if results_AC.pvalue < sidak_alpha:\n",
    "    print('Отвергаем нулевую гипотезу для сравнения групп А и C')\n",
    "else:\n",
    "    print(\n",
    "        'Не получилось отвергнуть нулевую гипотезу для сравнения групп А и C'\n",
    "    )\n",
    "\n",
    "if results_DC.pvalue < sidak_alpha:\n",
    "    print('Отвергаем нулевую гипотезу для сравнения групп D и C')\n",
    "else:\n",
    "    print(\n",
    "        'Не получилось отвергнуть нулевую гипотезу для сравнения групп D и C'\n",
    "    )\n"
   ]
  },
  {
   "cell_type": "markdown",
   "metadata": {},
   "source": [
    "<div class=\"alert alert-info\"> <b>Комментарий студента в2:</b> <p></p> \n",
    "    Анализ с использованием поправки на множественную проверку гипотез методом Шидака также показало отсутствие значимой разнциы между долями пользователей групп, совершивших события.</div>"
   ]
  },
  {
   "cell_type": "markdown",
   "metadata": {},
   "source": [
    "#### Уровень значимости 0.1"
   ]
  },
  {
   "cell_type": "code",
   "execution_count": 55,
   "metadata": {},
   "outputs": [
    {
     "name": "stdout",
     "output_type": "stream",
     "text": [
      "Сравнение долей при уровне значимости 0.1 в группах 246 и 247:\n",
      "\n",
      "MainScreenAppear p-значение: 0.7570597232046099\n",
      "Не отвергаем Нулевую гипотезу: нет оснований считать доли разными\n",
      "\n",
      "OffersScreenAppear p-значение: 0.2480954578522181\n",
      "Не отвергаем Нулевую гипотезу: нет оснований считать доли разными\n",
      "\n",
      "CartScreenAppear p-значение: 0.22883372237997213\n",
      "Не отвергаем Нулевую гипотезу: нет оснований считать доли разными\n",
      "\n",
      "PaymentScreenSuccessful p-значение: 0.11456679313141849\n",
      "Не отвергаем Нулевую гипотезу: нет оснований считать доли разными\n",
      "\n"
     ]
    }
   ],
   "source": [
    "print('Сравнение долей при уровне значимости 0.1 в группах 246 и 247:')\n",
    "print()\n",
    "z_score_compare(246,247,0.1)"
   ]
  },
  {
   "cell_type": "code",
   "execution_count": 56,
   "metadata": {},
   "outputs": [
    {
     "name": "stdout",
     "output_type": "stream",
     "text": [
      "Сравнение долей при уровне значимости 0.1  в группах 246 и 248:\n",
      "\n",
      "MainScreenAppear p-значение: 0.2949721933554552\n",
      "Не отвергаем Нулевую гипотезу: нет оснований считать доли разными\n",
      "\n",
      "OffersScreenAppear p-значение: 0.20836205402738917\n",
      "Не отвергаем Нулевую гипотезу: нет оснований считать доли разными\n",
      "\n",
      "CartScreenAppear p-значение: 0.07842923237520116\n",
      "Отвергаем Нулевую гипотезу: между долями есть разница\n",
      "\n",
      "PaymentScreenSuccessful p-значение: 0.2122553275697796\n",
      "Не отвергаем Нулевую гипотезу: нет оснований считать доли разными\n",
      "\n"
     ]
    }
   ],
   "source": [
    "print('Сравнение долей при уровне значимости 0.1  в группах 246 и 248:')\n",
    "print()\n",
    "z_score_compare(246,248,0.1)"
   ]
  },
  {
   "cell_type": "code",
   "execution_count": 57,
   "metadata": {},
   "outputs": [
    {
     "name": "stdout",
     "output_type": "stream",
     "text": [
      "Сравнение долей при уровне значимости 0.1  в группах 247 и 248:\n",
      "\n",
      "MainScreenAppear p-значение: 0.4587053616621515\n",
      "Не отвергаем Нулевую гипотезу: нет оснований считать доли разными\n",
      "\n",
      "OffersScreenAppear p-значение: 0.9197817830592261\n",
      "Не отвергаем Нулевую гипотезу: нет оснований считать доли разными\n",
      "\n",
      "CartScreenAppear p-значение: 0.5786197879539783\n",
      "Не отвергаем Нулевую гипотезу: нет оснований считать доли разными\n",
      "\n",
      "PaymentScreenSuccessful p-значение: 0.7373415053803964\n",
      "Не отвергаем Нулевую гипотезу: нет оснований считать доли разными\n",
      "\n"
     ]
    }
   ],
   "source": [
    "print('Сравнение долей при уровне значимости 0.1  в группах 247 и 248:')\n",
    "print()\n",
    "z_score_compare(247,248,0.1)"
   ]
  },
  {
   "cell_type": "code",
   "execution_count": 58,
   "metadata": {},
   "outputs": [
    {
     "name": "stdout",
     "output_type": "stream",
     "text": [
      "Сравнение долей при уровне значимости 0.1 в группах (246 + 247) и 248:\n",
      "\n",
      "MainScreenAppear p-значение: 0.29424526837179577\n",
      "Не отвергаем Нулевую гипотезу: нет оснований считать доли разными\n",
      "\n",
      "OffersScreenAppear p-значение: 0.43425549655188256\n",
      "Не отвергаем Нулевую гипотезу: нет оснований считать доли разными\n",
      "\n",
      "CartScreenAppear p-значение: 0.18175875284404386\n",
      "Не отвергаем Нулевую гипотезу: нет оснований считать доли разными\n",
      "\n",
      "PaymentScreenSuccessful p-значение: 0.6004294282308704\n",
      "Не отвергаем Нулевую гипотезу: нет оснований считать доли разными\n",
      "\n"
     ]
    }
   ],
   "source": [
    "print('Сравнение долей при уровне значимости 0.1 в группах (246 + 247) и 248:')\n",
    "print()\n",
    "z_score_compare('groups_246_247',248,0.1)"
   ]
  },
  {
   "cell_type": "markdown",
   "metadata": {},
   "source": [
    "#### Сравнение долей пользователей в событиях"
   ]
  },
  {
   "cell_type": "code",
   "execution_count": 59,
   "metadata": {},
   "outputs": [
    {
     "data": {
      "text/html": [
       "<div>\n",
       "<style scoped>\n",
       "    .dataframe tbody tr th:only-of-type {\n",
       "        vertical-align: middle;\n",
       "    }\n",
       "\n",
       "    .dataframe tbody tr th {\n",
       "        vertical-align: top;\n",
       "    }\n",
       "\n",
       "    .dataframe thead th {\n",
       "        text-align: right;\n",
       "    }\n",
       "</style>\n",
       "<table border=\"1\" class=\"dataframe\">\n",
       "  <thead>\n",
       "    <tr style=\"text-align: right;\">\n",
       "      <th></th>\n",
       "      <th>events</th>\n",
       "      <th>device_id</th>\n",
       "      <th>event_timestamp</th>\n",
       "      <th>exp_id</th>\n",
       "      <th>dt</th>\n",
       "      <th>date</th>\n",
       "      <th>exp_group_category</th>\n",
       "    </tr>\n",
       "  </thead>\n",
       "  <tbody>\n",
       "    <tr>\n",
       "      <th>2844</th>\n",
       "      <td>MainScreenAppear</td>\n",
       "      <td>4613461174774205834</td>\n",
       "      <td>1564618471</td>\n",
       "      <td>248</td>\n",
       "      <td>2019-08-01 00:14:31</td>\n",
       "      <td>2019-08-01</td>\n",
       "      <td>3</td>\n",
       "    </tr>\n",
       "    <tr>\n",
       "      <th>2845</th>\n",
       "      <td>MainScreenAppear</td>\n",
       "      <td>4613461174774205834</td>\n",
       "      <td>1564618474</td>\n",
       "      <td>248</td>\n",
       "      <td>2019-08-01 00:14:34</td>\n",
       "      <td>2019-08-01</td>\n",
       "      <td>3</td>\n",
       "    </tr>\n",
       "    <tr>\n",
       "      <th>2846</th>\n",
       "      <td>CartScreenAppear</td>\n",
       "      <td>4613461174774205834</td>\n",
       "      <td>1564618474</td>\n",
       "      <td>248</td>\n",
       "      <td>2019-08-01 00:14:34</td>\n",
       "      <td>2019-08-01</td>\n",
       "      <td>3</td>\n",
       "    </tr>\n",
       "    <tr>\n",
       "      <th>2847</th>\n",
       "      <td>PaymentScreenSuccessful</td>\n",
       "      <td>4613461174774205834</td>\n",
       "      <td>1564618483</td>\n",
       "      <td>248</td>\n",
       "      <td>2019-08-01 00:14:43</td>\n",
       "      <td>2019-08-01</td>\n",
       "      <td>3</td>\n",
       "    </tr>\n",
       "    <tr>\n",
       "      <th>2848</th>\n",
       "      <td>OffersScreenAppear</td>\n",
       "      <td>4613461174774205834</td>\n",
       "      <td>1564618491</td>\n",
       "      <td>248</td>\n",
       "      <td>2019-08-01 00:14:51</td>\n",
       "      <td>2019-08-01</td>\n",
       "      <td>3</td>\n",
       "    </tr>\n",
       "    <tr>\n",
       "      <th>...</th>\n",
       "      <td>...</td>\n",
       "      <td>...</td>\n",
       "      <td>...</td>\n",
       "      <td>...</td>\n",
       "      <td>...</td>\n",
       "      <td>...</td>\n",
       "      <td>...</td>\n",
       "    </tr>\n",
       "    <tr>\n",
       "      <th>244082</th>\n",
       "      <td>MainScreenAppear</td>\n",
       "      <td>8249271441488197538</td>\n",
       "      <td>1565211813</td>\n",
       "      <td>248</td>\n",
       "      <td>2019-08-07 21:03:33</td>\n",
       "      <td>2019-08-07</td>\n",
       "      <td>3</td>\n",
       "    </tr>\n",
       "    <tr>\n",
       "      <th>244084</th>\n",
       "      <td>OffersScreenAppear</td>\n",
       "      <td>8249271441488197538</td>\n",
       "      <td>1565211823</td>\n",
       "      <td>248</td>\n",
       "      <td>2019-08-07 21:03:43</td>\n",
       "      <td>2019-08-07</td>\n",
       "      <td>3</td>\n",
       "    </tr>\n",
       "    <tr>\n",
       "      <th>244109</th>\n",
       "      <td>MainScreenAppear</td>\n",
       "      <td>5317814261427487562</td>\n",
       "      <td>1565212162</td>\n",
       "      <td>248</td>\n",
       "      <td>2019-08-07 21:09:22</td>\n",
       "      <td>2019-08-07</td>\n",
       "      <td>3</td>\n",
       "    </tr>\n",
       "    <tr>\n",
       "      <th>244110</th>\n",
       "      <td>OffersScreenAppear</td>\n",
       "      <td>5317814261427487562</td>\n",
       "      <td>1565212167</td>\n",
       "      <td>248</td>\n",
       "      <td>2019-08-07 21:09:27</td>\n",
       "      <td>2019-08-07</td>\n",
       "      <td>3</td>\n",
       "    </tr>\n",
       "    <tr>\n",
       "      <th>244115</th>\n",
       "      <td>OffersScreenAppear</td>\n",
       "      <td>5317814261427487562</td>\n",
       "      <td>1565212208</td>\n",
       "      <td>248</td>\n",
       "      <td>2019-08-07 21:10:08</td>\n",
       "      <td>2019-08-07</td>\n",
       "      <td>3</td>\n",
       "    </tr>\n",
       "  </tbody>\n",
       "</table>\n",
       "<p>84726 rows × 7 columns</p>\n",
       "</div>"
      ],
      "text/plain": [
       "                         events            device_id  event_timestamp  exp_id  \\\n",
       "2844           MainScreenAppear  4613461174774205834       1564618471     248   \n",
       "2845           MainScreenAppear  4613461174774205834       1564618474     248   \n",
       "2846           CartScreenAppear  4613461174774205834       1564618474     248   \n",
       "2847    PaymentScreenSuccessful  4613461174774205834       1564618483     248   \n",
       "2848         OffersScreenAppear  4613461174774205834       1564618491     248   \n",
       "...                         ...                  ...              ...     ...   \n",
       "244082         MainScreenAppear  8249271441488197538       1565211813     248   \n",
       "244084       OffersScreenAppear  8249271441488197538       1565211823     248   \n",
       "244109         MainScreenAppear  5317814261427487562       1565212162     248   \n",
       "244110       OffersScreenAppear  5317814261427487562       1565212167     248   \n",
       "244115       OffersScreenAppear  5317814261427487562       1565212208     248   \n",
       "\n",
       "                        dt       date  exp_group_category  \n",
       "2844   2019-08-01 00:14:31 2019-08-01                   3  \n",
       "2845   2019-08-01 00:14:34 2019-08-01                   3  \n",
       "2846   2019-08-01 00:14:34 2019-08-01                   3  \n",
       "2847   2019-08-01 00:14:43 2019-08-01                   3  \n",
       "2848   2019-08-01 00:14:51 2019-08-01                   3  \n",
       "...                    ...        ...                 ...  \n",
       "244082 2019-08-07 21:03:33 2019-08-07                   3  \n",
       "244084 2019-08-07 21:03:43 2019-08-07                   3  \n",
       "244109 2019-08-07 21:09:22 2019-08-07                   3  \n",
       "244110 2019-08-07 21:09:27 2019-08-07                   3  \n",
       "244115 2019-08-07 21:10:08 2019-08-07                   3  \n",
       "\n",
       "[84726 rows x 7 columns]"
      ]
     },
     "metadata": {},
     "output_type": "display_data"
    }
   ],
   "source": [
    "#создаем таблицу с данными только для '248'\n",
    "group_248_only = filtered_logs.loc[filtered_logs['exp_id'] == 248]\n",
    "display(group_248_only)"
   ]
  },
  {
   "cell_type": "code",
   "execution_count": 60,
   "metadata": {},
   "outputs": [
    {
     "data": {
      "text/html": [
       "<div>\n",
       "<style scoped>\n",
       "    .dataframe tbody tr th:only-of-type {\n",
       "        vertical-align: middle;\n",
       "    }\n",
       "\n",
       "    .dataframe tbody tr th {\n",
       "        vertical-align: top;\n",
       "    }\n",
       "\n",
       "    .dataframe thead th {\n",
       "        text-align: right;\n",
       "    }\n",
       "</style>\n",
       "<table border=\"1\" class=\"dataframe\">\n",
       "  <thead>\n",
       "    <tr style=\"text-align: right;\">\n",
       "      <th></th>\n",
       "      <th>device_id</th>\n",
       "    </tr>\n",
       "    <tr>\n",
       "      <th>events</th>\n",
       "      <th></th>\n",
       "    </tr>\n",
       "  </thead>\n",
       "  <tbody>\n",
       "    <tr>\n",
       "      <th>MainScreenAppear</th>\n",
       "      <td>2493</td>\n",
       "    </tr>\n",
       "    <tr>\n",
       "      <th>OffersScreenAppear</th>\n",
       "      <td>1531</td>\n",
       "    </tr>\n",
       "    <tr>\n",
       "      <th>CartScreenAppear</th>\n",
       "      <td>1230</td>\n",
       "    </tr>\n",
       "    <tr>\n",
       "      <th>PaymentScreenSuccessful</th>\n",
       "      <td>1181</td>\n",
       "    </tr>\n",
       "    <tr>\n",
       "      <th>Tutorial</th>\n",
       "      <td>279</td>\n",
       "    </tr>\n",
       "  </tbody>\n",
       "</table>\n",
       "</div>"
      ],
      "text/plain": [
       "                         device_id\n",
       "events                            \n",
       "MainScreenAppear              2493\n",
       "OffersScreenAppear            1531\n",
       "CartScreenAppear              1230\n",
       "PaymentScreenSuccessful       1181\n",
       "Tutorial                       279"
      ]
     },
     "metadata": {},
     "output_type": "display_data"
    }
   ],
   "source": [
    "# Доля пользователей, дошедших от первого события до оплаты в группе 248\n",
    "\n",
    "users_count_248 = group_248_only.groupby('events').agg({'device_id': 'nunique'}).sort_values(by='device_id', ascending = False)\n",
    "display(users_count_248)\n",
    "\n",
    "a_248 = users_count_248.iloc[0] # Клиент открывает главную страницу\n",
    "b_248 = users_count_248.iloc[1] # Клиент заходит в страницу с каталогом продуктов питания\n",
    "c_248 = users_count_248.iloc[2] # Клиент кладет выбранный товар в корзину\n",
    "d_248 = users_count_248.iloc[3] # Клиент оплачивает выбранные товары в корзине\n",
    "\n",
    "#print('Доля пользователей гр. 246, дошедших от первого события до оплаты ', round(d_248/a_248*100,1).map(\"{:.1f}%\".format));"
   ]
  },
  {
   "cell_type": "code",
   "execution_count": 61,
   "metadata": {},
   "outputs": [
    {
     "data": {
      "text/html": [
       "<div>\n",
       "<style scoped>\n",
       "    .dataframe tbody tr th:only-of-type {\n",
       "        vertical-align: middle;\n",
       "    }\n",
       "\n",
       "    .dataframe tbody tr th {\n",
       "        vertical-align: top;\n",
       "    }\n",
       "\n",
       "    .dataframe thead th {\n",
       "        text-align: right;\n",
       "    }\n",
       "</style>\n",
       "<table border=\"1\" class=\"dataframe\">\n",
       "  <thead>\n",
       "    <tr style=\"text-align: right;\">\n",
       "      <th></th>\n",
       "      <th>device_id</th>\n",
       "    </tr>\n",
       "    <tr>\n",
       "      <th>events</th>\n",
       "      <th></th>\n",
       "    </tr>\n",
       "  </thead>\n",
       "  <tbody>\n",
       "    <tr>\n",
       "      <th>MainScreenAppear</th>\n",
       "      <td>4926</td>\n",
       "    </tr>\n",
       "    <tr>\n",
       "      <th>OffersScreenAppear</th>\n",
       "      <td>3062</td>\n",
       "    </tr>\n",
       "    <tr>\n",
       "      <th>CartScreenAppear</th>\n",
       "      <td>2504</td>\n",
       "    </tr>\n",
       "    <tr>\n",
       "      <th>PaymentScreenSuccessful</th>\n",
       "      <td>2358</td>\n",
       "    </tr>\n",
       "    <tr>\n",
       "      <th>Tutorial</th>\n",
       "      <td>561</td>\n",
       "    </tr>\n",
       "  </tbody>\n",
       "</table>\n",
       "</div>"
      ],
      "text/plain": [
       "                         device_id\n",
       "events                            \n",
       "MainScreenAppear              4926\n",
       "OffersScreenAppear            3062\n",
       "CartScreenAppear              2504\n",
       "PaymentScreenSuccessful       2358\n",
       "Tutorial                       561"
      ]
     },
     "metadata": {},
     "output_type": "display_data"
    },
    {
     "name": "stdout",
     "output_type": "stream",
     "text": [
      "Доля пользователей объединенной контрольной группы, дошедших от первого события до оплаты  device_id    47.9%\n",
      "dtype: object\n"
     ]
    }
   ],
   "source": [
    "# Объединённая контрольная группа - 246 и 247\n",
    "users_count_246_247 = group_246_247.groupby('events').agg({'device_id': 'nunique'}).sort_values(by='device_id', ascending = False)\n",
    "display(users_count_246_247)\n",
    "\n",
    "a_246_247 = users_count_246_247.iloc[0] # Клиент открывает главную страницу\n",
    "b_246_247 = users_count_246_247.iloc[1] # Клиент заходит в страницу с каталогом продуктов питания\n",
    "c_246_247 = users_count_246_247.iloc[2] # Клиент кладет выбранный товар в корзину\n",
    "d_246_247 = users_count_246_247.iloc[3] # Клиент оплачивает выбранные товары в корзине\n",
    "\n",
    "print('Доля пользователей объединенной контрольной группы, дошедших от первого события до оплаты ', round(d_246_247/a_246_247*100,1).map(\"{:.1f}%\".format));"
   ]
  },
  {
   "cell_type": "code",
   "execution_count": 62,
   "metadata": {},
   "outputs": [
    {
     "name": "stdout",
     "output_type": "stream",
     "text": [
      "Доля пользователей гр. {246} дошедших от первого события до {'OffersScreenAppear'} device_id    62.9%\n",
      "dtype: object\n",
      "Доля пользователей гр. {247} дошедших от первого события до {'OffersScreenAppear'} device_id    61.4%\n",
      "dtype: object\n",
      "Доля пользователей гр. {248} дошедших от первого события до {'OffersScreenAppear'} device_id    61.4%\n",
      "dtype: object\n"
     ]
    }
   ],
   "source": [
    "# Сравнение трех групп по событию 'OffersScreenAppear'- Клиент заходит в страницу с каталогом продуктов питания\n",
    "ev_2_246 = event_analysis(event_2, 246)\n",
    "ev_2_247 = event_analysis(event_2, 247)\n",
    "ev_2_248 = event_analysis(event_2, 248)"
   ]
  },
  {
   "cell_type": "code",
   "execution_count": 63,
   "metadata": {},
   "outputs": [
    {
     "name": "stdout",
     "output_type": "stream",
     "text": [
      "Доля пользователей гр. {246} дошедших от первого события до {'CartScreenAppear'} device_id    51.7%\n",
      "dtype: object\n",
      "Доля пользователей гр. {247} дошедших от первого события до {'CartScreenAppear'} device_id    50.0%\n",
      "dtype: object\n",
      "Доля пользователей гр. {248} дошедших от первого события до {'CartScreenAppear'} device_id    49.3%\n",
      "dtype: object\n"
     ]
    }
   ],
   "source": [
    "# Сравнение трех групп по событию 'CartScreenAppear' - Клиент кладет выбранный товар в корзину\n",
    "ev_3_246 = event_analysis(event_3, 246)\n",
    "ev_3_247 = event_analysis(event_3, 247)\n",
    "ev_3_248 = event_analysis(event_3, 248)"
   ]
  },
  {
   "cell_type": "code",
   "execution_count": 64,
   "metadata": {},
   "outputs": [
    {
     "name": "stdout",
     "output_type": "stream",
     "text": [
      "Доля пользователей гр. {246} дошедших от первого события до {'PaymentScreenSuccessful'} device_id    49.0%\n",
      "dtype: object\n",
      "Доля пользователей гр. {247} дошедших от первого события до {'PaymentScreenSuccessful'} device_id    46.8%\n",
      "dtype: object\n",
      "Доля пользователей гр. {248} дошедших от первого события до {'PaymentScreenSuccessful'} device_id    47.4%\n",
      "dtype: object\n"
     ]
    }
   ],
   "source": [
    "# Сравнение трех групп по событию PaymentScreenSuccessful' - Клиент оплачивает выбранные товары в корзине\n",
    "ev_4_246 = event_analysis(event_4, 246)\n",
    "ev_4_247 = event_analysis(event_4, 247)\n",
    "ev_4_248 = event_analysis(event_4, 248)"
   ]
  },
  {
   "cell_type": "markdown",
   "metadata": {},
   "source": [
    "Анализ трех групп показывает, что в экспериментальной группе номер 248 доля пользвателей совершивших покупку расположилась между группами 246 и 247.<br>\n",
    "В сравнении с объединенной контрольной группой разница 0.5%"
   ]
  },
  {
   "cell_type": "markdown",
   "metadata": {},
   "source": [
    "<b>Промежуточный вывод: экспериментальная группа не показала особой разницы от контрольных групп</b>"
   ]
  },
  {
   "cell_type": "code",
   "execution_count": 65,
   "metadata": {},
   "outputs": [],
   "source": [
    "# # Гипотезы для сравнения групп 246 и 247:\n",
    "# # Нулевая гипотеза (Н0) - Пользователи группы 246 и группы 247 совершают одинаковое среднее количество событий.\n",
    "# # Альтернативная гипотеза (Н1) - Среднее количество событий, совершаемых пользователями групп 246 и 247, разное.\n",
    "\n",
    "# alpha = 0.1\n",
    "\n",
    "# results = st.ttest_ind(users_count_246['device_id'], users_count_247['device_id'], alternative='greater')\n",
    "\n",
    "# print(f'p-value: {results.pvalue}')\n",
    "\n",
    "# if results.pvalue < alpha:\n",
    "#     print('Вывод: Отвергаем нулевую гипотезу')\n",
    "# else:\n",
    "#     print('Вывод: Нет оснований отвергнуть нулевую гипотезу')"
   ]
  },
  {
   "cell_type": "code",
   "execution_count": 66,
   "metadata": {},
   "outputs": [],
   "source": [
    "# # Гипотезы для сравнения групп 246 и 248:\n",
    "# # Нулевая гипотеза (Н0) - Пользователи группы 246 и группы 248 совершают одинаковое среднее количество событий.\n",
    "# # Альтернативная гипотеза (Н1) - Среднее количество событий, совершаемых пользователями групп 246 и 248, разное.\n",
    "\n",
    "# alpha = 0.1\n",
    "\n",
    "# results = st.ttest_ind(users_count_246['device_id'], users_count_248['device_id'], alternative='greater')\n",
    "\n",
    "# print(f'p-value: {results.pvalue}')\n",
    "\n",
    "# if results.pvalue < alpha:\n",
    "#     print('Вывод: Отвергаем нулевую гипотезу')\n",
    "# else:\n",
    "#     print('Вывод: Нет оснований отвергнуть нулевую гипотезу')"
   ]
  },
  {
   "cell_type": "code",
   "execution_count": 67,
   "metadata": {},
   "outputs": [],
   "source": [
    "# # Гипотезы для сравнения групп 247 и 248:\n",
    "# # Нулевая гипотеза (Н0) - Пользователи группы 247 и группы 248 совершают одинаковое среднее количество событий.\n",
    "# # Альтернативная гипотеза (Н1) - Среднее количество событий, совершаемых пользователями групп 247 и 248, разное.\n",
    "\n",
    "# alpha = 0.1\n",
    "\n",
    "# results = st.ttest_ind(users_count_247['device_id'], users_count_248['device_id'], alternative='greater')\n",
    "\n",
    "# print(f'p-value: {results.pvalue}')\n",
    "\n",
    "# if results.pvalue < alpha:\n",
    "#     print('Вывод: Отвергаем нулевую гипотезу')\n",
    "# else:\n",
    "#     print('Вывод: Нет оснований отвергнуть нулевую гипотезу')"
   ]
  },
  {
   "cell_type": "code",
   "execution_count": 68,
   "metadata": {},
   "outputs": [],
   "source": [
    "# # Гипотезы для сравнения групп 246 и 248:\n",
    "# # Нулевая гипотеза (Н0) - Пользователи группы 246 и группы 248 совершают одинаковое среднее количество событий.\n",
    "# # Альтернативная гипотеза (Н1) - Среднее количество событий, совершаемых пользователями групп 246 и 248, разное.\n",
    "\n",
    "# alpha = 0.05\n",
    "\n",
    "# results = st.ttest_ind(users_count_246['device_id'], users_count_248['device_id'], alternative='greater')\n",
    "\n",
    "# print(f'p-value: {results.pvalue}')\n",
    "\n",
    "# if results.pvalue < alpha:\n",
    "#     print('Вывод: Отвергаем нулевую гипотезу')\n",
    "# else:\n",
    "#     print('Вывод: Нет оснований отвергнуть нулевую гипотезу')"
   ]
  },
  {
   "cell_type": "code",
   "execution_count": 69,
   "metadata": {},
   "outputs": [],
   "source": [
    "# # Гипотезы для сравнения групп 247 и 248:\n",
    "# # Нулевая гипотеза (Н0) - Пользователи группы 247 и группы 248 совершают одинаковое среднее количество событий.\n",
    "# # Альтернативная гипотеза (Н1) - Среднее количество событий, совершаемых пользователями групп 247 и 248, разное.\n",
    "\n",
    "# alpha = 0.05\n",
    "\n",
    "# results = st.ttest_ind(users_count_247['device_id'], users_count_248['device_id'], alternative='greater')\n",
    "\n",
    "# print(f'p-value: {results.pvalue}')\n",
    "\n",
    "# if results.pvalue < alpha:\n",
    "#     print('Вывод: Отвергаем нулевую гипотезу')\n",
    "# else:\n",
    "#     print('Вывод: Нет оснований отвергнуть нулевую гипотезу')"
   ]
  },
  {
   "cell_type": "code",
   "execution_count": 70,
   "metadata": {},
   "outputs": [],
   "source": [
    "# # Гипотезы для сравнения объединенных групп 247/247 и экспериментальной группы 248:\n",
    "# # Нулевая гипотеза (Н0) - Пользователи групп 247/247 и группы 248 совершают одинаковое среднее количество событий.\n",
    "# # Альтернативная гипотеза (Н1) - Среднее количество событий, совершаемых пользователями групп 246247 и гр.248, разное.\n",
    "\n",
    "# alpha = 0.05\n",
    "\n",
    "# results = st.ttest_ind(users_count_246_247['device_id'], users_count_248['device_id'], alternative='greater')\n",
    "\n",
    "# print(f'p-value: {results.pvalue}')\n",
    "\n",
    "# if results.pvalue < alpha:\n",
    "#     print('Вывод: Отвергаем нулевую гипотезу')\n",
    "# else:\n",
    "#     print('Вывод: Нет оснований отвергнуть нулевую гипотезу')"
   ]
  },
  {
   "cell_type": "code",
   "execution_count": 71,
   "metadata": {},
   "outputs": [],
   "source": [
    "# # Гипотезы для сравнения объединенных групп 247/247 и экспериментальной группы 248:\n",
    "# # Нулевая гипотеза (Н0) - Пользователи групп 247/247 и группы 248 совершают одинаковое среднее количество событий.\n",
    "# # Альтернативная гипотеза (Н1) - Среднее количество событий, совершаемых пользователями групп 246247 и гр.248, разное.\n",
    "\n",
    "# alpha = 0.1\n",
    "\n",
    "# results = st.ttest_ind(users_count_246_247['device_id'], users_count_248['device_id'], alternative='greater')\n",
    "\n",
    "# print(f'p-value: {results.pvalue}')\n",
    "\n",
    "# if results.pvalue < alpha:\n",
    "#     print('Вывод: Отвергаем нулевую гипотезу')\n",
    "# else:\n",
    "#     print('Вывод: Нет оснований отвергнуть нулевую гипотезу')"
   ]
  },
  {
   "cell_type": "markdown",
   "metadata": {},
   "source": [
    "<b>Только в одном случае отвергаем Нулевую гипотеза (Н0) о том, что Пользователи объединенной контрольной группы 246/247 и экспериментальной группы 248 совершают одинаковое среднее количество событий: при статистической значимости 0.1. <br>\n",
    "Во всех остальных случаях и параметрах анализ показывает, что все группы совершают одинаковое среднее количество событий. </b>"
   ]
  },
  {
   "cell_type": "markdown",
   "metadata": {},
   "source": [
    "<b>Общие выводы: </b><p></p>\n",
    "- В ходе анализа изучили и проверили предоставленные данные по пользователям трех групп и событиям, совершенными ими.\n",
    "- Изучили воронки продаж, сколько пользователей проходят на каждом этапе событий.\n",
    "- По всем трем группам конверсия составила почти 50%.\n",
    "- Результаты эксперимента не выявили статистической разницы в среднем количестве совершения событий по каждой группе при статистической значимости 0.05.\n",
    "- Только в одном случае - при статистической значимости 0.1 - пользователи объединенной контрольной группы 246/247 и экспериментальной группы 248 совершают разное среднее количество событий.\n",
    "- Так как мы анализировали только временной отрезок в одну неделю, рекомендую отделу Маркетинга продолжить эксперимент. Это не требует больших финансовых затрат, можно также добавить еще недорогого функционала в приложение и продлить наблюдение до 2-х месяцев."
   ]
  },
  {
   "cell_type": "markdown",
   "metadata": {},
   "source": [
    "<div class=\"alert alert-info\"> <b>Комментарий студента:</b> <p></p>\n",
    "Исправления/дополнения в общих выводах:<br/><p></p>\n",
    "- Ни одна проверка гипотез не выявила значимой разницы в долях пользователей совершивших событие.\n",
    "\n",
    "</div>\n"
   ]
  },
  {
   "cell_type": "markdown",
   "metadata": {},
   "source": [
    "<div style=\"border:solid Chocolate 2px; padding: 40px\">\n",
    "\n",
    "# Общий вывод ревьюера по проекту\n",
    "\n",
    "<div class=\"alert alert-success\">\n",
    "\n",
    "Проделана хорошая работа. Код написан чисто, соблюдена структура проекта и написаны выводы. Есть несколько замечаний, исправь их и проект будет принят.\n",
    "\n",
    "- по ссылкам ниже ты найдешь интересные материалы по А/В тестам\n",
    "  \n",
    "    \n",
    "https://habr.com/ru/company/avito/blog/571094/\n",
    "\n",
    "https://habr.com/ru/company/yandex/blog/476826/\n",
    "\n",
    "https://academy.yandex.ru/journal/kak-provesti-a-b-testirovanie-6-prostykh-shagov\n",
    "\n",
    "https://habr.com/ru/company/yandex/blog/342704/\n",
    "\n",
    "https://r-analytics.blogspot.com/2013/10/blog-post_13.html \n",
    "\n",
    "</div>\n",
    "\n",
    "</div>\n"
   ]
  },
  {
   "cell_type": "code",
   "execution_count": null,
   "metadata": {},
   "outputs": [],
   "source": []
  }
 ],
 "metadata": {
  "ExecuteTimeLog": [
   {
    "duration": 1548,
    "start_time": "2024-03-21T06:24:18.785Z"
   },
   {
    "duration": 882,
    "start_time": "2024-03-21T06:26:25.549Z"
   },
   {
    "duration": 333,
    "start_time": "2024-03-21T06:35:22.975Z"
   },
   {
    "duration": 327,
    "start_time": "2024-03-21T06:35:32.353Z"
   },
   {
    "duration": 195,
    "start_time": "2024-03-21T06:37:20.508Z"
   },
   {
    "duration": 14,
    "start_time": "2024-03-21T06:41:21.128Z"
   },
   {
    "duration": 13,
    "start_time": "2024-03-21T06:41:58.823Z"
   },
   {
    "duration": 17,
    "start_time": "2024-03-21T06:42:05.266Z"
   },
   {
    "duration": 4,
    "start_time": "2024-03-21T06:43:07.517Z"
   },
   {
    "duration": 196,
    "start_time": "2024-03-21T06:43:07.944Z"
   },
   {
    "duration": 14,
    "start_time": "2024-03-21T06:43:09.413Z"
   },
   {
    "duration": 11,
    "start_time": "2024-03-21T06:43:35.574Z"
   },
   {
    "duration": 24,
    "start_time": "2024-03-21T06:44:00.718Z"
   },
   {
    "duration": 20,
    "start_time": "2024-03-21T06:50:24.086Z"
   },
   {
    "duration": 64,
    "start_time": "2024-03-21T06:51:07.801Z"
   },
   {
    "duration": 75,
    "start_time": "2024-03-21T06:53:37.213Z"
   },
   {
    "duration": 16,
    "start_time": "2024-03-21T07:14:50.663Z"
   },
   {
    "duration": 3,
    "start_time": "2024-03-21T07:16:15.815Z"
   },
   {
    "duration": 3,
    "start_time": "2024-03-21T07:16:20.928Z"
   },
   {
    "duration": 110,
    "start_time": "2024-03-21T07:25:20.475Z"
   },
   {
    "duration": 1567,
    "start_time": "2024-03-21T07:25:31.797Z"
   },
   {
    "duration": 129,
    "start_time": "2024-03-21T07:25:54.292Z"
   },
   {
    "duration": 121,
    "start_time": "2024-03-21T07:26:27.023Z"
   },
   {
    "duration": 25,
    "start_time": "2024-03-21T07:32:32.042Z"
   },
   {
    "duration": 4,
    "start_time": "2024-03-21T07:37:00.529Z"
   },
   {
    "duration": 1641,
    "start_time": "2024-03-21T07:37:00.535Z"
   },
   {
    "duration": 25,
    "start_time": "2024-03-21T07:37:02.178Z"
   },
   {
    "duration": 67,
    "start_time": "2024-03-21T07:37:02.205Z"
   },
   {
    "duration": 36,
    "start_time": "2024-03-21T07:37:02.274Z"
   },
   {
    "duration": 43,
    "start_time": "2024-03-21T07:37:02.312Z"
   },
   {
    "duration": 36,
    "start_time": "2024-03-21T07:37:02.358Z"
   },
   {
    "duration": 1292,
    "start_time": "2024-03-21T07:37:17.516Z"
   },
   {
    "duration": 201,
    "start_time": "2024-03-21T07:37:18.811Z"
   },
   {
    "duration": 16,
    "start_time": "2024-03-21T07:37:19.013Z"
   },
   {
    "duration": 29,
    "start_time": "2024-03-21T07:37:19.030Z"
   },
   {
    "duration": 31,
    "start_time": "2024-03-21T07:37:19.061Z"
   },
   {
    "duration": 2,
    "start_time": "2024-03-21T07:37:19.094Z"
   },
   {
    "duration": 18,
    "start_time": "2024-03-21T07:37:19.098Z"
   },
   {
    "duration": 7,
    "start_time": "2024-03-21T07:37:19.117Z"
   },
   {
    "duration": 12,
    "start_time": "2024-03-21T07:37:19.125Z"
   },
   {
    "duration": 1699,
    "start_time": "2024-03-21T07:37:19.138Z"
   },
   {
    "duration": 120,
    "start_time": "2024-03-21T07:37:39.806Z"
   },
   {
    "duration": 9,
    "start_time": "2024-03-21T07:37:53.568Z"
   },
   {
    "duration": 1280,
    "start_time": "2024-03-21T07:39:05.924Z"
   },
   {
    "duration": 219,
    "start_time": "2024-03-21T07:39:07.206Z"
   },
   {
    "duration": 15,
    "start_time": "2024-03-21T07:39:07.427Z"
   },
   {
    "duration": 25,
    "start_time": "2024-03-21T07:39:07.444Z"
   },
   {
    "duration": 30,
    "start_time": "2024-03-21T07:39:07.471Z"
   },
   {
    "duration": 2,
    "start_time": "2024-03-21T07:39:07.503Z"
   },
   {
    "duration": 4,
    "start_time": "2024-03-21T07:39:07.507Z"
   },
   {
    "duration": 12,
    "start_time": "2024-03-21T07:39:07.513Z"
   },
   {
    "duration": 6,
    "start_time": "2024-03-21T07:39:07.526Z"
   },
   {
    "duration": 134,
    "start_time": "2024-03-21T07:39:07.534Z"
   },
   {
    "duration": 0,
    "start_time": "2024-03-21T07:39:07.669Z"
   },
   {
    "duration": 1309,
    "start_time": "2024-03-21T07:40:25.773Z"
   },
   {
    "duration": 201,
    "start_time": "2024-03-21T07:40:27.084Z"
   },
   {
    "duration": 26,
    "start_time": "2024-03-21T07:40:27.287Z"
   },
   {
    "duration": 38,
    "start_time": "2024-03-21T07:40:27.315Z"
   },
   {
    "duration": 38,
    "start_time": "2024-03-21T07:40:27.357Z"
   },
   {
    "duration": 3,
    "start_time": "2024-03-21T07:40:27.397Z"
   },
   {
    "duration": 60,
    "start_time": "2024-03-21T07:40:27.402Z"
   },
   {
    "duration": 156,
    "start_time": "2024-03-21T07:40:27.463Z"
   },
   {
    "duration": 3,
    "start_time": "2024-03-21T07:40:27.621Z"
   },
   {
    "duration": 111,
    "start_time": "2024-03-21T07:40:27.625Z"
   },
   {
    "duration": 0,
    "start_time": "2024-03-21T07:40:27.738Z"
   },
   {
    "duration": 1265,
    "start_time": "2024-03-21T07:41:11.190Z"
   },
   {
    "duration": 193,
    "start_time": "2024-03-21T07:41:12.457Z"
   },
   {
    "duration": 14,
    "start_time": "2024-03-21T07:41:12.652Z"
   },
   {
    "duration": 37,
    "start_time": "2024-03-21T07:41:12.668Z"
   },
   {
    "duration": 17,
    "start_time": "2024-03-21T07:41:12.707Z"
   },
   {
    "duration": 3,
    "start_time": "2024-03-21T07:41:12.726Z"
   },
   {
    "duration": 16,
    "start_time": "2024-03-21T07:41:12.731Z"
   },
   {
    "duration": 129,
    "start_time": "2024-03-21T07:41:12.749Z"
   },
   {
    "duration": 2,
    "start_time": "2024-03-21T07:41:12.880Z"
   },
   {
    "duration": 5,
    "start_time": "2024-03-21T07:41:12.891Z"
   },
   {
    "duration": 9,
    "start_time": "2024-03-21T07:41:12.898Z"
   },
   {
    "duration": 1240,
    "start_time": "2024-03-21T07:41:55.539Z"
   },
   {
    "duration": 199,
    "start_time": "2024-03-21T07:41:56.781Z"
   },
   {
    "duration": 15,
    "start_time": "2024-03-21T07:41:56.982Z"
   },
   {
    "duration": 32,
    "start_time": "2024-03-21T07:41:56.999Z"
   },
   {
    "duration": 26,
    "start_time": "2024-03-21T07:41:57.033Z"
   },
   {
    "duration": 3,
    "start_time": "2024-03-21T07:41:57.062Z"
   },
   {
    "duration": 40,
    "start_time": "2024-03-21T07:41:57.066Z"
   },
   {
    "duration": 19,
    "start_time": "2024-03-21T07:41:57.108Z"
   },
   {
    "duration": 7,
    "start_time": "2024-03-21T07:41:57.129Z"
   },
   {
    "duration": 183,
    "start_time": "2024-03-21T07:41:57.138Z"
   },
   {
    "duration": 9,
    "start_time": "2024-03-21T07:41:57.323Z"
   },
   {
    "duration": 122,
    "start_time": "2024-03-21T07:59:40.839Z"
   },
   {
    "duration": 8,
    "start_time": "2024-03-21T07:59:41.513Z"
   },
   {
    "duration": 135,
    "start_time": "2024-03-21T07:59:52.872Z"
   },
   {
    "duration": 2,
    "start_time": "2024-03-21T08:00:29.064Z"
   },
   {
    "duration": 166,
    "start_time": "2024-03-21T08:04:12.253Z"
   },
   {
    "duration": 152,
    "start_time": "2024-03-21T08:04:22.717Z"
   },
   {
    "duration": 852,
    "start_time": "2024-03-21T08:13:58.208Z"
   },
   {
    "duration": 56,
    "start_time": "2024-03-21T08:14:17.651Z"
   },
   {
    "duration": 49,
    "start_time": "2024-03-21T08:16:24.360Z"
   },
   {
    "duration": 12,
    "start_time": "2024-03-21T08:19:20.369Z"
   },
   {
    "duration": 18,
    "start_time": "2024-03-21T08:20:03.624Z"
   },
   {
    "duration": 21,
    "start_time": "2024-03-21T08:20:55.753Z"
   },
   {
    "duration": 1255,
    "start_time": "2024-03-21T08:27:01.945Z"
   },
   {
    "duration": 201,
    "start_time": "2024-03-21T08:27:03.202Z"
   },
   {
    "duration": 14,
    "start_time": "2024-03-21T08:27:03.405Z"
   },
   {
    "duration": 31,
    "start_time": "2024-03-21T08:27:03.421Z"
   },
   {
    "duration": 18,
    "start_time": "2024-03-21T08:27:03.454Z"
   },
   {
    "duration": 19,
    "start_time": "2024-03-21T08:27:03.474Z"
   },
   {
    "duration": 28,
    "start_time": "2024-03-21T08:27:03.495Z"
   },
   {
    "duration": 111,
    "start_time": "2024-03-21T08:30:09.161Z"
   },
   {
    "duration": 42,
    "start_time": "2024-03-21T08:40:18.505Z"
   },
   {
    "duration": 6,
    "start_time": "2024-03-21T08:41:41.253Z"
   },
   {
    "duration": 125,
    "start_time": "2024-03-21T08:41:58.683Z"
   },
   {
    "duration": 20,
    "start_time": "2024-03-21T08:42:06.355Z"
   },
   {
    "duration": 20,
    "start_time": "2024-03-21T08:42:14.339Z"
   },
   {
    "duration": 25,
    "start_time": "2024-03-21T10:27:28.048Z"
   },
   {
    "duration": 16,
    "start_time": "2024-03-21T10:27:42.372Z"
   },
   {
    "duration": 17,
    "start_time": "2024-03-21T10:28:08.271Z"
   },
   {
    "duration": 20,
    "start_time": "2024-03-21T10:28:42.326Z"
   },
   {
    "duration": 27,
    "start_time": "2024-03-21T10:29:12.388Z"
   },
   {
    "duration": 28,
    "start_time": "2024-03-21T10:29:52.907Z"
   },
   {
    "duration": 1254,
    "start_time": "2024-03-21T10:31:48.323Z"
   },
   {
    "duration": 211,
    "start_time": "2024-03-21T10:31:49.579Z"
   },
   {
    "duration": 17,
    "start_time": "2024-03-21T10:31:49.792Z"
   },
   {
    "duration": 57,
    "start_time": "2024-03-21T10:31:49.810Z"
   },
   {
    "duration": 31,
    "start_time": "2024-03-21T10:31:49.869Z"
   },
   {
    "duration": 30,
    "start_time": "2024-03-21T10:31:49.902Z"
   },
   {
    "duration": 133,
    "start_time": "2024-03-21T10:31:49.934Z"
   },
   {
    "duration": 28,
    "start_time": "2024-03-21T10:31:50.069Z"
   },
   {
    "duration": 134,
    "start_time": "2024-03-21T10:31:50.099Z"
   },
   {
    "duration": 122,
    "start_time": "2024-03-21T10:32:08.706Z"
   },
   {
    "duration": 1330,
    "start_time": "2024-03-21T10:32:28.779Z"
   },
   {
    "duration": 202,
    "start_time": "2024-03-21T10:32:30.111Z"
   },
   {
    "duration": 15,
    "start_time": "2024-03-21T10:32:30.315Z"
   },
   {
    "duration": 67,
    "start_time": "2024-03-21T10:32:30.332Z"
   },
   {
    "duration": 31,
    "start_time": "2024-03-21T10:32:30.401Z"
   },
   {
    "duration": 238,
    "start_time": "2024-03-21T10:32:30.434Z"
   },
   {
    "duration": 243,
    "start_time": "2024-03-21T10:32:30.674Z"
   },
   {
    "duration": 21,
    "start_time": "2024-03-21T10:32:30.918Z"
   },
   {
    "duration": 91,
    "start_time": "2024-03-21T10:32:30.941Z"
   },
   {
    "duration": 1275,
    "start_time": "2024-03-21T10:32:48.518Z"
   },
   {
    "duration": 210,
    "start_time": "2024-03-21T10:32:49.796Z"
   },
   {
    "duration": 19,
    "start_time": "2024-03-21T10:32:50.008Z"
   },
   {
    "duration": 50,
    "start_time": "2024-03-21T10:32:50.029Z"
   },
   {
    "duration": 29,
    "start_time": "2024-03-21T10:32:50.081Z"
   },
   {
    "duration": 34,
    "start_time": "2024-03-21T10:32:50.112Z"
   },
   {
    "duration": 141,
    "start_time": "2024-03-21T10:32:50.148Z"
   },
   {
    "duration": 21,
    "start_time": "2024-03-21T10:32:50.291Z"
   },
   {
    "duration": 36,
    "start_time": "2024-03-21T10:32:50.314Z"
   },
   {
    "duration": 1289,
    "start_time": "2024-03-21T10:33:15.024Z"
   },
   {
    "duration": 232,
    "start_time": "2024-03-21T10:33:16.315Z"
   },
   {
    "duration": 17,
    "start_time": "2024-03-21T10:33:16.548Z"
   },
   {
    "duration": 46,
    "start_time": "2024-03-21T10:33:16.567Z"
   },
   {
    "duration": 31,
    "start_time": "2024-03-21T10:33:16.615Z"
   },
   {
    "duration": 18,
    "start_time": "2024-03-21T10:33:16.648Z"
   },
   {
    "duration": 130,
    "start_time": "2024-03-21T10:33:16.668Z"
   },
   {
    "duration": 22,
    "start_time": "2024-03-21T10:33:16.799Z"
   },
   {
    "duration": 160,
    "start_time": "2024-03-21T10:33:16.823Z"
   },
   {
    "duration": 7,
    "start_time": "2024-03-21T10:37:07.281Z"
   },
   {
    "duration": 5,
    "start_time": "2024-03-21T10:38:22.221Z"
   },
   {
    "duration": 6,
    "start_time": "2024-03-21T10:38:32.500Z"
   },
   {
    "duration": 17,
    "start_time": "2024-03-21T10:40:49.647Z"
   },
   {
    "duration": 13,
    "start_time": "2024-03-21T10:42:18.118Z"
   },
   {
    "duration": 8,
    "start_time": "2024-03-21T10:42:39.780Z"
   },
   {
    "duration": 51,
    "start_time": "2024-03-21T10:45:05.013Z"
   },
   {
    "duration": 53,
    "start_time": "2024-03-21T10:45:41.076Z"
   },
   {
    "duration": 6,
    "start_time": "2024-03-21T10:46:22.008Z"
   },
   {
    "duration": 0,
    "start_time": "2024-03-21T10:49:58.221Z"
   },
   {
    "duration": 21,
    "start_time": "2024-03-21T10:50:08.897Z"
   },
   {
    "duration": 16,
    "start_time": "2024-03-21T10:51:19.227Z"
   },
   {
    "duration": 20,
    "start_time": "2024-03-21T10:51:43.485Z"
   },
   {
    "duration": 20,
    "start_time": "2024-03-21T10:52:18.872Z"
   },
   {
    "duration": 20,
    "start_time": "2024-03-21T10:53:43.260Z"
   },
   {
    "duration": 19,
    "start_time": "2024-03-21T10:55:30.452Z"
   },
   {
    "duration": 18,
    "start_time": "2024-03-21T10:56:03.403Z"
   },
   {
    "duration": 19,
    "start_time": "2024-03-21T10:56:56.234Z"
   },
   {
    "duration": 19,
    "start_time": "2024-03-21T10:57:02.557Z"
   },
   {
    "duration": 8,
    "start_time": "2024-03-21T11:39:03.759Z"
   },
   {
    "duration": 400,
    "start_time": "2024-03-21T11:58:25.084Z"
   },
   {
    "duration": 289,
    "start_time": "2024-03-21T11:59:43.007Z"
   },
   {
    "duration": 301,
    "start_time": "2024-03-21T12:00:30.559Z"
   },
   {
    "duration": 337,
    "start_time": "2024-03-21T12:02:09.797Z"
   },
   {
    "duration": 1097,
    "start_time": "2024-03-21T12:02:40.795Z"
   },
   {
    "duration": 313,
    "start_time": "2024-03-21T12:02:56.125Z"
   },
   {
    "duration": 238,
    "start_time": "2024-03-21T12:03:22.932Z"
   },
   {
    "duration": 406,
    "start_time": "2024-03-21T12:03:34.562Z"
   },
   {
    "duration": 333,
    "start_time": "2024-03-21T12:06:39.803Z"
   },
   {
    "duration": 339,
    "start_time": "2024-03-21T12:07:07.728Z"
   },
   {
    "duration": 317,
    "start_time": "2024-03-21T12:07:29.407Z"
   },
   {
    "duration": 315,
    "start_time": "2024-03-21T12:08:14.151Z"
   },
   {
    "duration": 296,
    "start_time": "2024-03-21T12:08:26.649Z"
   },
   {
    "duration": 340,
    "start_time": "2024-03-21T12:08:47.514Z"
   },
   {
    "duration": 308,
    "start_time": "2024-03-21T12:09:15.213Z"
   },
   {
    "duration": 326,
    "start_time": "2024-03-21T12:09:21.524Z"
   },
   {
    "duration": 35,
    "start_time": "2024-03-21T12:17:14.194Z"
   },
   {
    "duration": 80,
    "start_time": "2024-03-21T12:17:33.404Z"
   },
   {
    "duration": 68,
    "start_time": "2024-03-21T12:18:00.676Z"
   },
   {
    "duration": 58,
    "start_time": "2024-03-21T12:18:13.670Z"
   },
   {
    "duration": 73,
    "start_time": "2024-03-21T12:19:17.691Z"
   },
   {
    "duration": 1734,
    "start_time": "2024-03-21T12:22:03.863Z"
   },
   {
    "duration": 66,
    "start_time": "2024-03-21T12:26:38.507Z"
   },
   {
    "duration": 57,
    "start_time": "2024-03-21T12:29:29.391Z"
   },
   {
    "duration": 977,
    "start_time": "2024-03-21T12:30:32.765Z"
   },
   {
    "duration": 57,
    "start_time": "2024-03-21T12:30:46.406Z"
   },
   {
    "duration": 23,
    "start_time": "2024-03-21T12:30:53.656Z"
   },
   {
    "duration": 63,
    "start_time": "2024-03-21T12:31:03.514Z"
   },
   {
    "duration": 66,
    "start_time": "2024-03-21T12:31:35.179Z"
   },
   {
    "duration": 55,
    "start_time": "2024-03-21T12:33:51.684Z"
   },
   {
    "duration": 56,
    "start_time": "2024-03-21T12:34:02.482Z"
   },
   {
    "duration": 19,
    "start_time": "2024-03-21T13:18:18.639Z"
   },
   {
    "duration": 14,
    "start_time": "2024-03-21T13:20:33.577Z"
   },
   {
    "duration": 21,
    "start_time": "2024-03-21T13:22:45.788Z"
   },
   {
    "duration": 98,
    "start_time": "2024-03-21T13:23:02.347Z"
   },
   {
    "duration": 73,
    "start_time": "2024-03-21T13:29:26.335Z"
   },
   {
    "duration": 78,
    "start_time": "2024-03-21T13:30:29.808Z"
   },
   {
    "duration": 397,
    "start_time": "2024-03-21T13:33:06.236Z"
   },
   {
    "duration": 592,
    "start_time": "2024-03-21T13:33:51.991Z"
   },
   {
    "duration": 330,
    "start_time": "2024-03-21T13:34:51.518Z"
   },
   {
    "duration": 366,
    "start_time": "2024-03-21T13:35:37.811Z"
   },
   {
    "duration": 480,
    "start_time": "2024-03-21T13:35:55.039Z"
   },
   {
    "duration": 379,
    "start_time": "2024-03-21T13:36:21.856Z"
   },
   {
    "duration": 377,
    "start_time": "2024-03-21T13:36:41.973Z"
   },
   {
    "duration": 465,
    "start_time": "2024-03-21T13:38:25.331Z"
   },
   {
    "duration": 368,
    "start_time": "2024-03-21T13:46:37.631Z"
   },
   {
    "duration": 1197,
    "start_time": "2024-03-21T14:01:23.435Z"
   },
   {
    "duration": 510,
    "start_time": "2024-03-21T14:03:51.643Z"
   },
   {
    "duration": 11,
    "start_time": "2024-03-21T14:06:04.842Z"
   },
   {
    "duration": 14,
    "start_time": "2024-03-21T14:06:31.497Z"
   },
   {
    "duration": 411,
    "start_time": "2024-03-21T14:10:52.988Z"
   },
   {
    "duration": 12,
    "start_time": "2024-03-21T14:11:16.466Z"
   },
   {
    "duration": 389,
    "start_time": "2024-03-21T14:11:55.525Z"
   },
   {
    "duration": 34,
    "start_time": "2024-03-21T14:19:21.237Z"
   },
   {
    "duration": 441,
    "start_time": "2024-03-21T14:20:22.446Z"
   },
   {
    "duration": 100,
    "start_time": "2024-03-21T14:20:51.217Z"
   },
   {
    "duration": 406,
    "start_time": "2024-03-21T14:21:00.333Z"
   },
   {
    "duration": 42,
    "start_time": "2024-03-21T14:22:20.205Z"
   },
   {
    "duration": 41,
    "start_time": "2024-03-21T14:22:31.975Z"
   },
   {
    "duration": 43,
    "start_time": "2024-03-21T14:22:50.663Z"
   },
   {
    "duration": 42,
    "start_time": "2024-03-21T14:23:29.793Z"
   },
   {
    "duration": 4,
    "start_time": "2024-03-21T14:23:40.928Z"
   },
   {
    "duration": 42,
    "start_time": "2024-03-21T14:23:58.608Z"
   },
   {
    "duration": 39,
    "start_time": "2024-03-21T14:24:12.327Z"
   },
   {
    "duration": 41,
    "start_time": "2024-03-21T14:28:11.648Z"
   },
   {
    "duration": 12,
    "start_time": "2024-03-21T14:28:35.362Z"
   },
   {
    "duration": 21,
    "start_time": "2024-03-21T14:40:11.702Z"
   },
   {
    "duration": 112,
    "start_time": "2024-03-21T14:44:22.117Z"
   },
   {
    "duration": 464,
    "start_time": "2024-03-21T14:44:37.477Z"
   },
   {
    "duration": 36,
    "start_time": "2024-03-21T14:45:29.540Z"
   },
   {
    "duration": 17,
    "start_time": "2024-03-21T14:49:40.518Z"
   },
   {
    "duration": 16,
    "start_time": "2024-03-21T14:49:48.341Z"
   },
   {
    "duration": 32,
    "start_time": "2024-03-21T14:49:55.251Z"
   },
   {
    "duration": 137,
    "start_time": "2024-03-21T14:50:37.927Z"
   },
   {
    "duration": 161,
    "start_time": "2024-03-21T14:50:47.243Z"
   },
   {
    "duration": 28,
    "start_time": "2024-03-21T14:50:49.890Z"
   },
   {
    "duration": 1320,
    "start_time": "2024-03-21T14:52:03.252Z"
   },
   {
    "duration": 214,
    "start_time": "2024-03-21T14:52:04.575Z"
   },
   {
    "duration": 16,
    "start_time": "2024-03-21T14:52:04.791Z"
   },
   {
    "duration": 27,
    "start_time": "2024-03-21T14:52:04.809Z"
   },
   {
    "duration": 18,
    "start_time": "2024-03-21T14:52:04.839Z"
   },
   {
    "duration": 33,
    "start_time": "2024-03-21T14:52:04.859Z"
   },
   {
    "duration": 165,
    "start_time": "2024-03-21T14:52:04.894Z"
   },
   {
    "duration": 24,
    "start_time": "2024-03-21T14:52:05.061Z"
   },
   {
    "duration": 1757,
    "start_time": "2024-03-21T14:52:05.091Z"
   },
   {
    "duration": 0,
    "start_time": "2024-03-21T14:52:06.850Z"
   },
   {
    "duration": 0,
    "start_time": "2024-03-21T14:52:06.851Z"
   },
   {
    "duration": 0,
    "start_time": "2024-03-21T14:52:06.853Z"
   },
   {
    "duration": 0,
    "start_time": "2024-03-21T14:52:06.854Z"
   },
   {
    "duration": 0,
    "start_time": "2024-03-21T14:52:06.855Z"
   },
   {
    "duration": 0,
    "start_time": "2024-03-21T14:52:06.856Z"
   },
   {
    "duration": 0,
    "start_time": "2024-03-21T14:52:06.857Z"
   },
   {
    "duration": 0,
    "start_time": "2024-03-21T14:52:06.858Z"
   },
   {
    "duration": 0,
    "start_time": "2024-03-21T14:52:06.860Z"
   },
   {
    "duration": 0,
    "start_time": "2024-03-21T14:52:06.861Z"
   },
   {
    "duration": 0,
    "start_time": "2024-03-21T14:52:06.862Z"
   },
   {
    "duration": 0,
    "start_time": "2024-03-21T14:52:06.863Z"
   },
   {
    "duration": 63,
    "start_time": "2024-03-21T14:54:13.991Z"
   },
   {
    "duration": 6,
    "start_time": "2024-03-21T14:54:29.662Z"
   },
   {
    "duration": 60,
    "start_time": "2024-03-21T14:54:29.670Z"
   },
   {
    "duration": 6,
    "start_time": "2024-03-21T14:54:29.732Z"
   },
   {
    "duration": 455,
    "start_time": "2024-03-21T14:54:29.740Z"
   },
   {
    "duration": 324,
    "start_time": "2024-03-21T14:54:30.198Z"
   },
   {
    "duration": 31,
    "start_time": "2024-03-21T14:54:30.524Z"
   },
   {
    "duration": 473,
    "start_time": "2024-03-21T14:54:30.557Z"
   },
   {
    "duration": 0,
    "start_time": "2024-03-21T14:54:31.032Z"
   },
   {
    "duration": 0,
    "start_time": "2024-03-21T14:54:31.033Z"
   },
   {
    "duration": 0,
    "start_time": "2024-03-21T14:54:31.034Z"
   },
   {
    "duration": 0,
    "start_time": "2024-03-21T14:54:31.036Z"
   },
   {
    "duration": 0,
    "start_time": "2024-03-21T14:54:31.037Z"
   },
   {
    "duration": 2,
    "start_time": "2024-03-21T14:54:47.062Z"
   },
   {
    "duration": 13,
    "start_time": "2024-03-21T14:54:47.740Z"
   },
   {
    "duration": 36,
    "start_time": "2024-03-21T14:54:48.936Z"
   },
   {
    "duration": 29,
    "start_time": "2024-03-21T14:55:17.577Z"
   },
   {
    "duration": 29,
    "start_time": "2024-03-21T14:55:39.346Z"
   },
   {
    "duration": 25,
    "start_time": "2024-03-21T14:55:57.200Z"
   },
   {
    "duration": 366,
    "start_time": "2024-03-21T14:56:54.504Z"
   },
   {
    "duration": 13,
    "start_time": "2024-03-21T14:57:11.090Z"
   },
   {
    "duration": 24,
    "start_time": "2024-03-21T14:59:44.815Z"
   },
   {
    "duration": 309,
    "start_time": "2024-03-21T14:59:56.891Z"
   },
   {
    "duration": 12,
    "start_time": "2024-03-21T15:01:33.150Z"
   },
   {
    "duration": 25,
    "start_time": "2024-03-21T15:01:42.855Z"
   },
   {
    "duration": 319,
    "start_time": "2024-03-21T15:01:43.879Z"
   },
   {
    "duration": 12,
    "start_time": "2024-03-21T15:01:57.667Z"
   },
   {
    "duration": 324,
    "start_time": "2024-03-21T15:02:13.188Z"
   },
   {
    "duration": 391,
    "start_time": "2024-03-21T15:02:46.554Z"
   },
   {
    "duration": 335,
    "start_time": "2024-03-21T15:03:01.976Z"
   },
   {
    "duration": 467,
    "start_time": "2024-03-21T15:03:19.117Z"
   },
   {
    "duration": 368,
    "start_time": "2024-03-21T15:03:31.811Z"
   },
   {
    "duration": 15,
    "start_time": "2024-03-21T15:04:41.472Z"
   },
   {
    "duration": 24,
    "start_time": "2024-03-21T15:05:40.748Z"
   },
   {
    "duration": 285,
    "start_time": "2024-03-21T15:05:47.225Z"
   },
   {
    "duration": 22,
    "start_time": "2024-03-21T15:05:53.927Z"
   },
   {
    "duration": 21,
    "start_time": "2024-03-21T15:07:44.804Z"
   },
   {
    "duration": 21,
    "start_time": "2024-03-21T15:08:13.035Z"
   },
   {
    "duration": 1463,
    "start_time": "2024-03-23T12:08:05.524Z"
   },
   {
    "duration": 346,
    "start_time": "2024-03-23T12:08:06.989Z"
   },
   {
    "duration": 14,
    "start_time": "2024-03-23T12:08:07.337Z"
   },
   {
    "duration": 23,
    "start_time": "2024-03-23T12:08:07.353Z"
   },
   {
    "duration": 17,
    "start_time": "2024-03-23T12:08:07.377Z"
   },
   {
    "duration": 6,
    "start_time": "2024-03-23T12:08:07.396Z"
   },
   {
    "duration": 159,
    "start_time": "2024-03-23T12:08:07.415Z"
   },
   {
    "duration": 22,
    "start_time": "2024-03-23T12:08:07.576Z"
   },
   {
    "duration": 68,
    "start_time": "2024-03-23T12:08:07.600Z"
   },
   {
    "duration": 6,
    "start_time": "2024-03-23T12:08:07.671Z"
   },
   {
    "duration": 19,
    "start_time": "2024-03-23T12:08:07.679Z"
   },
   {
    "duration": 12,
    "start_time": "2024-03-23T12:08:07.717Z"
   },
   {
    "duration": 435,
    "start_time": "2024-03-23T12:08:07.731Z"
   },
   {
    "duration": 324,
    "start_time": "2024-03-23T12:08:08.168Z"
   },
   {
    "duration": 45,
    "start_time": "2024-03-23T12:08:08.494Z"
   },
   {
    "duration": 22,
    "start_time": "2024-03-23T12:08:08.541Z"
   },
   {
    "duration": 339,
    "start_time": "2024-03-23T12:08:08.566Z"
   },
   {
    "duration": 36,
    "start_time": "2024-03-23T12:08:08.907Z"
   },
   {
    "duration": 117,
    "start_time": "2024-03-23T12:08:08.945Z"
   },
   {
    "duration": 0,
    "start_time": "2024-03-23T12:08:09.063Z"
   },
   {
    "duration": 0,
    "start_time": "2024-03-23T12:08:09.065Z"
   },
   {
    "duration": 27,
    "start_time": "2024-03-23T12:16:08.224Z"
   },
   {
    "duration": 28,
    "start_time": "2024-03-23T12:19:31.530Z"
   },
   {
    "duration": 10,
    "start_time": "2024-03-23T12:20:44.430Z"
   },
   {
    "duration": 11,
    "start_time": "2024-03-23T12:21:05.042Z"
   },
   {
    "duration": 21,
    "start_time": "2024-03-23T12:21:15.953Z"
   },
   {
    "duration": 32,
    "start_time": "2024-03-23T12:21:37.901Z"
   },
   {
    "duration": 20,
    "start_time": "2024-03-23T12:22:15.880Z"
   },
   {
    "duration": 273,
    "start_time": "2024-03-23T12:24:35.483Z"
   },
   {
    "duration": 232,
    "start_time": "2024-03-23T12:24:51.544Z"
   },
   {
    "duration": 232,
    "start_time": "2024-03-23T12:25:40.567Z"
   },
   {
    "duration": 251,
    "start_time": "2024-03-23T12:27:38.800Z"
   },
   {
    "duration": 324,
    "start_time": "2024-03-23T12:27:48.951Z"
   },
   {
    "duration": 390,
    "start_time": "2024-03-23T12:28:32.546Z"
   },
   {
    "duration": 223,
    "start_time": "2024-03-23T12:29:13.328Z"
   },
   {
    "duration": 246,
    "start_time": "2024-03-23T12:29:40.224Z"
   },
   {
    "duration": 213,
    "start_time": "2024-03-23T12:29:51.557Z"
   },
   {
    "duration": 39,
    "start_time": "2024-03-23T12:30:42.405Z"
   },
   {
    "duration": 215,
    "start_time": "2024-03-23T12:30:51.664Z"
   },
   {
    "duration": 29,
    "start_time": "2024-03-23T12:31:06.434Z"
   },
   {
    "duration": 225,
    "start_time": "2024-03-23T12:31:16.670Z"
   },
   {
    "duration": 222,
    "start_time": "2024-03-23T12:32:31.587Z"
   },
   {
    "duration": 217,
    "start_time": "2024-03-23T12:32:49.851Z"
   },
   {
    "duration": 221,
    "start_time": "2024-03-23T13:30:46.544Z"
   },
   {
    "duration": 30,
    "start_time": "2024-03-23T13:38:43.514Z"
   },
   {
    "duration": 49,
    "start_time": "2024-03-23T13:39:16.971Z"
   },
   {
    "duration": 26,
    "start_time": "2024-03-23T13:40:04.683Z"
   },
   {
    "duration": 24,
    "start_time": "2024-03-23T13:40:27.054Z"
   },
   {
    "duration": 52,
    "start_time": "2024-03-23T13:42:55.233Z"
   },
   {
    "duration": 74,
    "start_time": "2024-03-23T13:45:49.197Z"
   },
   {
    "duration": 56,
    "start_time": "2024-03-23T13:46:03.108Z"
   },
   {
    "duration": 54,
    "start_time": "2024-03-23T13:48:20.220Z"
   },
   {
    "duration": 296,
    "start_time": "2024-03-23T13:48:29.831Z"
   },
   {
    "duration": 30,
    "start_time": "2024-03-23T13:48:48.173Z"
   },
   {
    "duration": 23,
    "start_time": "2024-03-23T13:48:56.059Z"
   },
   {
    "duration": 27,
    "start_time": "2024-03-23T13:49:18.460Z"
   },
   {
    "duration": 31,
    "start_time": "2024-03-23T13:49:27.644Z"
   },
   {
    "duration": 25,
    "start_time": "2024-03-23T13:50:01.704Z"
   },
   {
    "duration": 21,
    "start_time": "2024-03-23T13:50:10.170Z"
   },
   {
    "duration": 8,
    "start_time": "2024-03-23T14:01:26.711Z"
   },
   {
    "duration": 59,
    "start_time": "2024-03-23T14:01:54.829Z"
   },
   {
    "duration": 57,
    "start_time": "2024-03-23T14:04:01.003Z"
   },
   {
    "duration": 7,
    "start_time": "2024-03-23T14:04:28.570Z"
   },
   {
    "duration": 71,
    "start_time": "2024-03-23T14:06:06.007Z"
   },
   {
    "duration": 11,
    "start_time": "2024-03-23T14:07:13.727Z"
   },
   {
    "duration": 16,
    "start_time": "2024-03-23T14:09:29.817Z"
   },
   {
    "duration": 5,
    "start_time": "2024-03-23T14:10:50.912Z"
   },
   {
    "duration": 12,
    "start_time": "2024-03-23T14:10:59.022Z"
   },
   {
    "duration": 8,
    "start_time": "2024-03-23T14:15:32.598Z"
   },
   {
    "duration": 6,
    "start_time": "2024-03-23T14:15:49.421Z"
   },
   {
    "duration": 6,
    "start_time": "2024-03-23T14:16:29.223Z"
   },
   {
    "duration": 6,
    "start_time": "2024-03-23T14:16:50.521Z"
   },
   {
    "duration": 10,
    "start_time": "2024-03-23T17:29:02.146Z"
   },
   {
    "duration": 4,
    "start_time": "2024-03-23T17:32:43.831Z"
   },
   {
    "duration": 1084,
    "start_time": "2024-03-23T17:32:59.701Z"
   },
   {
    "duration": 10,
    "start_time": "2024-03-23T17:34:20.167Z"
   },
   {
    "duration": 10,
    "start_time": "2024-03-23T17:34:33.518Z"
   },
   {
    "duration": 10,
    "start_time": "2024-03-23T17:34:40.862Z"
   },
   {
    "duration": 12,
    "start_time": "2024-03-23T17:35:24.078Z"
   },
   {
    "duration": 14,
    "start_time": "2024-03-23T17:38:19.348Z"
   },
   {
    "duration": 13,
    "start_time": "2024-03-23T17:39:12.282Z"
   },
   {
    "duration": 11,
    "start_time": "2024-03-23T17:39:25.147Z"
   },
   {
    "duration": 14,
    "start_time": "2024-03-23T17:39:38.212Z"
   },
   {
    "duration": 14,
    "start_time": "2024-03-23T17:39:46.944Z"
   },
   {
    "duration": 967,
    "start_time": "2024-03-23T17:39:58.209Z"
   },
   {
    "duration": 1024,
    "start_time": "2024-03-23T17:40:13.198Z"
   },
   {
    "duration": 946,
    "start_time": "2024-03-23T17:40:23.643Z"
   },
   {
    "duration": 976,
    "start_time": "2024-03-23T17:40:35.012Z"
   },
   {
    "duration": 946,
    "start_time": "2024-03-23T17:42:13.417Z"
   },
   {
    "duration": 1035,
    "start_time": "2024-03-23T17:45:59.381Z"
   },
   {
    "duration": 990,
    "start_time": "2024-03-23T17:46:28.103Z"
   },
   {
    "duration": 1187,
    "start_time": "2024-03-23T17:47:05.093Z"
   },
   {
    "duration": 194,
    "start_time": "2024-03-23T17:47:06.282Z"
   },
   {
    "duration": 14,
    "start_time": "2024-03-23T17:47:06.477Z"
   },
   {
    "duration": 35,
    "start_time": "2024-03-23T17:47:06.493Z"
   },
   {
    "duration": 17,
    "start_time": "2024-03-23T17:47:06.529Z"
   },
   {
    "duration": 3,
    "start_time": "2024-03-23T17:47:06.547Z"
   },
   {
    "duration": 155,
    "start_time": "2024-03-23T17:47:06.551Z"
   },
   {
    "duration": 27,
    "start_time": "2024-03-23T17:47:06.708Z"
   },
   {
    "duration": 49,
    "start_time": "2024-03-23T17:47:06.736Z"
   },
   {
    "duration": 6,
    "start_time": "2024-03-23T17:47:06.787Z"
   },
   {
    "duration": 19,
    "start_time": "2024-03-23T17:47:06.815Z"
   },
   {
    "duration": 8,
    "start_time": "2024-03-23T17:47:06.835Z"
   },
   {
    "duration": 393,
    "start_time": "2024-03-23T17:47:06.844Z"
   },
   {
    "duration": 296,
    "start_time": "2024-03-23T17:47:07.239Z"
   },
   {
    "duration": 29,
    "start_time": "2024-03-23T17:47:07.537Z"
   },
   {
    "duration": 23,
    "start_time": "2024-03-23T17:47:07.568Z"
   },
   {
    "duration": 303,
    "start_time": "2024-03-23T17:47:07.593Z"
   },
   {
    "duration": 31,
    "start_time": "2024-03-23T17:47:07.897Z"
   },
   {
    "duration": 233,
    "start_time": "2024-03-23T17:47:07.930Z"
   },
   {
    "duration": 68,
    "start_time": "2024-03-23T17:47:08.165Z"
   },
   {
    "duration": 1032,
    "start_time": "2024-03-23T17:47:08.234Z"
   },
   {
    "duration": 0,
    "start_time": "2024-03-23T17:47:09.267Z"
   },
   {
    "duration": 14,
    "start_time": "2024-03-23T17:47:36.333Z"
   },
   {
    "duration": 12,
    "start_time": "2024-03-23T17:47:49.862Z"
   },
   {
    "duration": 934,
    "start_time": "2024-03-23T17:48:07.468Z"
   },
   {
    "duration": 928,
    "start_time": "2024-03-23T17:48:47.668Z"
   },
   {
    "duration": 12,
    "start_time": "2024-03-23T17:49:10.929Z"
   },
   {
    "duration": 8,
    "start_time": "2024-03-23T17:50:46.413Z"
   },
   {
    "duration": 13,
    "start_time": "2024-03-23T17:50:58.638Z"
   },
   {
    "duration": 1072,
    "start_time": "2024-03-23T17:51:06.561Z"
   },
   {
    "duration": 4,
    "start_time": "2024-03-23T17:51:16.488Z"
   },
   {
    "duration": 1118,
    "start_time": "2024-03-23T17:51:30.378Z"
   },
   {
    "duration": 953,
    "start_time": "2024-03-23T17:51:41.301Z"
   },
   {
    "duration": 17,
    "start_time": "2024-03-23T17:51:52.385Z"
   },
   {
    "duration": 4,
    "start_time": "2024-03-23T17:53:06.606Z"
   },
   {
    "duration": 7,
    "start_time": "2024-03-23T17:53:44.506Z"
   },
   {
    "duration": 11,
    "start_time": "2024-03-23T18:20:13.040Z"
   },
   {
    "duration": 7,
    "start_time": "2024-03-23T18:20:20.715Z"
   },
   {
    "duration": 9,
    "start_time": "2024-03-23T18:23:07.404Z"
   },
   {
    "duration": 8,
    "start_time": "2024-03-23T18:24:11.686Z"
   },
   {
    "duration": 8,
    "start_time": "2024-03-23T18:24:35.606Z"
   },
   {
    "duration": 11,
    "start_time": "2024-03-23T18:25:04.724Z"
   },
   {
    "duration": 9,
    "start_time": "2024-03-23T18:25:19.236Z"
   },
   {
    "duration": 1179,
    "start_time": "2024-03-23T18:25:47.893Z"
   },
   {
    "duration": 189,
    "start_time": "2024-03-23T18:25:49.074Z"
   },
   {
    "duration": 14,
    "start_time": "2024-03-23T18:25:49.265Z"
   },
   {
    "duration": 35,
    "start_time": "2024-03-23T18:25:49.280Z"
   },
   {
    "duration": 17,
    "start_time": "2024-03-23T18:25:49.316Z"
   },
   {
    "duration": 7,
    "start_time": "2024-03-23T18:25:49.335Z"
   },
   {
    "duration": 147,
    "start_time": "2024-03-23T18:25:49.344Z"
   },
   {
    "duration": 26,
    "start_time": "2024-03-23T18:25:49.493Z"
   },
   {
    "duration": 56,
    "start_time": "2024-03-23T18:25:49.520Z"
   },
   {
    "duration": 5,
    "start_time": "2024-03-23T18:25:49.578Z"
   },
   {
    "duration": 40,
    "start_time": "2024-03-23T18:25:49.585Z"
   },
   {
    "duration": 5,
    "start_time": "2024-03-23T18:25:49.627Z"
   },
   {
    "duration": 385,
    "start_time": "2024-03-23T18:25:49.633Z"
   },
   {
    "duration": 276,
    "start_time": "2024-03-23T18:25:50.021Z"
   },
   {
    "duration": 27,
    "start_time": "2024-03-23T18:25:50.298Z"
   },
   {
    "duration": 22,
    "start_time": "2024-03-23T18:25:50.327Z"
   },
   {
    "duration": 295,
    "start_time": "2024-03-23T18:25:50.350Z"
   },
   {
    "duration": 23,
    "start_time": "2024-03-23T18:25:50.646Z"
   },
   {
    "duration": 261,
    "start_time": "2024-03-23T18:25:50.670Z"
   },
   {
    "duration": 55,
    "start_time": "2024-03-23T18:25:50.932Z"
   },
   {
    "duration": 30,
    "start_time": "2024-03-23T18:25:50.989Z"
   },
   {
    "duration": 9,
    "start_time": "2024-03-23T18:26:23.963Z"
   },
   {
    "duration": 7,
    "start_time": "2024-03-23T18:26:31.496Z"
   },
   {
    "duration": 6,
    "start_time": "2024-03-23T18:29:59.945Z"
   },
   {
    "duration": 58,
    "start_time": "2024-03-23T18:31:18.676Z"
   },
   {
    "duration": 65,
    "start_time": "2024-03-23T18:31:35.530Z"
   },
   {
    "duration": 7,
    "start_time": "2024-03-23T18:31:50.243Z"
   },
   {
    "duration": 6,
    "start_time": "2024-03-23T18:32:34.048Z"
   },
   {
    "duration": 7,
    "start_time": "2024-03-23T18:33:14.862Z"
   },
   {
    "duration": 6,
    "start_time": "2024-03-23T18:33:25.194Z"
   },
   {
    "duration": 8,
    "start_time": "2024-03-23T18:33:49.161Z"
   },
   {
    "duration": 8,
    "start_time": "2024-03-23T18:35:04.349Z"
   },
   {
    "duration": 8,
    "start_time": "2024-03-23T18:35:17.437Z"
   },
   {
    "duration": 72,
    "start_time": "2024-03-23T18:36:31.217Z"
   },
   {
    "duration": 61,
    "start_time": "2024-03-23T18:36:38.389Z"
   },
   {
    "duration": 66,
    "start_time": "2024-03-23T18:36:44.043Z"
   },
   {
    "duration": 8,
    "start_time": "2024-03-23T18:36:52.141Z"
   },
   {
    "duration": 11,
    "start_time": "2024-03-23T18:37:08.603Z"
   },
   {
    "duration": 9,
    "start_time": "2024-03-23T18:38:26.495Z"
   },
   {
    "duration": 9,
    "start_time": "2024-03-23T18:43:33.144Z"
   },
   {
    "duration": 6,
    "start_time": "2024-03-23T18:48:14.287Z"
   },
   {
    "duration": 5,
    "start_time": "2024-03-23T18:48:32.085Z"
   },
   {
    "duration": 72,
    "start_time": "2024-03-23T18:54:21.913Z"
   },
   {
    "duration": 7,
    "start_time": "2024-03-23T18:55:52.482Z"
   },
   {
    "duration": 113,
    "start_time": "2024-03-23T18:56:04.753Z"
   },
   {
    "duration": 24,
    "start_time": "2024-03-23T18:58:20.127Z"
   },
   {
    "duration": 11,
    "start_time": "2024-03-23T18:58:58.272Z"
   },
   {
    "duration": 12,
    "start_time": "2024-03-23T19:00:16.555Z"
   },
   {
    "duration": 7,
    "start_time": "2024-03-23T19:01:19.086Z"
   },
   {
    "duration": 11,
    "start_time": "2024-03-23T19:02:31.652Z"
   },
   {
    "duration": 56,
    "start_time": "2024-03-23T19:04:08.308Z"
   },
   {
    "duration": 11,
    "start_time": "2024-03-23T19:04:20.066Z"
   },
   {
    "duration": 10,
    "start_time": "2024-03-23T19:04:28.416Z"
   },
   {
    "duration": 8,
    "start_time": "2024-03-23T19:04:41.810Z"
   },
   {
    "duration": 13,
    "start_time": "2024-03-23T19:04:51.388Z"
   },
   {
    "duration": 64,
    "start_time": "2024-03-23T19:05:16.954Z"
   },
   {
    "duration": 14,
    "start_time": "2024-03-23T19:05:46.159Z"
   },
   {
    "duration": 12,
    "start_time": "2024-03-23T19:08:07.298Z"
   },
   {
    "duration": 12,
    "start_time": "2024-03-23T19:08:21.463Z"
   },
   {
    "duration": 9,
    "start_time": "2024-03-23T19:12:02.249Z"
   },
   {
    "duration": 7,
    "start_time": "2024-03-23T19:12:28.435Z"
   },
   {
    "duration": 11,
    "start_time": "2024-03-23T19:12:36.942Z"
   },
   {
    "duration": 6,
    "start_time": "2024-03-23T19:12:59.744Z"
   },
   {
    "duration": 1148,
    "start_time": "2024-03-23T19:13:59.632Z"
   },
   {
    "duration": 934,
    "start_time": "2024-03-23T19:14:18.906Z"
   },
   {
    "duration": 1103,
    "start_time": "2024-03-23T19:15:07.761Z"
   },
   {
    "duration": 950,
    "start_time": "2024-03-23T19:15:27.900Z"
   },
   {
    "duration": 965,
    "start_time": "2024-03-23T19:20:07.192Z"
   },
   {
    "duration": 9,
    "start_time": "2024-03-23T19:28:11.703Z"
   },
   {
    "duration": 8,
    "start_time": "2024-03-23T19:28:33.740Z"
   },
   {
    "duration": 9,
    "start_time": "2024-03-23T19:28:43.214Z"
   },
   {
    "duration": 60,
    "start_time": "2024-03-23T19:29:04.884Z"
   },
   {
    "duration": 9,
    "start_time": "2024-03-23T19:29:22.512Z"
   },
   {
    "duration": 183,
    "start_time": "2024-03-23T19:33:34.506Z"
   },
   {
    "duration": 268,
    "start_time": "2024-03-23T19:34:00.475Z"
   },
   {
    "duration": 9,
    "start_time": "2024-03-23T19:34:25.282Z"
   },
   {
    "duration": 10,
    "start_time": "2024-03-23T19:36:57.581Z"
   },
   {
    "duration": 9,
    "start_time": "2024-03-23T19:37:08.564Z"
   },
   {
    "duration": 11,
    "start_time": "2024-03-23T19:38:07.442Z"
   },
   {
    "duration": 12,
    "start_time": "2024-03-23T19:38:38.665Z"
   },
   {
    "duration": 9,
    "start_time": "2024-03-23T19:38:48.959Z"
   },
   {
    "duration": 9,
    "start_time": "2024-03-23T19:39:09.617Z"
   },
   {
    "duration": 9,
    "start_time": "2024-03-23T19:39:17.025Z"
   },
   {
    "duration": 10,
    "start_time": "2024-03-23T19:39:32.575Z"
   },
   {
    "duration": 10,
    "start_time": "2024-03-23T19:41:25.344Z"
   },
   {
    "duration": 10,
    "start_time": "2024-03-23T19:46:02.577Z"
   },
   {
    "duration": 1415,
    "start_time": "2024-03-24T04:07:00.858Z"
   },
   {
    "duration": 409,
    "start_time": "2024-03-24T04:07:02.276Z"
   },
   {
    "duration": 15,
    "start_time": "2024-03-24T04:07:02.686Z"
   },
   {
    "duration": 26,
    "start_time": "2024-03-24T04:07:02.703Z"
   },
   {
    "duration": 16,
    "start_time": "2024-03-24T04:07:02.731Z"
   },
   {
    "duration": 3,
    "start_time": "2024-03-24T04:07:02.749Z"
   },
   {
    "duration": 161,
    "start_time": "2024-03-24T04:07:02.753Z"
   },
   {
    "duration": 23,
    "start_time": "2024-03-24T04:07:02.916Z"
   },
   {
    "duration": 179,
    "start_time": "2024-03-24T04:07:02.941Z"
   },
   {
    "duration": 59,
    "start_time": "2024-03-24T04:07:03.122Z"
   },
   {
    "duration": 90,
    "start_time": "2024-03-24T04:07:03.182Z"
   },
   {
    "duration": 11,
    "start_time": "2024-03-24T04:07:03.273Z"
   },
   {
    "duration": 444,
    "start_time": "2024-03-24T04:07:03.286Z"
   },
   {
    "duration": 312,
    "start_time": "2024-03-24T04:07:03.731Z"
   },
   {
    "duration": 18,
    "start_time": "2024-03-24T04:07:04.045Z"
   },
   {
    "duration": 35,
    "start_time": "2024-03-24T04:07:04.065Z"
   },
   {
    "duration": 307,
    "start_time": "2024-03-24T04:07:04.101Z"
   },
   {
    "duration": 23,
    "start_time": "2024-03-24T04:07:04.410Z"
   },
   {
    "duration": 238,
    "start_time": "2024-03-24T04:07:04.435Z"
   },
   {
    "duration": 62,
    "start_time": "2024-03-24T04:07:04.675Z"
   },
   {
    "duration": 8,
    "start_time": "2024-03-24T04:07:04.739Z"
   },
   {
    "duration": 10,
    "start_time": "2024-03-24T04:07:04.748Z"
   },
   {
    "duration": 5,
    "start_time": "2024-03-24T04:07:04.783Z"
   },
   {
    "duration": 108,
    "start_time": "2024-03-24T04:07:04.789Z"
   },
   {
    "duration": 23,
    "start_time": "2024-03-24T04:07:04.898Z"
   },
   {
    "duration": 29,
    "start_time": "2024-03-24T04:13:47.973Z"
   },
   {
    "duration": 26,
    "start_time": "2024-03-24T04:14:07.035Z"
   },
   {
    "duration": 40,
    "start_time": "2024-03-24T04:14:53.554Z"
   },
   {
    "duration": 55,
    "start_time": "2024-03-24T04:16:03.456Z"
   },
   {
    "duration": 92,
    "start_time": "2024-03-24T04:16:15.013Z"
   },
   {
    "duration": 94,
    "start_time": "2024-03-24T04:22:17.730Z"
   },
   {
    "duration": 97,
    "start_time": "2024-03-24T04:24:08.808Z"
   },
   {
    "duration": 56,
    "start_time": "2024-03-24T04:24:21.632Z"
   },
   {
    "duration": 48,
    "start_time": "2024-03-24T04:24:46.811Z"
   },
   {
    "duration": 5,
    "start_time": "2024-03-24T04:26:24.768Z"
   },
   {
    "duration": 10,
    "start_time": "2024-03-24T04:26:36.250Z"
   },
   {
    "duration": 9,
    "start_time": "2024-03-24T04:26:42.357Z"
   },
   {
    "duration": 31,
    "start_time": "2024-03-24T04:27:02.661Z"
   },
   {
    "duration": 39,
    "start_time": "2024-03-24T04:27:08.913Z"
   },
   {
    "duration": 30,
    "start_time": "2024-03-24T04:27:20.194Z"
   },
   {
    "duration": 39,
    "start_time": "2024-03-24T04:27:31.222Z"
   },
   {
    "duration": 61,
    "start_time": "2024-03-24T04:28:36.888Z"
   },
   {
    "duration": 45,
    "start_time": "2024-03-24T04:29:09.517Z"
   },
   {
    "duration": 9,
    "start_time": "2024-03-24T04:29:59.784Z"
   },
   {
    "duration": 8,
    "start_time": "2024-03-24T04:30:05.311Z"
   },
   {
    "duration": 8,
    "start_time": "2024-03-24T04:30:10.783Z"
   },
   {
    "duration": 81,
    "start_time": "2024-03-24T04:34:45.849Z"
   },
   {
    "duration": 105,
    "start_time": "2024-03-24T04:35:07.840Z"
   },
   {
    "duration": 8,
    "start_time": "2024-03-24T04:35:10.312Z"
   },
   {
    "duration": 109,
    "start_time": "2024-03-24T04:35:51.879Z"
   },
   {
    "duration": 7,
    "start_time": "2024-03-24T04:35:52.740Z"
   },
   {
    "duration": 212,
    "start_time": "2024-03-24T04:48:34.906Z"
   },
   {
    "duration": 219,
    "start_time": "2024-03-24T04:49:00.256Z"
   },
   {
    "duration": 113,
    "start_time": "2024-03-24T04:52:37.985Z"
   },
   {
    "duration": 19,
    "start_time": "2024-03-24T04:52:47.769Z"
   },
   {
    "duration": 17,
    "start_time": "2024-03-24T04:53:33.375Z"
   },
   {
    "duration": 205,
    "start_time": "2024-03-24T04:54:51.998Z"
   },
   {
    "duration": 301,
    "start_time": "2024-03-24T05:59:34.427Z"
   },
   {
    "duration": 213,
    "start_time": "2024-03-24T05:59:55.229Z"
   },
   {
    "duration": 212,
    "start_time": "2024-03-24T06:00:11.913Z"
   },
   {
    "duration": 229,
    "start_time": "2024-03-24T06:00:15.332Z"
   },
   {
    "duration": 12,
    "start_time": "2024-03-24T06:04:45.228Z"
   },
   {
    "duration": 47,
    "start_time": "2024-03-24T06:05:28.754Z"
   },
   {
    "duration": 2,
    "start_time": "2024-03-24T06:07:17.370Z"
   },
   {
    "duration": 29,
    "start_time": "2024-03-24T06:08:16.679Z"
   },
   {
    "duration": 9,
    "start_time": "2024-03-24T06:09:19.074Z"
   },
   {
    "duration": 25,
    "start_time": "2024-03-24T06:09:32.615Z"
   },
   {
    "duration": 245,
    "start_time": "2024-03-24T06:10:29.627Z"
   },
   {
    "duration": 232,
    "start_time": "2024-03-24T06:11:06.398Z"
   },
   {
    "duration": 245,
    "start_time": "2024-03-24T06:11:11.980Z"
   },
   {
    "duration": 1212,
    "start_time": "2024-03-24T06:13:43.473Z"
   },
   {
    "duration": 311,
    "start_time": "2024-03-24T06:13:44.687Z"
   },
   {
    "duration": 14,
    "start_time": "2024-03-24T06:13:45.000Z"
   },
   {
    "duration": 33,
    "start_time": "2024-03-24T06:13:45.015Z"
   },
   {
    "duration": 48,
    "start_time": "2024-03-24T06:13:45.049Z"
   },
   {
    "duration": 47,
    "start_time": "2024-03-24T06:13:45.099Z"
   },
   {
    "duration": 174,
    "start_time": "2024-03-24T06:13:45.148Z"
   },
   {
    "duration": 22,
    "start_time": "2024-03-24T06:13:45.324Z"
   },
   {
    "duration": 64,
    "start_time": "2024-03-24T06:13:45.347Z"
   },
   {
    "duration": 5,
    "start_time": "2024-03-24T06:13:45.414Z"
   },
   {
    "duration": 27,
    "start_time": "2024-03-24T06:13:45.421Z"
   },
   {
    "duration": 7,
    "start_time": "2024-03-24T06:13:45.450Z"
   },
   {
    "duration": 417,
    "start_time": "2024-03-24T06:13:45.459Z"
   },
   {
    "duration": 297,
    "start_time": "2024-03-24T06:13:45.878Z"
   },
   {
    "duration": 23,
    "start_time": "2024-03-24T06:13:46.177Z"
   },
   {
    "duration": 22,
    "start_time": "2024-03-24T06:13:46.202Z"
   },
   {
    "duration": 329,
    "start_time": "2024-03-24T06:13:46.227Z"
   },
   {
    "duration": 31,
    "start_time": "2024-03-24T06:13:46.558Z"
   },
   {
    "duration": 235,
    "start_time": "2024-03-24T06:13:46.591Z"
   },
   {
    "duration": 63,
    "start_time": "2024-03-24T06:13:46.828Z"
   },
   {
    "duration": 8,
    "start_time": "2024-03-24T06:13:46.892Z"
   },
   {
    "duration": 10,
    "start_time": "2024-03-24T06:13:46.901Z"
   },
   {
    "duration": 19,
    "start_time": "2024-03-24T06:13:46.913Z"
   },
   {
    "duration": 103,
    "start_time": "2024-03-24T06:13:46.934Z"
   },
   {
    "duration": 10,
    "start_time": "2024-03-24T06:13:47.039Z"
   },
   {
    "duration": 46,
    "start_time": "2024-03-24T06:13:47.051Z"
   },
   {
    "duration": 18,
    "start_time": "2024-03-24T06:13:47.100Z"
   },
   {
    "duration": 240,
    "start_time": "2024-03-24T06:13:47.121Z"
   },
   {
    "duration": 230,
    "start_time": "2024-03-24T06:13:47.363Z"
   },
   {
    "duration": 24,
    "start_time": "2024-03-24T06:13:47.594Z"
   },
   {
    "duration": 267,
    "start_time": "2024-03-24T06:13:47.620Z"
   },
   {
    "duration": 111,
    "start_time": "2024-03-24T06:17:31.072Z"
   },
   {
    "duration": 23,
    "start_time": "2024-03-24T06:20:33.645Z"
   },
   {
    "duration": 28,
    "start_time": "2024-03-24T06:22:08.839Z"
   },
   {
    "duration": 26,
    "start_time": "2024-03-24T06:23:18.117Z"
   },
   {
    "duration": 29,
    "start_time": "2024-03-24T09:00:10.868Z"
   },
   {
    "duration": 28,
    "start_time": "2024-03-24T09:00:13.488Z"
   },
   {
    "duration": 1267,
    "start_time": "2024-03-24T11:50:57.990Z"
   },
   {
    "duration": 947,
    "start_time": "2024-03-24T11:50:59.259Z"
   },
   {
    "duration": 13,
    "start_time": "2024-03-24T11:51:00.208Z"
   },
   {
    "duration": 76,
    "start_time": "2024-03-24T11:51:00.222Z"
   },
   {
    "duration": 51,
    "start_time": "2024-03-24T11:51:00.300Z"
   },
   {
    "duration": 69,
    "start_time": "2024-03-24T11:51:00.352Z"
   },
   {
    "duration": 175,
    "start_time": "2024-03-24T11:51:00.422Z"
   },
   {
    "duration": 21,
    "start_time": "2024-03-24T11:51:00.599Z"
   },
   {
    "duration": 72,
    "start_time": "2024-03-24T11:51:00.621Z"
   },
   {
    "duration": 12,
    "start_time": "2024-03-24T11:51:00.695Z"
   },
   {
    "duration": 67,
    "start_time": "2024-03-24T11:51:00.709Z"
   },
   {
    "duration": 78,
    "start_time": "2024-03-24T11:51:00.777Z"
   },
   {
    "duration": 442,
    "start_time": "2024-03-24T11:51:00.857Z"
   },
   {
    "duration": 252,
    "start_time": "2024-03-24T11:51:01.301Z"
   },
   {
    "duration": 23,
    "start_time": "2024-03-24T11:51:01.554Z"
   },
   {
    "duration": 90,
    "start_time": "2024-03-24T11:51:01.578Z"
   },
   {
    "duration": 301,
    "start_time": "2024-03-24T11:51:01.670Z"
   },
   {
    "duration": 19,
    "start_time": "2024-03-24T11:51:01.973Z"
   },
   {
    "duration": 247,
    "start_time": "2024-03-24T11:51:01.994Z"
   },
   {
    "duration": 58,
    "start_time": "2024-03-24T11:51:02.243Z"
   },
   {
    "duration": 9,
    "start_time": "2024-03-24T11:51:02.302Z"
   },
   {
    "duration": 48,
    "start_time": "2024-03-24T11:51:02.312Z"
   },
   {
    "duration": 28,
    "start_time": "2024-03-24T11:51:02.362Z"
   },
   {
    "duration": 106,
    "start_time": "2024-03-24T11:51:02.392Z"
   },
   {
    "duration": 9,
    "start_time": "2024-03-24T11:51:02.500Z"
   },
   {
    "duration": 32,
    "start_time": "2024-03-24T11:51:02.510Z"
   },
   {
    "duration": 17,
    "start_time": "2024-03-24T11:51:02.543Z"
   },
   {
    "duration": 197,
    "start_time": "2024-03-24T11:51:02.569Z"
   },
   {
    "duration": 193,
    "start_time": "2024-03-24T11:51:02.767Z"
   },
   {
    "duration": 23,
    "start_time": "2024-03-24T11:51:02.961Z"
   },
   {
    "duration": 229,
    "start_time": "2024-03-24T11:51:02.985Z"
   },
   {
    "duration": 22,
    "start_time": "2024-03-24T11:51:03.216Z"
   },
   {
    "duration": 37,
    "start_time": "2024-03-24T11:51:03.240Z"
   },
   {
    "duration": 4,
    "start_time": "2024-03-24T12:07:06.747Z"
   },
   {
    "duration": 90,
    "start_time": "2024-03-24T12:27:29.453Z"
   },
   {
    "duration": 6,
    "start_time": "2024-03-24T12:27:52.967Z"
   },
   {
    "duration": 91,
    "start_time": "2024-03-24T12:30:37.905Z"
   },
   {
    "duration": 8,
    "start_time": "2024-03-24T12:33:25.602Z"
   },
   {
    "duration": 7,
    "start_time": "2024-03-24T12:33:34.863Z"
   },
   {
    "duration": 27,
    "start_time": "2024-03-24T12:33:35.612Z"
   },
   {
    "duration": 28,
    "start_time": "2024-03-24T12:33:57.123Z"
   },
   {
    "duration": 3,
    "start_time": "2024-03-24T12:35:37.629Z"
   },
   {
    "duration": 26,
    "start_time": "2024-03-24T12:35:46.956Z"
   },
   {
    "duration": 10,
    "start_time": "2024-03-24T12:35:53.628Z"
   },
   {
    "duration": 2,
    "start_time": "2024-03-24T12:36:00.869Z"
   },
   {
    "duration": 26,
    "start_time": "2024-03-24T12:36:01.416Z"
   },
   {
    "duration": 3,
    "start_time": "2024-03-24T12:37:23.974Z"
   },
   {
    "duration": 27,
    "start_time": "2024-03-24T12:37:24.586Z"
   },
   {
    "duration": 29,
    "start_time": "2024-03-24T12:37:31.108Z"
   },
   {
    "duration": 113,
    "start_time": "2024-03-24T12:37:42.643Z"
   },
   {
    "duration": 27,
    "start_time": "2024-03-24T12:38:27.593Z"
   },
   {
    "duration": 28,
    "start_time": "2024-03-24T12:38:36.783Z"
   },
   {
    "duration": 42,
    "start_time": "2024-03-24T12:38:42.952Z"
   },
   {
    "duration": 28,
    "start_time": "2024-03-24T12:38:48.020Z"
   },
   {
    "duration": 5,
    "start_time": "2024-03-24T12:39:18.565Z"
   },
   {
    "duration": 3,
    "start_time": "2024-03-24T12:39:19.027Z"
   },
   {
    "duration": 28,
    "start_time": "2024-03-24T12:39:19.513Z"
   },
   {
    "duration": 11,
    "start_time": "2024-03-24T15:53:19.182Z"
   },
   {
    "duration": 1091,
    "start_time": "2024-03-24T15:54:13.907Z"
   },
   {
    "duration": 287,
    "start_time": "2024-03-24T15:54:14.999Z"
   },
   {
    "duration": 13,
    "start_time": "2024-03-24T15:54:15.288Z"
   },
   {
    "duration": 55,
    "start_time": "2024-03-24T15:54:15.302Z"
   },
   {
    "duration": 105,
    "start_time": "2024-03-24T15:54:15.359Z"
   },
   {
    "duration": 35,
    "start_time": "2024-03-24T15:54:15.466Z"
   },
   {
    "duration": 162,
    "start_time": "2024-03-24T15:54:15.502Z"
   },
   {
    "duration": 20,
    "start_time": "2024-03-24T15:54:15.666Z"
   },
   {
    "duration": 48,
    "start_time": "2024-03-24T15:54:15.687Z"
   },
   {
    "duration": 5,
    "start_time": "2024-03-24T15:54:15.736Z"
   },
   {
    "duration": 34,
    "start_time": "2024-03-24T15:54:15.742Z"
   },
   {
    "duration": 19,
    "start_time": "2024-03-24T15:54:15.778Z"
   },
   {
    "duration": 339,
    "start_time": "2024-03-24T15:54:15.798Z"
   },
   {
    "duration": 254,
    "start_time": "2024-03-24T15:54:16.139Z"
   },
   {
    "duration": 16,
    "start_time": "2024-03-24T15:54:16.395Z"
   },
   {
    "duration": 20,
    "start_time": "2024-03-24T15:54:16.413Z"
   },
   {
    "duration": 293,
    "start_time": "2024-03-24T15:54:16.434Z"
   },
   {
    "duration": 19,
    "start_time": "2024-03-24T15:54:16.729Z"
   },
   {
    "duration": 215,
    "start_time": "2024-03-24T15:54:16.750Z"
   },
   {
    "duration": 54,
    "start_time": "2024-03-24T15:54:16.970Z"
   },
   {
    "duration": 8,
    "start_time": "2024-03-24T15:54:17.025Z"
   },
   {
    "duration": 9,
    "start_time": "2024-03-24T15:54:17.034Z"
   },
   {
    "duration": 5,
    "start_time": "2024-03-24T15:54:17.069Z"
   },
   {
    "duration": 96,
    "start_time": "2024-03-24T15:54:17.075Z"
   },
   {
    "duration": 8,
    "start_time": "2024-03-24T15:54:17.173Z"
   },
   {
    "duration": 28,
    "start_time": "2024-03-24T15:54:17.183Z"
   },
   {
    "duration": 18,
    "start_time": "2024-03-24T15:54:17.213Z"
   },
   {
    "duration": 216,
    "start_time": "2024-03-24T15:54:17.233Z"
   },
   {
    "duration": 195,
    "start_time": "2024-03-24T15:54:17.450Z"
   },
   {
    "duration": 27,
    "start_time": "2024-03-24T15:54:17.646Z"
   },
   {
    "duration": 216,
    "start_time": "2024-03-24T15:54:17.675Z"
   },
   {
    "duration": 22,
    "start_time": "2024-03-24T15:54:17.892Z"
   },
   {
    "duration": 21,
    "start_time": "2024-03-24T15:54:17.915Z"
   },
   {
    "duration": 115,
    "start_time": "2024-03-24T15:54:17.938Z"
   },
   {
    "duration": 13,
    "start_time": "2024-03-24T15:54:18.054Z"
   },
   {
    "duration": 43,
    "start_time": "2024-03-24T15:54:18.068Z"
   },
   {
    "duration": 5,
    "start_time": "2024-03-24T15:54:18.112Z"
   },
   {
    "duration": 27,
    "start_time": "2024-03-24T16:00:31.198Z"
   },
   {
    "duration": 26,
    "start_time": "2024-03-24T16:00:57.218Z"
   },
   {
    "duration": 37,
    "start_time": "2024-03-24T16:08:52.662Z"
   },
   {
    "duration": 26,
    "start_time": "2024-03-24T16:09:04.309Z"
   },
   {
    "duration": 28,
    "start_time": "2024-03-24T16:09:11.819Z"
   },
   {
    "duration": 51,
    "start_time": "2024-03-24T16:10:39.304Z"
   },
   {
    "duration": 5,
    "start_time": "2024-03-24T16:12:47.140Z"
   },
   {
    "duration": 2,
    "start_time": "2024-03-24T16:12:47.721Z"
   },
   {
    "duration": 24,
    "start_time": "2024-03-24T16:12:48.273Z"
   },
   {
    "duration": 98,
    "start_time": "2024-03-24T16:12:50.412Z"
   },
   {
    "duration": 71,
    "start_time": "2024-03-24T16:13:18.417Z"
   },
   {
    "duration": 24,
    "start_time": "2024-03-24T16:14:25.558Z"
   },
   {
    "duration": 26,
    "start_time": "2024-03-24T16:14:26.359Z"
   },
   {
    "duration": 67,
    "start_time": "2024-03-24T16:15:18.794Z"
   },
   {
    "duration": 67,
    "start_time": "2024-03-24T16:16:12.898Z"
   },
   {
    "duration": 69,
    "start_time": "2024-03-24T16:16:15.312Z"
   },
   {
    "duration": 64,
    "start_time": "2024-03-24T16:17:19.239Z"
   },
   {
    "duration": 78,
    "start_time": "2024-03-24T16:17:19.885Z"
   },
   {
    "duration": 66,
    "start_time": "2024-03-24T16:17:20.545Z"
   },
   {
    "duration": 18,
    "start_time": "2024-03-24T16:20:23.770Z"
   },
   {
    "duration": 26,
    "start_time": "2024-03-24T16:21:43.897Z"
   },
   {
    "duration": 26,
    "start_time": "2024-03-24T16:21:55.438Z"
   },
   {
    "duration": 69,
    "start_time": "2024-03-24T16:22:54.308Z"
   },
   {
    "duration": 63,
    "start_time": "2024-03-24T16:22:54.904Z"
   },
   {
    "duration": 66,
    "start_time": "2024-03-24T16:22:56.880Z"
   },
   {
    "duration": 33,
    "start_time": "2024-03-24T16:26:10.189Z"
   },
   {
    "duration": 5,
    "start_time": "2024-03-24T16:28:09.053Z"
   },
   {
    "duration": 37,
    "start_time": "2024-03-24T16:29:43.819Z"
   },
   {
    "duration": 40,
    "start_time": "2024-03-24T16:30:36.146Z"
   },
   {
    "duration": 5,
    "start_time": "2024-03-24T16:34:38.253Z"
   },
   {
    "duration": 5,
    "start_time": "2024-03-24T16:35:20.988Z"
   },
   {
    "duration": 4,
    "start_time": "2024-03-24T16:36:08.112Z"
   },
   {
    "duration": 4,
    "start_time": "2024-03-24T16:36:38.895Z"
   },
   {
    "duration": 5,
    "start_time": "2024-03-24T16:36:59.804Z"
   },
   {
    "duration": 4,
    "start_time": "2024-03-24T16:37:16.718Z"
   },
   {
    "duration": 5,
    "start_time": "2024-03-24T16:39:17.555Z"
   },
   {
    "duration": 4,
    "start_time": "2024-03-24T16:39:56.678Z"
   },
   {
    "duration": 5,
    "start_time": "2024-03-24T16:40:10.332Z"
   },
   {
    "duration": 4,
    "start_time": "2024-03-24T16:40:16.348Z"
   },
   {
    "duration": 4,
    "start_time": "2024-03-24T16:40:16.894Z"
   },
   {
    "duration": 1095,
    "start_time": "2024-03-24T16:59:28.298Z"
   },
   {
    "duration": 270,
    "start_time": "2024-03-24T16:59:29.395Z"
   },
   {
    "duration": 14,
    "start_time": "2024-03-24T16:59:29.666Z"
   },
   {
    "duration": 19,
    "start_time": "2024-03-24T16:59:29.682Z"
   },
   {
    "duration": 15,
    "start_time": "2024-03-24T16:59:29.703Z"
   },
   {
    "duration": 2,
    "start_time": "2024-03-24T16:59:29.719Z"
   },
   {
    "duration": 143,
    "start_time": "2024-03-24T16:59:29.722Z"
   },
   {
    "duration": 21,
    "start_time": "2024-03-24T16:59:29.869Z"
   },
   {
    "duration": 80,
    "start_time": "2024-03-24T16:59:29.891Z"
   },
   {
    "duration": 6,
    "start_time": "2024-03-24T16:59:29.972Z"
   },
   {
    "duration": 18,
    "start_time": "2024-03-24T16:59:29.979Z"
   },
   {
    "duration": 4,
    "start_time": "2024-03-24T16:59:29.999Z"
   },
   {
    "duration": 349,
    "start_time": "2024-03-24T16:59:30.005Z"
   },
   {
    "duration": 269,
    "start_time": "2024-03-24T16:59:30.356Z"
   },
   {
    "duration": 17,
    "start_time": "2024-03-24T16:59:30.627Z"
   },
   {
    "duration": 60,
    "start_time": "2024-03-24T16:59:30.645Z"
   },
   {
    "duration": 281,
    "start_time": "2024-03-24T16:59:30.706Z"
   },
   {
    "duration": 22,
    "start_time": "2024-03-24T16:59:30.988Z"
   },
   {
    "duration": 275,
    "start_time": "2024-03-24T16:59:31.011Z"
   },
   {
    "duration": 101,
    "start_time": "2024-03-24T16:59:31.287Z"
   },
   {
    "duration": 128,
    "start_time": "2024-03-24T16:59:31.389Z"
   },
   {
    "duration": 75,
    "start_time": "2024-03-24T16:59:31.519Z"
   },
   {
    "duration": 43,
    "start_time": "2024-03-24T16:59:31.596Z"
   },
   {
    "duration": 172,
    "start_time": "2024-03-24T16:59:31.641Z"
   },
   {
    "duration": 8,
    "start_time": "2024-03-24T16:59:31.815Z"
   },
   {
    "duration": 57,
    "start_time": "2024-03-24T16:59:31.824Z"
   },
   {
    "duration": 201,
    "start_time": "2024-03-24T16:59:31.882Z"
   },
   {
    "duration": 278,
    "start_time": "2024-03-24T16:59:32.085Z"
   },
   {
    "duration": 192,
    "start_time": "2024-03-24T16:59:32.365Z"
   },
   {
    "duration": 23,
    "start_time": "2024-03-24T16:59:32.559Z"
   },
   {
    "duration": 228,
    "start_time": "2024-03-24T16:59:32.584Z"
   },
   {
    "duration": 22,
    "start_time": "2024-03-24T16:59:32.813Z"
   },
   {
    "duration": 39,
    "start_time": "2024-03-24T16:59:32.837Z"
   },
   {
    "duration": 72,
    "start_time": "2024-03-24T16:59:32.877Z"
   },
   {
    "duration": 6,
    "start_time": "2024-03-24T16:59:32.951Z"
   },
   {
    "duration": 31,
    "start_time": "2024-03-24T16:59:32.959Z"
   },
   {
    "duration": 23,
    "start_time": "2024-03-24T16:59:32.991Z"
   },
   {
    "duration": 5,
    "start_time": "2024-03-24T16:59:33.015Z"
   },
   {
    "duration": 23,
    "start_time": "2024-03-24T16:59:33.022Z"
   },
   {
    "duration": 46,
    "start_time": "2024-03-24T16:59:33.046Z"
   },
   {
    "duration": 41,
    "start_time": "2024-03-24T16:59:33.096Z"
   },
   {
    "duration": 85,
    "start_time": "2024-03-24T16:59:33.138Z"
   },
   {
    "duration": 85,
    "start_time": "2024-03-24T16:59:33.224Z"
   },
   {
    "duration": 76,
    "start_time": "2024-03-24T16:59:33.311Z"
   },
   {
    "duration": 4,
    "start_time": "2024-03-24T16:59:33.389Z"
   },
   {
    "duration": 14,
    "start_time": "2024-03-24T16:59:33.394Z"
   },
   {
    "duration": 21,
    "start_time": "2024-03-24T16:59:33.409Z"
   },
   {
    "duration": 14,
    "start_time": "2024-03-24T16:59:33.431Z"
   },
   {
    "duration": 6,
    "start_time": "2024-03-24T16:59:33.447Z"
   },
   {
    "duration": 13,
    "start_time": "2024-03-24T16:59:33.454Z"
   },
   {
    "duration": 8,
    "start_time": "2024-03-24T16:59:33.469Z"
   },
   {
    "duration": 1099,
    "start_time": "2024-03-24T21:45:40.245Z"
   },
   {
    "duration": 953,
    "start_time": "2024-03-24T21:45:41.346Z"
   },
   {
    "duration": 14,
    "start_time": "2024-03-24T21:45:42.300Z"
   },
   {
    "duration": 32,
    "start_time": "2024-03-24T21:45:42.315Z"
   },
   {
    "duration": 15,
    "start_time": "2024-03-24T21:45:42.350Z"
   },
   {
    "duration": 27,
    "start_time": "2024-03-24T21:45:42.367Z"
   },
   {
    "duration": 133,
    "start_time": "2024-03-24T21:45:42.396Z"
   },
   {
    "duration": 20,
    "start_time": "2024-03-24T21:45:42.530Z"
   },
   {
    "duration": 60,
    "start_time": "2024-03-24T21:45:42.552Z"
   },
   {
    "duration": 5,
    "start_time": "2024-03-24T21:45:42.614Z"
   },
   {
    "duration": 27,
    "start_time": "2024-03-24T21:45:42.620Z"
   },
   {
    "duration": 14,
    "start_time": "2024-03-24T21:45:42.648Z"
   },
   {
    "duration": 387,
    "start_time": "2024-03-24T21:45:42.663Z"
   },
   {
    "duration": 256,
    "start_time": "2024-03-24T21:45:43.053Z"
   },
   {
    "duration": 17,
    "start_time": "2024-03-24T21:45:43.311Z"
   },
   {
    "duration": 20,
    "start_time": "2024-03-24T21:45:43.329Z"
   },
   {
    "duration": 291,
    "start_time": "2024-03-24T21:45:43.351Z"
   },
   {
    "duration": 21,
    "start_time": "2024-03-24T21:45:43.643Z"
   },
   {
    "duration": 215,
    "start_time": "2024-03-24T21:45:43.670Z"
   },
   {
    "duration": 60,
    "start_time": "2024-03-24T21:45:43.887Z"
   },
   {
    "duration": 8,
    "start_time": "2024-03-24T21:45:43.949Z"
   },
   {
    "duration": 18,
    "start_time": "2024-03-24T21:45:43.958Z"
   },
   {
    "duration": 19,
    "start_time": "2024-03-24T21:45:43.977Z"
   },
   {
    "duration": 98,
    "start_time": "2024-03-24T21:45:43.997Z"
   },
   {
    "duration": 7,
    "start_time": "2024-03-24T21:45:44.096Z"
   },
   {
    "duration": 31,
    "start_time": "2024-03-24T21:45:44.104Z"
   },
   {
    "duration": 16,
    "start_time": "2024-03-24T21:45:44.136Z"
   },
   {
    "duration": 203,
    "start_time": "2024-03-24T21:45:44.154Z"
   },
   {
    "duration": 198,
    "start_time": "2024-03-24T21:45:44.359Z"
   },
   {
    "duration": 22,
    "start_time": "2024-03-24T21:45:44.558Z"
   },
   {
    "duration": 235,
    "start_time": "2024-03-24T21:45:44.582Z"
   },
   {
    "duration": 25,
    "start_time": "2024-03-24T21:45:44.818Z"
   },
   {
    "duration": 23,
    "start_time": "2024-03-24T21:45:44.845Z"
   },
   {
    "duration": 77,
    "start_time": "2024-03-24T21:45:44.894Z"
   },
   {
    "duration": 16,
    "start_time": "2024-03-24T21:45:44.972Z"
   },
   {
    "duration": 56,
    "start_time": "2024-03-24T21:45:44.990Z"
   },
   {
    "duration": 64,
    "start_time": "2024-03-24T21:45:45.048Z"
   },
   {
    "duration": 19,
    "start_time": "2024-03-24T21:45:45.113Z"
   },
   {
    "duration": 50,
    "start_time": "2024-03-24T21:45:45.134Z"
   },
   {
    "duration": 117,
    "start_time": "2024-03-24T21:45:45.185Z"
   },
   {
    "duration": 94,
    "start_time": "2024-03-24T21:45:45.306Z"
   },
   {
    "duration": 112,
    "start_time": "2024-03-24T21:45:45.402Z"
   },
   {
    "duration": 78,
    "start_time": "2024-03-24T21:45:45.516Z"
   },
   {
    "duration": 77,
    "start_time": "2024-03-24T21:45:45.595Z"
   },
   {
    "duration": 5,
    "start_time": "2024-03-24T21:45:45.673Z"
   },
   {
    "duration": 20,
    "start_time": "2024-03-24T21:45:45.680Z"
   },
   {
    "duration": 24,
    "start_time": "2024-03-24T21:45:45.701Z"
   },
   {
    "duration": 7,
    "start_time": "2024-03-24T21:45:45.726Z"
   },
   {
    "duration": 11,
    "start_time": "2024-03-24T21:45:45.734Z"
   },
   {
    "duration": 19,
    "start_time": "2024-03-24T21:45:45.746Z"
   },
   {
    "duration": 17,
    "start_time": "2024-03-24T21:45:45.766Z"
   },
   {
    "duration": 1426,
    "start_time": "2024-03-26T15:09:00.086Z"
   },
   {
    "duration": 423,
    "start_time": "2024-03-26T15:09:01.514Z"
   },
   {
    "duration": 16,
    "start_time": "2024-03-26T15:09:01.939Z"
   },
   {
    "duration": 347,
    "start_time": "2024-03-26T15:09:01.957Z"
   },
   {
    "duration": 109,
    "start_time": "2024-03-26T15:09:02.305Z"
   },
   {
    "duration": 99,
    "start_time": "2024-03-26T15:09:02.415Z"
   },
   {
    "duration": 199,
    "start_time": "2024-03-26T15:09:02.516Z"
   },
   {
    "duration": 26,
    "start_time": "2024-03-26T15:09:02.716Z"
   },
   {
    "duration": 76,
    "start_time": "2024-03-26T15:09:02.745Z"
   },
   {
    "duration": 7,
    "start_time": "2024-03-26T15:09:02.824Z"
   },
   {
    "duration": 61,
    "start_time": "2024-03-26T15:09:02.832Z"
   },
   {
    "duration": 89,
    "start_time": "2024-03-26T15:09:02.895Z"
   },
   {
    "duration": 444,
    "start_time": "2024-03-26T15:09:02.986Z"
   },
   {
    "duration": 294,
    "start_time": "2024-03-26T15:09:03.432Z"
   },
   {
    "duration": 19,
    "start_time": "2024-03-26T15:09:03.728Z"
   },
   {
    "duration": 22,
    "start_time": "2024-03-26T15:09:03.749Z"
   },
   {
    "duration": 373,
    "start_time": "2024-03-26T15:09:03.772Z"
   },
   {
    "duration": 25,
    "start_time": "2024-03-26T15:09:04.146Z"
   },
   {
    "duration": 253,
    "start_time": "2024-03-26T15:09:04.172Z"
   },
   {
    "duration": 69,
    "start_time": "2024-03-26T15:09:04.426Z"
   },
   {
    "duration": 8,
    "start_time": "2024-03-26T15:09:04.496Z"
   },
   {
    "duration": 17,
    "start_time": "2024-03-26T15:09:04.523Z"
   },
   {
    "duration": 11,
    "start_time": "2024-03-26T15:09:04.542Z"
   },
   {
    "duration": 115,
    "start_time": "2024-03-26T15:09:04.555Z"
   },
   {
    "duration": 7,
    "start_time": "2024-03-26T15:09:04.672Z"
   },
   {
    "duration": 22,
    "start_time": "2024-03-26T15:09:04.681Z"
   },
   {
    "duration": 34,
    "start_time": "2024-03-26T15:09:04.705Z"
   },
   {
    "duration": 251,
    "start_time": "2024-03-26T15:09:04.742Z"
   },
   {
    "duration": 238,
    "start_time": "2024-03-26T15:09:04.994Z"
   },
   {
    "duration": 25,
    "start_time": "2024-03-26T15:09:05.234Z"
   },
   {
    "duration": 281,
    "start_time": "2024-03-26T15:09:05.261Z"
   },
   {
    "duration": 29,
    "start_time": "2024-03-26T15:09:05.543Z"
   },
   {
    "duration": 50,
    "start_time": "2024-03-26T15:09:05.574Z"
   },
   {
    "duration": 96,
    "start_time": "2024-03-26T15:09:05.627Z"
   },
   {
    "duration": 106,
    "start_time": "2024-03-26T15:09:05.725Z"
   },
   {
    "duration": 58,
    "start_time": "2024-03-26T15:09:05.833Z"
   },
   {
    "duration": 28,
    "start_time": "2024-03-26T15:09:05.893Z"
   },
   {
    "duration": 5,
    "start_time": "2024-03-26T15:09:05.923Z"
   },
   {
    "duration": 71,
    "start_time": "2024-03-26T15:09:05.930Z"
   },
   {
    "duration": 32,
    "start_time": "2024-03-26T15:09:06.003Z"
   },
   {
    "duration": 45,
    "start_time": "2024-03-26T15:09:06.036Z"
   },
   {
    "duration": 95,
    "start_time": "2024-03-26T15:09:06.083Z"
   },
   {
    "duration": 94,
    "start_time": "2024-03-26T15:09:06.179Z"
   },
   {
    "duration": 88,
    "start_time": "2024-03-26T15:09:06.275Z"
   },
   {
    "duration": 4,
    "start_time": "2024-03-26T15:09:06.365Z"
   },
   {
    "duration": 37,
    "start_time": "2024-03-26T15:09:06.371Z"
   },
   {
    "duration": 27,
    "start_time": "2024-03-26T15:09:06.410Z"
   },
   {
    "duration": 27,
    "start_time": "2024-03-26T15:09:06.439Z"
   },
   {
    "duration": 9,
    "start_time": "2024-03-26T15:09:06.468Z"
   },
   {
    "duration": 54,
    "start_time": "2024-03-26T15:09:06.479Z"
   },
   {
    "duration": 21,
    "start_time": "2024-03-26T15:09:06.535Z"
   },
   {
    "duration": 13,
    "start_time": "2024-03-26T15:22:00.604Z"
   },
   {
    "duration": 114,
    "start_time": "2024-03-26T15:22:30.353Z"
   },
   {
    "duration": 12,
    "start_time": "2024-03-26T15:22:44.039Z"
   },
   {
    "duration": 11,
    "start_time": "2024-03-26T15:23:13.220Z"
   },
   {
    "duration": 11,
    "start_time": "2024-03-26T15:23:23.084Z"
   },
   {
    "duration": 10,
    "start_time": "2024-03-26T15:23:54.087Z"
   },
   {
    "duration": 11,
    "start_time": "2024-03-26T15:24:09.279Z"
   },
   {
    "duration": 11,
    "start_time": "2024-03-26T15:24:45.572Z"
   },
   {
    "duration": 62,
    "start_time": "2024-03-26T15:46:54.320Z"
   },
   {
    "duration": 25,
    "start_time": "2024-03-26T15:47:11.082Z"
   },
   {
    "duration": 14,
    "start_time": "2024-03-26T15:47:58.547Z"
   },
   {
    "duration": 12,
    "start_time": "2024-03-26T15:50:43.335Z"
   },
   {
    "duration": 5,
    "start_time": "2024-03-26T15:50:55.727Z"
   },
   {
    "duration": 1081,
    "start_time": "2024-03-26T15:50:58.791Z"
   },
   {
    "duration": 4,
    "start_time": "2024-03-26T15:51:12.695Z"
   },
   {
    "duration": 301,
    "start_time": "2024-03-26T15:51:12.701Z"
   },
   {
    "duration": 19,
    "start_time": "2024-03-26T15:51:13.004Z"
   },
   {
    "duration": 37,
    "start_time": "2024-03-26T15:51:13.025Z"
   },
   {
    "duration": 18,
    "start_time": "2024-03-26T15:51:13.063Z"
   },
   {
    "duration": 7,
    "start_time": "2024-03-26T15:51:13.082Z"
   },
   {
    "duration": 147,
    "start_time": "2024-03-26T15:51:13.090Z"
   },
   {
    "duration": 24,
    "start_time": "2024-03-26T15:51:13.238Z"
   },
   {
    "duration": 11,
    "start_time": "2024-03-26T15:51:13.265Z"
   },
   {
    "duration": 12,
    "start_time": "2024-03-26T15:51:13.278Z"
   },
   {
    "duration": 40,
    "start_time": "2024-03-26T15:51:13.291Z"
   },
   {
    "duration": 49,
    "start_time": "2024-03-26T15:51:13.333Z"
   },
   {
    "duration": 5,
    "start_time": "2024-03-26T15:51:27.013Z"
   },
   {
    "duration": 25,
    "start_time": "2024-03-26T15:51:31.536Z"
   },
   {
    "duration": 23,
    "start_time": "2024-03-26T15:51:45.696Z"
   },
   {
    "duration": 19,
    "start_time": "2024-03-26T15:52:14.771Z"
   },
   {
    "duration": 15,
    "start_time": "2024-03-26T15:54:01.364Z"
   },
   {
    "duration": 21,
    "start_time": "2024-03-26T15:55:01.505Z"
   },
   {
    "duration": 15,
    "start_time": "2024-03-26T15:55:18.467Z"
   },
   {
    "duration": 174,
    "start_time": "2024-03-26T15:55:33.864Z"
   },
   {
    "duration": 199,
    "start_time": "2024-03-26T15:56:01.482Z"
   },
   {
    "duration": 174,
    "start_time": "2024-03-26T15:56:57.932Z"
   },
   {
    "duration": 186,
    "start_time": "2024-03-26T15:57:04.685Z"
   },
   {
    "duration": 209,
    "start_time": "2024-03-26T15:57:16.003Z"
   },
   {
    "duration": 207,
    "start_time": "2024-03-26T15:57:39.481Z"
   },
   {
    "duration": 229,
    "start_time": "2024-03-26T15:57:49.936Z"
   },
   {
    "duration": 205,
    "start_time": "2024-03-26T15:58:12.367Z"
   },
   {
    "duration": 58,
    "start_time": "2024-03-26T16:08:09.316Z"
   },
   {
    "duration": 73,
    "start_time": "2024-03-26T16:08:31.654Z"
   },
   {
    "duration": 4,
    "start_time": "2024-03-26T16:08:51.049Z"
   },
   {
    "duration": 22,
    "start_time": "2024-03-26T16:08:57.055Z"
   },
   {
    "duration": 4,
    "start_time": "2024-03-26T16:09:57.944Z"
   },
   {
    "duration": 5,
    "start_time": "2024-03-26T16:10:41.746Z"
   },
   {
    "duration": 5,
    "start_time": "2024-03-26T16:10:52.940Z"
   },
   {
    "duration": 5,
    "start_time": "2024-03-26T16:11:00.243Z"
   },
   {
    "duration": 5,
    "start_time": "2024-03-26T16:11:30.714Z"
   },
   {
    "duration": 23,
    "start_time": "2024-03-26T16:13:43.137Z"
   },
   {
    "duration": 22,
    "start_time": "2024-03-26T16:13:44.320Z"
   },
   {
    "duration": 23,
    "start_time": "2024-03-26T16:14:51.445Z"
   },
   {
    "duration": 25,
    "start_time": "2024-03-26T16:14:59.404Z"
   },
   {
    "duration": 24,
    "start_time": "2024-03-26T16:15:05.919Z"
   },
   {
    "duration": 23,
    "start_time": "2024-03-26T16:15:06.615Z"
   },
   {
    "duration": 12,
    "start_time": "2024-03-26T16:16:32.302Z"
   },
   {
    "duration": 23,
    "start_time": "2024-03-26T16:16:56.608Z"
   },
   {
    "duration": 31,
    "start_time": "2024-03-26T16:17:46.242Z"
   },
   {
    "duration": 5,
    "start_time": "2024-03-26T16:18:41.668Z"
   },
   {
    "duration": 5,
    "start_time": "2024-03-26T16:19:00.571Z"
   },
   {
    "duration": 25,
    "start_time": "2024-03-26T16:21:19.752Z"
   },
   {
    "duration": 26,
    "start_time": "2024-03-26T16:21:46.104Z"
   },
   {
    "duration": 28,
    "start_time": "2024-03-26T16:22:50.742Z"
   },
   {
    "duration": 10,
    "start_time": "2024-03-26T16:23:14.225Z"
   },
   {
    "duration": 26,
    "start_time": "2024-03-26T16:23:20.320Z"
   },
   {
    "duration": 4,
    "start_time": "2024-03-26T16:23:23.866Z"
   },
   {
    "duration": 5,
    "start_time": "2024-03-26T16:23:34.600Z"
   },
   {
    "duration": 5,
    "start_time": "2024-03-26T16:24:21.798Z"
   },
   {
    "duration": 4,
    "start_time": "2024-03-26T16:27:40.580Z"
   },
   {
    "duration": 15,
    "start_time": "2024-03-26T16:44:30.245Z"
   },
   {
    "duration": 12,
    "start_time": "2024-03-26T16:46:29.887Z"
   },
   {
    "duration": 15,
    "start_time": "2024-03-26T16:46:58.234Z"
   },
   {
    "duration": 2,
    "start_time": "2024-03-26T16:48:34.702Z"
   },
   {
    "duration": 69,
    "start_time": "2024-03-26T16:49:22.606Z"
   },
   {
    "duration": 12,
    "start_time": "2024-03-26T16:50:45.256Z"
   },
   {
    "duration": 1412,
    "start_time": "2024-03-27T13:58:08.622Z"
   },
   {
    "duration": 418,
    "start_time": "2024-03-27T13:58:10.037Z"
   },
   {
    "duration": 15,
    "start_time": "2024-03-27T13:58:10.457Z"
   },
   {
    "duration": 25,
    "start_time": "2024-03-27T13:58:10.474Z"
   },
   {
    "duration": 35,
    "start_time": "2024-03-27T13:58:10.502Z"
   },
   {
    "duration": 3,
    "start_time": "2024-03-27T13:58:10.539Z"
   },
   {
    "duration": 161,
    "start_time": "2024-03-27T13:58:10.544Z"
   },
   {
    "duration": 41,
    "start_time": "2024-03-27T13:58:10.707Z"
   },
   {
    "duration": 16,
    "start_time": "2024-03-27T13:58:10.750Z"
   },
   {
    "duration": 13,
    "start_time": "2024-03-27T13:58:10.768Z"
   },
   {
    "duration": 10,
    "start_time": "2024-03-27T13:58:10.782Z"
   },
   {
    "duration": 73,
    "start_time": "2024-03-27T13:58:10.822Z"
   },
   {
    "duration": 6,
    "start_time": "2024-03-27T13:58:10.897Z"
   },
   {
    "duration": 26,
    "start_time": "2024-03-27T13:58:10.906Z"
   },
   {
    "duration": 218,
    "start_time": "2024-03-27T13:58:10.934Z"
   },
   {
    "duration": 4,
    "start_time": "2024-03-27T13:58:11.154Z"
   },
   {
    "duration": 6,
    "start_time": "2024-03-27T13:58:11.160Z"
   },
   {
    "duration": 397,
    "start_time": "2024-03-27T13:58:11.167Z"
   },
   {
    "duration": 280,
    "start_time": "2024-03-27T13:58:11.565Z"
   },
   {
    "duration": 19,
    "start_time": "2024-03-27T13:58:11.847Z"
   },
   {
    "duration": 20,
    "start_time": "2024-03-27T13:58:11.868Z"
   },
   {
    "duration": 320,
    "start_time": "2024-03-27T13:58:11.890Z"
   },
   {
    "duration": 34,
    "start_time": "2024-03-27T13:58:12.212Z"
   },
   {
    "duration": 28,
    "start_time": "2024-03-27T13:58:12.248Z"
   },
   {
    "duration": 7,
    "start_time": "2024-03-27T13:58:12.278Z"
   },
   {
    "duration": 272,
    "start_time": "2024-03-27T13:58:12.287Z"
   },
   {
    "duration": 75,
    "start_time": "2024-03-27T13:58:12.560Z"
   },
   {
    "duration": 3,
    "start_time": "2024-03-27T13:58:12.637Z"
   },
   {
    "duration": 28,
    "start_time": "2024-03-27T13:58:12.642Z"
   },
   {
    "duration": 13,
    "start_time": "2024-03-27T13:58:12.672Z"
   },
   {
    "duration": 30,
    "start_time": "2024-03-27T13:58:12.686Z"
   },
   {
    "duration": 105,
    "start_time": "2024-03-27T13:58:12.718Z"
   },
   {
    "duration": 9,
    "start_time": "2024-03-27T13:58:12.825Z"
   },
   {
    "duration": 50,
    "start_time": "2024-03-27T13:58:12.836Z"
   },
   {
    "duration": 21,
    "start_time": "2024-03-27T13:58:12.889Z"
   },
   {
    "duration": 243,
    "start_time": "2024-03-27T13:58:12.912Z"
   },
   {
    "duration": 224,
    "start_time": "2024-03-27T13:58:13.157Z"
   },
   {
    "duration": 27,
    "start_time": "2024-03-27T13:58:13.383Z"
   },
   {
    "duration": 334,
    "start_time": "2024-03-27T13:58:13.422Z"
   },
   {
    "duration": 27,
    "start_time": "2024-03-27T13:58:13.758Z"
   },
   {
    "duration": 44,
    "start_time": "2024-03-27T13:58:13.789Z"
   },
   {
    "duration": 6,
    "start_time": "2024-03-27T13:58:13.834Z"
   },
   {
    "duration": 18,
    "start_time": "2024-03-27T13:58:13.842Z"
   },
   {
    "duration": 28,
    "start_time": "2024-03-27T13:58:13.862Z"
   },
   {
    "duration": 33,
    "start_time": "2024-03-27T13:58:13.891Z"
   },
   {
    "duration": 6,
    "start_time": "2024-03-27T13:58:13.926Z"
   },
   {
    "duration": 23,
    "start_time": "2024-03-27T13:58:13.934Z"
   },
   {
    "duration": 25,
    "start_time": "2024-03-27T13:58:13.958Z"
   },
   {
    "duration": 70,
    "start_time": "2024-03-27T13:58:13.985Z"
   },
   {
    "duration": 103,
    "start_time": "2024-03-27T13:58:14.057Z"
   },
   {
    "duration": 106,
    "start_time": "2024-03-27T13:58:14.162Z"
   },
   {
    "duration": 90,
    "start_time": "2024-03-27T13:58:14.270Z"
   },
   {
    "duration": 5,
    "start_time": "2024-03-27T13:58:14.362Z"
   },
   {
    "duration": 6,
    "start_time": "2024-03-27T13:58:14.370Z"
   },
   {
    "duration": 6,
    "start_time": "2024-03-27T13:58:14.378Z"
   },
   {
    "duration": 37,
    "start_time": "2024-03-27T13:58:14.386Z"
   },
   {
    "duration": 5,
    "start_time": "2024-03-27T13:58:14.426Z"
   },
   {
    "duration": 18,
    "start_time": "2024-03-27T13:58:14.433Z"
   },
   {
    "duration": 8,
    "start_time": "2024-03-27T13:58:14.453Z"
   },
   {
    "duration": 25,
    "start_time": "2024-03-27T14:00:03.653Z"
   },
   {
    "duration": 35,
    "start_time": "2024-03-27T14:00:11.677Z"
   },
   {
    "duration": 70,
    "start_time": "2024-03-27T14:01:42.823Z"
   },
   {
    "duration": 63,
    "start_time": "2024-03-27T14:09:52.420Z"
   },
   {
    "duration": 62,
    "start_time": "2024-03-27T14:40:38.350Z"
   },
   {
    "duration": 4,
    "start_time": "2024-03-27T15:45:14.623Z"
   },
   {
    "duration": 2,
    "start_time": "2024-03-27T15:45:32.190Z"
   },
   {
    "duration": 3,
    "start_time": "2024-03-27T15:45:42.011Z"
   },
   {
    "duration": 3,
    "start_time": "2024-03-27T15:45:50.790Z"
   },
   {
    "duration": 37,
    "start_time": "2024-03-27T15:46:54.934Z"
   },
   {
    "duration": 32,
    "start_time": "2024-03-27T15:46:55.859Z"
   },
   {
    "duration": 61,
    "start_time": "2024-03-27T15:46:57.886Z"
   },
   {
    "duration": 3,
    "start_time": "2024-03-27T15:49:38.134Z"
   },
   {
    "duration": 4,
    "start_time": "2024-03-27T15:49:42.542Z"
   },
   {
    "duration": 3,
    "start_time": "2024-03-27T15:49:47.490Z"
   },
   {
    "duration": 3,
    "start_time": "2024-03-27T15:49:51.971Z"
   },
   {
    "duration": 2,
    "start_time": "2024-03-27T15:49:57.919Z"
   },
   {
    "duration": 2,
    "start_time": "2024-03-27T15:50:02.688Z"
   },
   {
    "duration": 4,
    "start_time": "2024-03-27T15:50:06.339Z"
   },
   {
    "duration": 119,
    "start_time": "2024-03-27T16:02:58.878Z"
   },
   {
    "duration": 65,
    "start_time": "2024-03-27T16:14:18.725Z"
   },
   {
    "duration": 33,
    "start_time": "2024-03-27T16:15:00.461Z"
   },
   {
    "duration": 1006,
    "start_time": "2024-03-27T16:18:08.180Z"
   },
   {
    "duration": 67,
    "start_time": "2024-03-27T16:19:08.347Z"
   },
   {
    "duration": 89,
    "start_time": "2024-03-27T16:19:38.018Z"
   },
   {
    "duration": 287,
    "start_time": "2024-03-27T16:20:11.417Z"
   },
   {
    "duration": 65,
    "start_time": "2024-03-27T16:20:51.134Z"
   },
   {
    "duration": 69,
    "start_time": "2024-03-27T16:21:45.729Z"
   },
   {
    "duration": 65,
    "start_time": "2024-03-27T16:23:25.334Z"
   },
   {
    "duration": 68,
    "start_time": "2024-03-27T16:24:00.315Z"
   },
   {
    "duration": 55,
    "start_time": "2024-03-27T16:24:23.437Z"
   },
   {
    "duration": 61,
    "start_time": "2024-03-27T16:24:35.022Z"
   },
   {
    "duration": 64,
    "start_time": "2024-03-27T16:25:14.301Z"
   },
   {
    "duration": 57,
    "start_time": "2024-03-27T16:25:34.134Z"
   },
   {
    "duration": 15,
    "start_time": "2024-03-27T16:26:15.364Z"
   },
   {
    "duration": 18,
    "start_time": "2024-03-27T16:29:14.337Z"
   },
   {
    "duration": 97,
    "start_time": "2024-03-27T16:29:54.826Z"
   },
   {
    "duration": 62,
    "start_time": "2024-03-27T16:30:36.492Z"
   },
   {
    "duration": 64,
    "start_time": "2024-03-27T16:30:51.093Z"
   },
   {
    "duration": 85,
    "start_time": "2024-03-27T16:31:20.545Z"
   },
   {
    "duration": 62,
    "start_time": "2024-03-27T16:32:04.101Z"
   },
   {
    "duration": 60,
    "start_time": "2024-03-27T16:32:27.026Z"
   },
   {
    "duration": 85,
    "start_time": "2024-03-27T16:32:50.416Z"
   },
   {
    "duration": 90,
    "start_time": "2024-03-27T16:35:01.363Z"
   },
   {
    "duration": 66,
    "start_time": "2024-03-27T16:36:38.367Z"
   },
   {
    "duration": 67,
    "start_time": "2024-03-27T16:37:02.636Z"
   },
   {
    "duration": 65,
    "start_time": "2024-03-27T16:37:19.483Z"
   },
   {
    "duration": 72,
    "start_time": "2024-03-27T16:37:26.495Z"
   },
   {
    "duration": 296,
    "start_time": "2024-03-27T16:37:59.783Z"
   },
   {
    "duration": 93,
    "start_time": "2024-03-27T16:38:38.072Z"
   },
   {
    "duration": 346,
    "start_time": "2024-03-27T16:38:57.351Z"
   },
   {
    "duration": 257,
    "start_time": "2024-03-27T16:39:20.176Z"
   },
   {
    "duration": 259,
    "start_time": "2024-03-27T16:39:49.966Z"
   },
   {
    "duration": 261,
    "start_time": "2024-03-27T16:41:35.906Z"
   },
   {
    "duration": 91,
    "start_time": "2024-03-27T16:42:24.644Z"
   },
   {
    "duration": 232,
    "start_time": "2024-03-27T16:42:25.978Z"
   },
   {
    "duration": 57,
    "start_time": "2024-03-27T16:43:50.700Z"
   },
   {
    "duration": 226,
    "start_time": "2024-03-27T16:43:51.796Z"
   },
   {
    "duration": 209,
    "start_time": "2024-03-27T16:45:00.318Z"
   },
   {
    "duration": 6,
    "start_time": "2024-03-27T16:45:48.264Z"
   },
   {
    "duration": 246,
    "start_time": "2024-03-27T16:59:15.918Z"
   },
   {
    "duration": 20,
    "start_time": "2024-03-27T16:59:50.750Z"
   },
   {
    "duration": 3,
    "start_time": "2024-03-27T17:00:15.854Z"
   },
   {
    "duration": 16,
    "start_time": "2024-03-27T17:00:26.616Z"
   },
   {
    "duration": 17,
    "start_time": "2024-03-27T17:01:11.553Z"
   },
   {
    "duration": 3,
    "start_time": "2024-03-27T17:01:19.990Z"
   },
   {
    "duration": 288,
    "start_time": "2024-03-27T17:01:19.996Z"
   },
   {
    "duration": 10,
    "start_time": "2024-03-27T17:01:20.286Z"
   },
   {
    "duration": 60,
    "start_time": "2024-03-27T17:01:20.298Z"
   },
   {
    "duration": 34,
    "start_time": "2024-03-27T17:01:20.360Z"
   },
   {
    "duration": 27,
    "start_time": "2024-03-27T17:01:20.395Z"
   },
   {
    "duration": 152,
    "start_time": "2024-03-27T17:01:20.424Z"
   },
   {
    "duration": 23,
    "start_time": "2024-03-27T17:01:20.577Z"
   },
   {
    "duration": 24,
    "start_time": "2024-03-27T17:01:20.603Z"
   },
   {
    "duration": 10,
    "start_time": "2024-03-27T17:01:20.628Z"
   },
   {
    "duration": 10,
    "start_time": "2024-03-27T17:01:20.640Z"
   },
   {
    "duration": 84,
    "start_time": "2024-03-27T17:01:20.652Z"
   },
   {
    "duration": 7,
    "start_time": "2024-03-27T17:01:20.738Z"
   },
   {
    "duration": 29,
    "start_time": "2024-03-27T17:01:20.746Z"
   },
   {
    "duration": 243,
    "start_time": "2024-03-27T17:01:20.777Z"
   },
   {
    "duration": 5,
    "start_time": "2024-03-27T17:01:21.024Z"
   },
   {
    "duration": 13,
    "start_time": "2024-03-27T17:01:21.031Z"
   },
   {
    "duration": 401,
    "start_time": "2024-03-27T17:01:21.046Z"
   },
   {
    "duration": 290,
    "start_time": "2024-03-27T17:01:21.448Z"
   },
   {
    "duration": 19,
    "start_time": "2024-03-27T17:01:21.739Z"
   },
   {
    "duration": 20,
    "start_time": "2024-03-27T17:01:21.759Z"
   },
   {
    "duration": 297,
    "start_time": "2024-03-27T17:01:21.781Z"
   },
   {
    "duration": 24,
    "start_time": "2024-03-27T17:01:22.079Z"
   },
   {
    "duration": 23,
    "start_time": "2024-03-27T17:01:22.122Z"
   },
   {
    "duration": 4,
    "start_time": "2024-03-27T17:01:22.147Z"
   },
   {
    "duration": 316,
    "start_time": "2024-03-27T17:01:22.152Z"
   },
   {
    "duration": 71,
    "start_time": "2024-03-27T17:01:22.470Z"
   },
   {
    "duration": 2,
    "start_time": "2024-03-27T17:01:22.543Z"
   },
   {
    "duration": 16,
    "start_time": "2024-03-27T17:01:22.546Z"
   },
   {
    "duration": 9,
    "start_time": "2024-03-27T17:01:22.563Z"
   },
   {
    "duration": 6,
    "start_time": "2024-03-27T17:01:22.574Z"
   },
   {
    "duration": 152,
    "start_time": "2024-03-27T17:01:22.581Z"
   },
   {
    "duration": 31,
    "start_time": "2024-03-27T17:01:22.734Z"
   },
   {
    "duration": 22,
    "start_time": "2024-03-27T17:01:22.766Z"
   },
   {
    "duration": 40,
    "start_time": "2024-03-27T17:01:22.789Z"
   },
   {
    "duration": 216,
    "start_time": "2024-03-27T17:01:22.831Z"
   },
   {
    "duration": 221,
    "start_time": "2024-03-27T17:01:23.049Z"
   },
   {
    "duration": 21,
    "start_time": "2024-03-27T17:01:23.271Z"
   },
   {
    "duration": 268,
    "start_time": "2024-03-27T17:01:23.294Z"
   },
   {
    "duration": 29,
    "start_time": "2024-03-27T17:01:23.564Z"
   },
   {
    "duration": 52,
    "start_time": "2024-03-27T17:01:23.596Z"
   },
   {
    "duration": 8,
    "start_time": "2024-03-27T17:01:23.651Z"
   },
   {
    "duration": 28,
    "start_time": "2024-03-27T17:01:23.661Z"
   },
   {
    "duration": 35,
    "start_time": "2024-03-27T17:01:23.691Z"
   },
   {
    "duration": 27,
    "start_time": "2024-03-27T17:01:23.728Z"
   },
   {
    "duration": 3,
    "start_time": "2024-03-27T17:01:23.757Z"
   },
   {
    "duration": 98,
    "start_time": "2024-03-27T17:01:23.761Z"
   },
   {
    "duration": 6,
    "start_time": "2024-03-27T17:01:23.861Z"
   },
   {
    "duration": 253,
    "start_time": "2024-03-27T17:01:26.998Z"
   },
   {
    "duration": 10,
    "start_time": "2024-03-27T17:01:29.392Z"
   },
   {
    "duration": 8,
    "start_time": "2024-03-27T17:02:25.067Z"
   },
   {
    "duration": 9,
    "start_time": "2024-03-27T17:02:45.637Z"
   },
   {
    "duration": 21,
    "start_time": "2024-03-27T17:03:17.351Z"
   },
   {
    "duration": 5,
    "start_time": "2024-03-27T17:04:58.727Z"
   },
   {
    "duration": 249,
    "start_time": "2024-03-27T17:04:59.402Z"
   },
   {
    "duration": 222,
    "start_time": "2024-03-27T17:05:31.023Z"
   },
   {
    "duration": 37,
    "start_time": "2024-03-27T17:05:32.786Z"
   },
   {
    "duration": 10,
    "start_time": "2024-03-27T17:05:34.402Z"
   },
   {
    "duration": 36,
    "start_time": "2024-03-27T17:06:32.288Z"
   },
   {
    "duration": 10,
    "start_time": "2024-03-27T17:06:34.803Z"
   },
   {
    "duration": 38,
    "start_time": "2024-03-27T17:07:08.052Z"
   },
   {
    "duration": 13,
    "start_time": "2024-03-27T17:07:09.504Z"
   },
   {
    "duration": 54,
    "start_time": "2024-03-27T17:09:11.376Z"
   },
   {
    "duration": 200,
    "start_time": "2024-03-27T17:09:38.703Z"
   },
   {
    "duration": 12,
    "start_time": "2024-03-27T17:16:45.165Z"
   },
   {
    "duration": 12,
    "start_time": "2024-03-27T17:17:00.393Z"
   },
   {
    "duration": 40,
    "start_time": "2024-03-27T17:17:57.233Z"
   },
   {
    "duration": 10,
    "start_time": "2024-03-27T17:18:05.772Z"
   },
   {
    "duration": 8,
    "start_time": "2024-03-27T17:18:29.594Z"
   },
   {
    "duration": 17,
    "start_time": "2024-03-27T17:18:41.328Z"
   },
   {
    "duration": 8,
    "start_time": "2024-03-27T17:19:35.295Z"
   },
   {
    "duration": 10,
    "start_time": "2024-03-27T17:25:41.905Z"
   },
   {
    "duration": 10,
    "start_time": "2024-03-27T17:26:09.679Z"
   },
   {
    "duration": 12,
    "start_time": "2024-03-27T17:26:45.630Z"
   },
   {
    "duration": 14,
    "start_time": "2024-03-27T17:27:18.934Z"
   },
   {
    "duration": 1361,
    "start_time": "2024-03-27T17:34:08.688Z"
   },
   {
    "duration": 334,
    "start_time": "2024-03-27T17:34:10.051Z"
   },
   {
    "duration": 14,
    "start_time": "2024-03-27T17:34:10.387Z"
   },
   {
    "duration": 59,
    "start_time": "2024-03-27T17:34:10.403Z"
   },
   {
    "duration": 19,
    "start_time": "2024-03-27T17:34:10.464Z"
   },
   {
    "duration": 28,
    "start_time": "2024-03-27T17:34:10.484Z"
   },
   {
    "duration": 153,
    "start_time": "2024-03-27T17:34:10.513Z"
   },
   {
    "duration": 23,
    "start_time": "2024-03-27T17:34:10.668Z"
   },
   {
    "duration": 31,
    "start_time": "2024-03-27T17:34:10.692Z"
   },
   {
    "duration": 20,
    "start_time": "2024-03-27T17:34:10.732Z"
   },
   {
    "duration": 12,
    "start_time": "2024-03-27T17:34:10.754Z"
   },
   {
    "duration": 89,
    "start_time": "2024-03-27T17:34:10.767Z"
   },
   {
    "duration": 6,
    "start_time": "2024-03-27T17:34:10.858Z"
   },
   {
    "duration": 34,
    "start_time": "2024-03-27T17:34:10.866Z"
   },
   {
    "duration": 256,
    "start_time": "2024-03-27T17:34:10.923Z"
   },
   {
    "duration": 5,
    "start_time": "2024-03-27T17:34:11.181Z"
   },
   {
    "duration": 21,
    "start_time": "2024-03-27T17:34:11.188Z"
   },
   {
    "duration": 412,
    "start_time": "2024-03-27T17:34:11.211Z"
   },
   {
    "duration": 308,
    "start_time": "2024-03-27T17:34:11.625Z"
   },
   {
    "duration": 25,
    "start_time": "2024-03-27T17:34:11.935Z"
   },
   {
    "duration": 20,
    "start_time": "2024-03-27T17:34:11.961Z"
   },
   {
    "duration": 367,
    "start_time": "2024-03-27T17:34:11.982Z"
   },
   {
    "duration": 30,
    "start_time": "2024-03-27T17:34:12.351Z"
   },
   {
    "duration": 24,
    "start_time": "2024-03-27T17:34:12.382Z"
   },
   {
    "duration": 5,
    "start_time": "2024-03-27T17:34:12.407Z"
   },
   {
    "duration": 258,
    "start_time": "2024-03-27T17:34:12.424Z"
   },
   {
    "duration": 76,
    "start_time": "2024-03-27T17:34:12.684Z"
   },
   {
    "duration": 2,
    "start_time": "2024-03-27T17:34:12.765Z"
   },
   {
    "duration": 16,
    "start_time": "2024-03-27T17:34:12.769Z"
   },
   {
    "duration": 10,
    "start_time": "2024-03-27T17:34:12.787Z"
   },
   {
    "duration": 8,
    "start_time": "2024-03-27T17:34:12.824Z"
   },
   {
    "duration": 131,
    "start_time": "2024-03-27T17:34:12.835Z"
   },
   {
    "duration": 29,
    "start_time": "2024-03-27T17:34:12.968Z"
   },
   {
    "duration": 51,
    "start_time": "2024-03-27T17:34:12.999Z"
   },
   {
    "duration": 18,
    "start_time": "2024-03-27T17:34:13.052Z"
   },
   {
    "duration": 250,
    "start_time": "2024-03-27T17:34:13.072Z"
   },
   {
    "duration": 254,
    "start_time": "2024-03-27T17:34:13.324Z"
   },
   {
    "duration": 23,
    "start_time": "2024-03-27T17:34:13.580Z"
   },
   {
    "duration": 359,
    "start_time": "2024-03-27T17:34:13.604Z"
   },
   {
    "duration": 25,
    "start_time": "2024-03-27T17:34:13.965Z"
   },
   {
    "duration": 57,
    "start_time": "2024-03-27T17:34:13.992Z"
   },
   {
    "duration": 6,
    "start_time": "2024-03-27T17:34:14.051Z"
   },
   {
    "duration": 8,
    "start_time": "2024-03-27T17:34:14.058Z"
   },
   {
    "duration": 28,
    "start_time": "2024-03-27T17:34:14.067Z"
   },
   {
    "duration": 49,
    "start_time": "2024-03-27T17:34:14.097Z"
   },
   {
    "duration": 2,
    "start_time": "2024-03-27T17:34:14.148Z"
   },
   {
    "duration": 108,
    "start_time": "2024-03-27T17:34:14.152Z"
   },
   {
    "duration": 266,
    "start_time": "2024-03-27T17:34:14.262Z"
   },
   {
    "duration": 47,
    "start_time": "2024-03-27T17:34:14.532Z"
   },
   {
    "duration": 9,
    "start_time": "2024-03-27T17:34:14.580Z"
   },
   {
    "duration": 45,
    "start_time": "2024-03-27T17:34:14.591Z"
   },
   {
    "duration": 13,
    "start_time": "2024-03-27T17:34:14.638Z"
   },
   {
    "duration": 10,
    "start_time": "2024-03-27T17:34:14.653Z"
   },
   {
    "duration": 9,
    "start_time": "2024-03-27T17:34:14.664Z"
   },
   {
    "duration": 53,
    "start_time": "2024-03-27T17:34:14.675Z"
   },
   {
    "duration": 11,
    "start_time": "2024-03-27T17:34:14.730Z"
   },
   {
    "duration": 11,
    "start_time": "2024-03-27T17:34:14.743Z"
   },
   {
    "duration": 21,
    "start_time": "2024-03-27T17:34:14.755Z"
   },
   {
    "duration": 80,
    "start_time": "2024-03-27T17:34:14.778Z"
   },
   {
    "duration": 89,
    "start_time": "2024-03-27T17:34:14.861Z"
   },
   {
    "duration": 116,
    "start_time": "2024-03-27T17:34:14.952Z"
   },
   {
    "duration": 105,
    "start_time": "2024-03-27T17:34:15.070Z"
   },
   {
    "duration": 266,
    "start_time": "2024-03-27T17:34:15.177Z"
   },
   {
    "duration": 137,
    "start_time": "2024-03-27T17:34:15.445Z"
   },
   {
    "duration": 13,
    "start_time": "2024-03-27T17:34:15.584Z"
   },
   {
    "duration": 20,
    "start_time": "2024-03-27T17:34:15.599Z"
   },
   {
    "duration": 19,
    "start_time": "2024-03-27T17:34:15.621Z"
   },
   {
    "duration": 26,
    "start_time": "2024-03-27T17:34:15.642Z"
   },
   {
    "duration": 8,
    "start_time": "2024-03-27T17:34:15.669Z"
   },
   {
    "duration": 9,
    "start_time": "2024-03-27T17:34:15.679Z"
   },
   {
    "duration": 9,
    "start_time": "2024-03-27T17:35:43.062Z"
   },
   {
    "duration": 9,
    "start_time": "2024-03-27T17:35:47.092Z"
   },
   {
    "duration": 1442,
    "start_time": "2024-03-28T14:18:49.499Z"
   },
   {
    "duration": 402,
    "start_time": "2024-03-28T14:18:50.943Z"
   },
   {
    "duration": 13,
    "start_time": "2024-03-28T14:18:51.346Z"
   },
   {
    "duration": 31,
    "start_time": "2024-03-28T14:18:51.361Z"
   },
   {
    "duration": 24,
    "start_time": "2024-03-28T14:18:51.394Z"
   },
   {
    "duration": 26,
    "start_time": "2024-03-28T14:18:51.420Z"
   },
   {
    "duration": 138,
    "start_time": "2024-03-28T14:18:51.447Z"
   },
   {
    "duration": 32,
    "start_time": "2024-03-28T14:18:51.586Z"
   },
   {
    "duration": 21,
    "start_time": "2024-03-28T14:18:51.620Z"
   },
   {
    "duration": 16,
    "start_time": "2024-03-28T14:18:51.645Z"
   },
   {
    "duration": 29,
    "start_time": "2024-03-28T14:18:51.662Z"
   },
   {
    "duration": 55,
    "start_time": "2024-03-28T14:18:51.692Z"
   },
   {
    "duration": 5,
    "start_time": "2024-03-28T14:18:51.748Z"
   },
   {
    "duration": 34,
    "start_time": "2024-03-28T14:18:51.754Z"
   },
   {
    "duration": 204,
    "start_time": "2024-03-28T14:18:51.790Z"
   },
   {
    "duration": 9,
    "start_time": "2024-03-28T14:18:51.996Z"
   },
   {
    "duration": 17,
    "start_time": "2024-03-28T14:18:52.007Z"
   },
   {
    "duration": 355,
    "start_time": "2024-03-28T14:18:52.026Z"
   },
   {
    "duration": 253,
    "start_time": "2024-03-28T14:18:52.382Z"
   },
   {
    "duration": 16,
    "start_time": "2024-03-28T14:18:52.637Z"
   },
   {
    "duration": 36,
    "start_time": "2024-03-28T14:18:52.655Z"
   },
   {
    "duration": 273,
    "start_time": "2024-03-28T14:18:52.693Z"
   },
   {
    "duration": 25,
    "start_time": "2024-03-28T14:18:52.968Z"
   },
   {
    "duration": 65,
    "start_time": "2024-03-28T14:18:52.995Z"
   },
   {
    "duration": 5,
    "start_time": "2024-03-28T14:18:53.061Z"
   },
   {
    "duration": 214,
    "start_time": "2024-03-28T14:18:53.067Z"
   },
   {
    "duration": 63,
    "start_time": "2024-03-28T14:18:53.282Z"
   },
   {
    "duration": 3,
    "start_time": "2024-03-28T14:18:53.349Z"
   },
   {
    "duration": 25,
    "start_time": "2024-03-28T14:18:53.353Z"
   },
   {
    "duration": 12,
    "start_time": "2024-03-28T14:18:53.380Z"
   },
   {
    "duration": 19,
    "start_time": "2024-03-28T14:18:53.394Z"
   },
   {
    "duration": 104,
    "start_time": "2024-03-28T14:18:53.414Z"
   },
   {
    "duration": 27,
    "start_time": "2024-03-28T14:18:53.520Z"
   },
   {
    "duration": 20,
    "start_time": "2024-03-28T14:18:53.548Z"
   },
   {
    "duration": 19,
    "start_time": "2024-03-28T14:18:53.570Z"
   },
   {
    "duration": 216,
    "start_time": "2024-03-28T14:18:53.590Z"
   },
   {
    "duration": 200,
    "start_time": "2024-03-28T14:18:53.807Z"
   },
   {
    "duration": 25,
    "start_time": "2024-03-28T14:18:54.008Z"
   },
   {
    "duration": 295,
    "start_time": "2024-03-28T14:18:54.034Z"
   },
   {
    "duration": 25,
    "start_time": "2024-03-28T14:18:54.331Z"
   },
   {
    "duration": 28,
    "start_time": "2024-03-28T14:18:54.357Z"
   },
   {
    "duration": 15,
    "start_time": "2024-03-28T14:18:54.386Z"
   },
   {
    "duration": 38,
    "start_time": "2024-03-28T14:18:54.402Z"
   },
   {
    "duration": 54,
    "start_time": "2024-03-28T14:18:54.441Z"
   },
   {
    "duration": 26,
    "start_time": "2024-03-28T14:18:54.497Z"
   },
   {
    "duration": 12,
    "start_time": "2024-03-28T14:18:54.524Z"
   },
   {
    "duration": 96,
    "start_time": "2024-03-28T14:18:54.538Z"
   },
   {
    "duration": 205,
    "start_time": "2024-03-28T14:18:54.636Z"
   },
   {
    "duration": 34,
    "start_time": "2024-03-28T14:18:54.842Z"
   },
   {
    "duration": 9,
    "start_time": "2024-03-28T14:18:54.877Z"
   },
   {
    "duration": 32,
    "start_time": "2024-03-28T14:18:54.888Z"
   },
   {
    "duration": 43,
    "start_time": "2024-03-28T14:18:54.922Z"
   },
   {
    "duration": 24,
    "start_time": "2024-03-28T14:18:54.966Z"
   },
   {
    "duration": 30,
    "start_time": "2024-03-28T14:18:54.991Z"
   },
   {
    "duration": 18,
    "start_time": "2024-03-28T14:18:55.023Z"
   },
   {
    "duration": 33,
    "start_time": "2024-03-28T14:18:55.043Z"
   },
   {
    "duration": 59,
    "start_time": "2024-03-28T14:18:55.077Z"
   },
   {
    "duration": 39,
    "start_time": "2024-03-28T14:18:55.138Z"
   },
   {
    "duration": 38,
    "start_time": "2024-03-28T14:18:55.179Z"
   },
   {
    "duration": 60,
    "start_time": "2024-03-28T14:18:55.219Z"
   },
   {
    "duration": 74,
    "start_time": "2024-03-28T14:18:55.281Z"
   },
   {
    "duration": 83,
    "start_time": "2024-03-28T14:18:55.356Z"
   },
   {
    "duration": 83,
    "start_time": "2024-03-28T14:18:55.441Z"
   },
   {
    "duration": 3,
    "start_time": "2024-03-28T14:18:55.526Z"
   },
   {
    "duration": 21,
    "start_time": "2024-03-28T14:18:55.531Z"
   },
   {
    "duration": 36,
    "start_time": "2024-03-28T14:18:55.554Z"
   },
   {
    "duration": 21,
    "start_time": "2024-03-28T14:18:55.591Z"
   },
   {
    "duration": 50,
    "start_time": "2024-03-28T14:18:55.614Z"
   },
   {
    "duration": 33,
    "start_time": "2024-03-28T14:18:55.665Z"
   },
   {
    "duration": 38,
    "start_time": "2024-03-28T14:18:55.700Z"
   },
   {
    "duration": 41,
    "start_time": "2024-03-28T14:26:18.574Z"
   },
   {
    "duration": 101,
    "start_time": "2024-03-28T14:26:20.634Z"
   },
   {
    "duration": 33,
    "start_time": "2024-03-28T14:27:13.323Z"
   },
   {
    "duration": 9,
    "start_time": "2024-03-28T14:27:13.949Z"
   },
   {
    "duration": 34,
    "start_time": "2024-03-28T14:28:42.248Z"
   },
   {
    "duration": 35,
    "start_time": "2024-03-28T14:30:50.220Z"
   },
   {
    "duration": 9,
    "start_time": "2024-03-28T14:30:50.719Z"
   },
   {
    "duration": 5,
    "start_time": "2024-03-28T14:32:20.448Z"
   },
   {
    "duration": 61,
    "start_time": "2024-03-28T14:39:54.715Z"
   },
   {
    "duration": 14,
    "start_time": "2024-03-28T15:30:07.956Z"
   },
   {
    "duration": 18,
    "start_time": "2024-03-28T15:31:18.822Z"
   },
   {
    "duration": 13,
    "start_time": "2024-03-28T15:31:35.829Z"
   },
   {
    "duration": 12,
    "start_time": "2024-03-28T15:31:50.435Z"
   },
   {
    "duration": 14,
    "start_time": "2024-03-28T15:33:09.293Z"
   },
   {
    "duration": 3,
    "start_time": "2024-03-28T15:34:12.307Z"
   },
   {
    "duration": 13,
    "start_time": "2024-03-28T15:46:04.234Z"
   },
   {
    "duration": 9,
    "start_time": "2024-03-28T15:46:14.083Z"
   },
   {
    "duration": 9,
    "start_time": "2024-03-28T15:47:07.100Z"
   },
   {
    "duration": 10,
    "start_time": "2024-03-28T15:47:35.377Z"
   },
   {
    "duration": 53,
    "start_time": "2024-03-28T15:53:42.692Z"
   },
   {
    "duration": 9,
    "start_time": "2024-03-28T15:54:33.963Z"
   },
   {
    "duration": 1216,
    "start_time": "2024-03-28T15:54:56.733Z"
   },
   {
    "duration": 0,
    "start_time": "2024-03-28T15:54:57.953Z"
   },
   {
    "duration": 0,
    "start_time": "2024-03-28T15:54:57.954Z"
   },
   {
    "duration": 0,
    "start_time": "2024-03-28T15:54:57.955Z"
   },
   {
    "duration": 0,
    "start_time": "2024-03-28T15:54:57.957Z"
   },
   {
    "duration": 0,
    "start_time": "2024-03-28T15:54:57.958Z"
   },
   {
    "duration": 1,
    "start_time": "2024-03-28T15:54:57.959Z"
   },
   {
    "duration": 0,
    "start_time": "2024-03-28T15:54:57.961Z"
   },
   {
    "duration": 0,
    "start_time": "2024-03-28T15:54:57.962Z"
   },
   {
    "duration": 0,
    "start_time": "2024-03-28T15:54:57.964Z"
   },
   {
    "duration": 0,
    "start_time": "2024-03-28T15:54:57.965Z"
   },
   {
    "duration": 0,
    "start_time": "2024-03-28T15:54:57.966Z"
   },
   {
    "duration": 0,
    "start_time": "2024-03-28T15:54:57.967Z"
   },
   {
    "duration": 0,
    "start_time": "2024-03-28T15:54:57.968Z"
   },
   {
    "duration": 0,
    "start_time": "2024-03-28T15:54:57.969Z"
   },
   {
    "duration": 0,
    "start_time": "2024-03-28T15:54:57.970Z"
   },
   {
    "duration": 0,
    "start_time": "2024-03-28T15:54:57.970Z"
   },
   {
    "duration": 0,
    "start_time": "2024-03-28T15:54:57.971Z"
   },
   {
    "duration": 0,
    "start_time": "2024-03-28T15:54:57.972Z"
   },
   {
    "duration": 0,
    "start_time": "2024-03-28T15:54:57.973Z"
   },
   {
    "duration": 0,
    "start_time": "2024-03-28T15:54:57.974Z"
   },
   {
    "duration": 0,
    "start_time": "2024-03-28T15:54:57.975Z"
   },
   {
    "duration": 0,
    "start_time": "2024-03-28T15:54:57.976Z"
   },
   {
    "duration": 0,
    "start_time": "2024-03-28T15:54:57.977Z"
   },
   {
    "duration": 0,
    "start_time": "2024-03-28T15:54:57.978Z"
   },
   {
    "duration": 0,
    "start_time": "2024-03-28T15:54:57.979Z"
   },
   {
    "duration": 0,
    "start_time": "2024-03-28T15:54:58.018Z"
   },
   {
    "duration": 0,
    "start_time": "2024-03-28T15:54:58.019Z"
   },
   {
    "duration": 0,
    "start_time": "2024-03-28T15:54:58.020Z"
   },
   {
    "duration": 0,
    "start_time": "2024-03-28T15:54:58.021Z"
   },
   {
    "duration": 0,
    "start_time": "2024-03-28T15:54:58.022Z"
   },
   {
    "duration": 0,
    "start_time": "2024-03-28T15:54:58.024Z"
   },
   {
    "duration": 0,
    "start_time": "2024-03-28T15:54:58.024Z"
   },
   {
    "duration": 0,
    "start_time": "2024-03-28T15:54:58.026Z"
   },
   {
    "duration": 0,
    "start_time": "2024-03-28T15:54:58.027Z"
   },
   {
    "duration": 0,
    "start_time": "2024-03-28T15:54:58.027Z"
   },
   {
    "duration": 0,
    "start_time": "2024-03-28T15:54:58.028Z"
   },
   {
    "duration": 0,
    "start_time": "2024-03-28T15:54:58.029Z"
   },
   {
    "duration": 0,
    "start_time": "2024-03-28T15:54:58.030Z"
   },
   {
    "duration": 0,
    "start_time": "2024-03-28T15:54:58.031Z"
   },
   {
    "duration": 0,
    "start_time": "2024-03-28T15:54:58.032Z"
   },
   {
    "duration": 0,
    "start_time": "2024-03-28T15:54:58.033Z"
   },
   {
    "duration": 0,
    "start_time": "2024-03-28T15:54:58.034Z"
   },
   {
    "duration": 0,
    "start_time": "2024-03-28T15:54:58.035Z"
   },
   {
    "duration": 0,
    "start_time": "2024-03-28T15:54:58.036Z"
   },
   {
    "duration": 0,
    "start_time": "2024-03-28T15:54:58.037Z"
   },
   {
    "duration": 0,
    "start_time": "2024-03-28T15:54:58.038Z"
   },
   {
    "duration": 0,
    "start_time": "2024-03-28T15:54:58.039Z"
   },
   {
    "duration": 0,
    "start_time": "2024-03-28T15:54:58.040Z"
   },
   {
    "duration": 0,
    "start_time": "2024-03-28T15:54:58.041Z"
   },
   {
    "duration": 0,
    "start_time": "2024-03-28T15:54:58.042Z"
   },
   {
    "duration": 0,
    "start_time": "2024-03-28T15:54:58.043Z"
   },
   {
    "duration": 0,
    "start_time": "2024-03-28T15:54:58.044Z"
   },
   {
    "duration": 0,
    "start_time": "2024-03-28T15:54:58.045Z"
   },
   {
    "duration": 0,
    "start_time": "2024-03-28T15:54:58.045Z"
   },
   {
    "duration": 0,
    "start_time": "2024-03-28T15:54:58.046Z"
   },
   {
    "duration": 0,
    "start_time": "2024-03-28T15:54:58.047Z"
   },
   {
    "duration": 0,
    "start_time": "2024-03-28T15:54:58.048Z"
   },
   {
    "duration": 0,
    "start_time": "2024-03-28T15:54:58.049Z"
   },
   {
    "duration": 0,
    "start_time": "2024-03-28T15:54:58.050Z"
   },
   {
    "duration": 0,
    "start_time": "2024-03-28T15:54:58.050Z"
   },
   {
    "duration": 0,
    "start_time": "2024-03-28T15:54:58.051Z"
   },
   {
    "duration": 0,
    "start_time": "2024-03-28T15:54:58.052Z"
   },
   {
    "duration": 0,
    "start_time": "2024-03-28T15:54:58.053Z"
   },
   {
    "duration": 0,
    "start_time": "2024-03-28T15:54:58.118Z"
   },
   {
    "duration": 0,
    "start_time": "2024-03-28T15:54:58.119Z"
   },
   {
    "duration": 0,
    "start_time": "2024-03-28T15:54:58.120Z"
   },
   {
    "duration": 0,
    "start_time": "2024-03-28T15:54:58.121Z"
   },
   {
    "duration": 0,
    "start_time": "2024-03-28T15:54:58.123Z"
   },
   {
    "duration": 0,
    "start_time": "2024-03-28T15:54:58.124Z"
   },
   {
    "duration": 0,
    "start_time": "2024-03-28T15:54:58.125Z"
   },
   {
    "duration": 1138,
    "start_time": "2024-03-28T15:56:37.823Z"
   },
   {
    "duration": 286,
    "start_time": "2024-03-28T15:56:38.963Z"
   },
   {
    "duration": 13,
    "start_time": "2024-03-28T15:56:39.250Z"
   },
   {
    "duration": 21,
    "start_time": "2024-03-28T15:56:39.265Z"
   },
   {
    "duration": 35,
    "start_time": "2024-03-28T15:56:39.288Z"
   },
   {
    "duration": 2,
    "start_time": "2024-03-28T15:56:39.325Z"
   },
   {
    "duration": 140,
    "start_time": "2024-03-28T15:56:39.328Z"
   },
   {
    "duration": 20,
    "start_time": "2024-03-28T15:56:39.470Z"
   },
   {
    "duration": 27,
    "start_time": "2024-03-28T15:56:39.492Z"
   },
   {
    "duration": 10,
    "start_time": "2024-03-28T15:56:39.521Z"
   },
   {
    "duration": 9,
    "start_time": "2024-03-28T15:56:39.532Z"
   },
   {
    "duration": 46,
    "start_time": "2024-03-28T15:56:39.542Z"
   },
   {
    "duration": 6,
    "start_time": "2024-03-28T15:56:39.589Z"
   },
   {
    "duration": 22,
    "start_time": "2024-03-28T15:56:39.618Z"
   },
   {
    "duration": 230,
    "start_time": "2024-03-28T15:56:39.641Z"
   },
   {
    "duration": 5,
    "start_time": "2024-03-28T15:56:39.873Z"
   },
   {
    "duration": 6,
    "start_time": "2024-03-28T15:56:39.880Z"
   },
   {
    "duration": 355,
    "start_time": "2024-03-28T15:56:39.887Z"
   },
   {
    "duration": 251,
    "start_time": "2024-03-28T15:56:40.243Z"
   },
   {
    "duration": 25,
    "start_time": "2024-03-28T15:56:40.495Z"
   },
   {
    "duration": 18,
    "start_time": "2024-03-28T15:56:40.522Z"
   },
   {
    "duration": 262,
    "start_time": "2024-03-28T15:56:40.541Z"
   },
   {
    "duration": 31,
    "start_time": "2024-03-28T15:56:40.804Z"
   },
   {
    "duration": 23,
    "start_time": "2024-03-28T15:56:40.836Z"
   },
   {
    "duration": 4,
    "start_time": "2024-03-28T15:56:40.860Z"
   },
   {
    "duration": 224,
    "start_time": "2024-03-28T15:56:40.865Z"
   },
   {
    "duration": 65,
    "start_time": "2024-03-28T15:56:41.090Z"
   },
   {
    "duration": 2,
    "start_time": "2024-03-28T15:56:41.159Z"
   },
   {
    "duration": 15,
    "start_time": "2024-03-28T15:56:41.163Z"
   },
   {
    "duration": 9,
    "start_time": "2024-03-28T15:56:41.179Z"
   },
   {
    "duration": 28,
    "start_time": "2024-03-28T15:56:41.190Z"
   },
   {
    "duration": 82,
    "start_time": "2024-03-28T15:56:41.220Z"
   },
   {
    "duration": 35,
    "start_time": "2024-03-28T15:56:41.304Z"
   },
   {
    "duration": 20,
    "start_time": "2024-03-28T15:56:41.341Z"
   },
   {
    "duration": 17,
    "start_time": "2024-03-28T15:56:41.363Z"
   },
   {
    "duration": 236,
    "start_time": "2024-03-28T15:56:41.381Z"
   },
   {
    "duration": 207,
    "start_time": "2024-03-28T15:56:41.619Z"
   },
   {
    "duration": 22,
    "start_time": "2024-03-28T15:56:41.827Z"
   },
   {
    "duration": 309,
    "start_time": "2024-03-28T15:56:41.851Z"
   },
   {
    "duration": 23,
    "start_time": "2024-03-28T15:56:42.162Z"
   },
   {
    "duration": 35,
    "start_time": "2024-03-28T15:56:42.186Z"
   },
   {
    "duration": 6,
    "start_time": "2024-03-28T15:56:42.222Z"
   },
   {
    "duration": 19,
    "start_time": "2024-03-28T15:56:42.229Z"
   },
   {
    "duration": 32,
    "start_time": "2024-03-28T15:56:42.249Z"
   },
   {
    "duration": 21,
    "start_time": "2024-03-28T15:56:42.282Z"
   },
   {
    "duration": 2,
    "start_time": "2024-03-28T15:56:42.305Z"
   },
   {
    "duration": 77,
    "start_time": "2024-03-28T15:56:42.309Z"
   },
   {
    "duration": 199,
    "start_time": "2024-03-28T15:56:42.387Z"
   },
   {
    "duration": 42,
    "start_time": "2024-03-28T15:56:42.588Z"
   },
   {
    "duration": 9,
    "start_time": "2024-03-28T15:56:42.631Z"
   },
   {
    "duration": 15,
    "start_time": "2024-03-28T15:56:42.641Z"
   },
   {
    "duration": 18,
    "start_time": "2024-03-28T15:56:42.657Z"
   },
   {
    "duration": 10,
    "start_time": "2024-03-28T15:56:42.676Z"
   },
   {
    "duration": 12,
    "start_time": "2024-03-28T15:56:42.688Z"
   },
   {
    "duration": 23,
    "start_time": "2024-03-28T15:56:42.702Z"
   },
   {
    "duration": 10,
    "start_time": "2024-03-28T15:56:42.726Z"
   },
   {
    "duration": 9,
    "start_time": "2024-03-28T15:56:42.738Z"
   },
   {
    "duration": 11,
    "start_time": "2024-03-28T15:56:42.749Z"
   },
   {
    "duration": 20,
    "start_time": "2024-03-28T15:56:42.761Z"
   },
   {
    "duration": 56,
    "start_time": "2024-03-28T15:56:42.783Z"
   },
   {
    "duration": 42,
    "start_time": "2024-03-28T15:56:42.841Z"
   },
   {
    "duration": 96,
    "start_time": "2024-03-28T15:56:42.885Z"
   },
   {
    "duration": 81,
    "start_time": "2024-03-28T15:56:42.983Z"
   },
   {
    "duration": 75,
    "start_time": "2024-03-28T15:56:43.065Z"
   },
   {
    "duration": 3,
    "start_time": "2024-03-28T15:56:43.141Z"
   },
   {
    "duration": 11,
    "start_time": "2024-03-28T15:56:43.145Z"
   },
   {
    "duration": 3,
    "start_time": "2024-03-28T15:56:43.157Z"
   },
   {
    "duration": 4,
    "start_time": "2024-03-28T15:56:43.162Z"
   },
   {
    "duration": 4,
    "start_time": "2024-03-28T15:56:43.167Z"
   },
   {
    "duration": 5,
    "start_time": "2024-03-28T15:56:43.172Z"
   },
   {
    "duration": 4,
    "start_time": "2024-03-28T15:56:43.179Z"
   },
   {
    "duration": 1357,
    "start_time": "2024-03-29T02:26:51.322Z"
   },
   {
    "duration": 392,
    "start_time": "2024-03-29T02:26:52.681Z"
   },
   {
    "duration": 14,
    "start_time": "2024-03-29T02:26:53.075Z"
   },
   {
    "duration": 36,
    "start_time": "2024-03-29T02:26:53.090Z"
   },
   {
    "duration": 16,
    "start_time": "2024-03-29T02:26:53.127Z"
   },
   {
    "duration": 2,
    "start_time": "2024-03-29T02:26:53.144Z"
   },
   {
    "duration": 141,
    "start_time": "2024-03-29T02:26:53.148Z"
   },
   {
    "duration": 31,
    "start_time": "2024-03-29T02:26:53.291Z"
   },
   {
    "duration": 12,
    "start_time": "2024-03-29T02:26:53.324Z"
   },
   {
    "duration": 10,
    "start_time": "2024-03-29T02:26:53.338Z"
   },
   {
    "duration": 9,
    "start_time": "2024-03-29T02:26:53.350Z"
   },
   {
    "duration": 77,
    "start_time": "2024-03-29T02:26:53.361Z"
   },
   {
    "duration": 6,
    "start_time": "2024-03-29T02:26:53.439Z"
   },
   {
    "duration": 22,
    "start_time": "2024-03-29T02:26:53.446Z"
   },
   {
    "duration": 221,
    "start_time": "2024-03-29T02:26:53.469Z"
   },
   {
    "duration": 6,
    "start_time": "2024-03-29T02:26:53.692Z"
   },
   {
    "duration": 21,
    "start_time": "2024-03-29T02:26:53.700Z"
   },
   {
    "duration": 350,
    "start_time": "2024-03-29T02:26:53.723Z"
   },
   {
    "duration": 252,
    "start_time": "2024-03-29T02:26:54.074Z"
   },
   {
    "duration": 17,
    "start_time": "2024-03-29T02:26:54.328Z"
   },
   {
    "duration": 20,
    "start_time": "2024-03-29T02:26:54.347Z"
   },
   {
    "duration": 276,
    "start_time": "2024-03-29T02:26:54.368Z"
   },
   {
    "duration": 27,
    "start_time": "2024-03-29T02:26:54.646Z"
   },
   {
    "duration": 45,
    "start_time": "2024-03-29T02:26:54.675Z"
   },
   {
    "duration": 5,
    "start_time": "2024-03-29T02:26:54.722Z"
   },
   {
    "duration": 213,
    "start_time": "2024-03-29T02:26:54.729Z"
   },
   {
    "duration": 54,
    "start_time": "2024-03-29T02:26:54.944Z"
   },
   {
    "duration": 3,
    "start_time": "2024-03-29T02:26:55.017Z"
   },
   {
    "duration": 14,
    "start_time": "2024-03-29T02:26:55.021Z"
   },
   {
    "duration": 11,
    "start_time": "2024-03-29T02:26:55.036Z"
   },
   {
    "duration": 7,
    "start_time": "2024-03-29T02:26:55.048Z"
   },
   {
    "duration": 109,
    "start_time": "2024-03-29T02:26:55.056Z"
   },
   {
    "duration": 28,
    "start_time": "2024-03-29T02:26:55.166Z"
   },
   {
    "duration": 36,
    "start_time": "2024-03-29T02:26:55.196Z"
   },
   {
    "duration": 15,
    "start_time": "2024-03-29T02:26:55.234Z"
   },
   {
    "duration": 221,
    "start_time": "2024-03-29T02:26:55.251Z"
   },
   {
    "duration": 215,
    "start_time": "2024-03-29T02:26:55.473Z"
   },
   {
    "duration": 29,
    "start_time": "2024-03-29T02:26:55.690Z"
   },
   {
    "duration": 292,
    "start_time": "2024-03-29T02:26:55.721Z"
   },
   {
    "duration": 23,
    "start_time": "2024-03-29T02:26:56.017Z"
   },
   {
    "duration": 23,
    "start_time": "2024-03-29T02:26:56.042Z"
   },
   {
    "duration": 5,
    "start_time": "2024-03-29T02:26:56.067Z"
   },
   {
    "duration": 5,
    "start_time": "2024-03-29T02:26:56.074Z"
   },
   {
    "duration": 51,
    "start_time": "2024-03-29T02:26:56.081Z"
   },
   {
    "duration": 24,
    "start_time": "2024-03-29T02:26:56.133Z"
   },
   {
    "duration": 2,
    "start_time": "2024-03-29T02:26:56.159Z"
   },
   {
    "duration": 84,
    "start_time": "2024-03-29T02:26:56.163Z"
   },
   {
    "duration": 217,
    "start_time": "2024-03-29T02:26:56.248Z"
   },
   {
    "duration": 34,
    "start_time": "2024-03-29T02:26:56.467Z"
   },
   {
    "duration": 19,
    "start_time": "2024-03-29T02:26:56.503Z"
   },
   {
    "duration": 7,
    "start_time": "2024-03-29T02:26:56.524Z"
   },
   {
    "duration": 13,
    "start_time": "2024-03-29T02:26:56.533Z"
   },
   {
    "duration": 12,
    "start_time": "2024-03-29T02:26:56.548Z"
   },
   {
    "duration": 15,
    "start_time": "2024-03-29T02:26:56.562Z"
   },
   {
    "duration": 11,
    "start_time": "2024-03-29T02:26:56.579Z"
   },
   {
    "duration": 31,
    "start_time": "2024-03-29T02:26:56.591Z"
   },
   {
    "duration": 13,
    "start_time": "2024-03-29T02:26:56.624Z"
   },
   {
    "duration": 10,
    "start_time": "2024-03-29T02:26:56.639Z"
   },
   {
    "duration": 17,
    "start_time": "2024-03-29T02:26:56.651Z"
   },
   {
    "duration": 61,
    "start_time": "2024-03-29T02:26:56.670Z"
   },
   {
    "duration": 44,
    "start_time": "2024-03-29T02:26:56.733Z"
   },
   {
    "duration": 119,
    "start_time": "2024-03-29T02:26:56.779Z"
   },
   {
    "duration": 81,
    "start_time": "2024-03-29T02:26:56.900Z"
   },
   {
    "duration": 78,
    "start_time": "2024-03-29T02:26:56.983Z"
   },
   {
    "duration": 3,
    "start_time": "2024-03-29T02:26:57.062Z"
   },
   {
    "duration": 11,
    "start_time": "2024-03-29T02:26:57.066Z"
   },
   {
    "duration": 5,
    "start_time": "2024-03-29T02:26:57.078Z"
   },
   {
    "duration": 8,
    "start_time": "2024-03-29T02:26:57.084Z"
   },
   {
    "duration": 5,
    "start_time": "2024-03-29T02:26:57.094Z"
   },
   {
    "duration": 14,
    "start_time": "2024-03-29T02:26:57.100Z"
   },
   {
    "duration": 2,
    "start_time": "2024-03-29T02:26:57.117Z"
   }
  ],
  "kernelspec": {
   "display_name": "Python 3 (ipykernel)",
   "language": "python",
   "name": "python3"
  },
  "language_info": {
   "codemirror_mode": {
    "name": "ipython",
    "version": 3
   },
   "file_extension": ".py",
   "mimetype": "text/x-python",
   "name": "python",
   "nbconvert_exporter": "python",
   "pygments_lexer": "ipython3",
   "version": "3.11.5"
  },
  "toc": {
   "base_numbering": 1,
   "nav_menu": {},
   "number_sections": true,
   "sideBar": true,
   "skip_h1_title": true,
   "title_cell": "Table of Contents",
   "title_sidebar": "Contents",
   "toc_cell": false,
   "toc_position": {
    "height": "calc(100% - 180px)",
    "left": "10px",
    "top": "150px",
    "width": "269.183px"
   },
   "toc_section_display": true,
   "toc_window_display": true
  }
 },
 "nbformat": 4,
 "nbformat_minor": 2
}
